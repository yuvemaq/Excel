{
 "cells": [
  {
   "cell_type": "markdown",
   "id": "39feebc5",
   "metadata": {
    "toc": true
   },
   "source": [
    "<h1>Table of Contents<span class=\"tocSkip\"></span></h1>\n",
    "<div class=\"toc\"><ul class=\"toc-item\"><li><span><a href=\"#Data-Acquisition-&amp;-Cleaning\" data-toc-modified-id=\"Data-Acquisition-&amp;-Cleaning-1\"><span class=\"toc-item-num\">1&nbsp;&nbsp;</span>Data Acquisition &amp; Cleaning</a></span></li><li><span><a href=\"#Early-Viz/EDA\" data-toc-modified-id=\"Early-Viz/EDA-2\"><span class=\"toc-item-num\">2&nbsp;&nbsp;</span>Early Viz/EDA</a></span></li><li><span><a href=\"#OneHot-Encoding\" data-toc-modified-id=\"OneHot-Encoding-3\"><span class=\"toc-item-num\">3&nbsp;&nbsp;</span>OneHot Encoding</a></span></li><li><span><a href=\"#Random-Forest\" data-toc-modified-id=\"Random-Forest-4\"><span class=\"toc-item-num\">4&nbsp;&nbsp;</span>Random Forest</a></span></li><li><span><a href=\"#XGBoost\" data-toc-modified-id=\"XGBoost-5\"><span class=\"toc-item-num\">5&nbsp;&nbsp;</span>XGBoost</a></span></li><li><span><a href=\"#Conclusions\" data-toc-modified-id=\"Conclusions-6\"><span class=\"toc-item-num\">6&nbsp;&nbsp;</span>Conclusions</a></span></li></ul></div>"
   ]
  },
  {
   "cell_type": "code",
   "execution_count": 166,
   "id": "88254dbf",
   "metadata": {},
   "outputs": [],
   "source": [
    "import pandas as pd\n",
    "import numpy as np\n",
    "import seaborn as sns\n",
    "import matplotlib.pyplot as pyplot\n",
    "%matplotlib inline"
   ]
  },
  {
   "cell_type": "markdown",
   "id": "364ddef6",
   "metadata": {},
   "source": [
    "# Data Acquisition & Cleaning"
   ]
  },
  {
   "cell_type": "code",
   "execution_count": 167,
   "id": "d7102079",
   "metadata": {},
   "outputs": [
    {
     "name": "stdout",
     "output_type": "stream",
     "text": [
      "<class 'pandas.core.frame.DataFrame'>\n",
      "RangeIndex: 190795 entries, 0 to 190794\n",
      "Data columns (total 22 columns):\n",
      " #   Column                      Non-Null Count   Dtype         \n",
      "---  ------                      --------------   -----         \n",
      " 0   Name                        190795 non-null  object        \n",
      " 1   Program Identifier          190732 non-null  object        \n",
      " 2   Inspection Date             190490 non-null  datetime64[ns]\n",
      " 3   Description                 190795 non-null  object        \n",
      " 4   Address                     190766 non-null  object        \n",
      " 5   City                        190795 non-null  object        \n",
      " 6   Zip Code                    190795 non-null  int64         \n",
      " 7   Phone                       123246 non-null  object        \n",
      " 8   Longitude                   190537 non-null  float64       \n",
      " 9   Latitude                    190537 non-null  float64       \n",
      " 10  Inspection Business Name    190490 non-null  object        \n",
      " 11  Inspection Type             190490 non-null  object        \n",
      " 12  Inspection Score            190410 non-null  float64       \n",
      " 13  Inspection Result           190490 non-null  object        \n",
      " 14  Inspection Closed Business  190490 non-null  float64       \n",
      " 15  Violation Type              108854 non-null  object        \n",
      " 16  Violation Description       108854 non-null  object        \n",
      " 17  Violation Points            190795 non-null  int64         \n",
      " 18  Business_ID                 190795 non-null  object        \n",
      " 19  Inspection_Serial_Num       190490 non-null  object        \n",
      " 20  Violation_Record_ID         108854 non-null  object        \n",
      " 21  Location                    0 non-null       float64       \n",
      "dtypes: datetime64[ns](1), float64(5), int64(2), object(14)\n",
      "memory usage: 32.0+ MB\n"
     ]
    }
   ],
   "source": [
    "path = r'Q:\\ExcelDataAnalysis-BusinessModeling\\food_inspection_xls.xlsx'\n",
    "df = pd.read_excel(path)\n",
    "df.info()"
   ]
  },
  {
   "cell_type": "code",
   "execution_count": 168,
   "id": "e4756e71",
   "metadata": {},
   "outputs": [
    {
     "data": {
      "text/plain": [
       "array(['SEATTLE', 'Seattle', 'Renton', 'BELLEVUE', 'KENT', 'KENMORE',\n",
       "       'Bellevue', 'Issaquah', 'Bothell', 'WOODINVILLE', 'Kent', 'RENTON',\n",
       "       'FEDERAL WAY', 'Kirkland', 'Auburn', 'BURIEN', 'Federal Way',\n",
       "       'DES MOINES', 'SHORELINE', 'Redmond', 'Woodinville',\n",
       "       'Maple Valley', 'BLACK DIAMOND', 'REDMOND', 'BOTHELL', 'COVINGTON',\n",
       "       'AUBURN', 'KIRKLAND', 'SNOQUALMIE', 'ENUMCLAW', 'TUKWILA',\n",
       "       'LAKE FOREST PARK', 'SAMMAMISH', 'ISSAQUAH', 'MAPLE VALLEY',\n",
       "       'NORMANDY PARK', 'MERCER ISLAND', 'NORTH BEND', 'SEA TAC',\n",
       "       'VASHON ISLAND', 'SEATAC', 'Mercer Island', 'Pacific', 'NEWCASTLE',\n",
       "       'North Bend', 'Duvall', 'SEAHURST', 'Enumclaw', 'CLYDE HILL',\n",
       "       'DUVALL', 'SNOQUALMIE PASS', 'PACIFIC', 'Black Diamond',\n",
       "       'Snoqualmie', 'Carnation', 'PRESTON', 'KING COUNTY', 'Vashon',\n",
       "       'CARNATION', 'Skykomish', 'Fall City', 'ALGONA', 'SEATTLE, SOUTH',\n",
       "       'Baring', 'FALL CITY', 'LYNNWOOD', 'MOUNTLAKE TERRACE', 'HOBART',\n",
       "       'EVERETT', 'RAVENSDALE', 'MEDINA', 'Medina', 'Ravensdale',\n",
       "       'OUT OF KING COUNTY', 'SKYKOMISH', 'TACOMA'], dtype=object)"
      ]
     },
     "execution_count": 168,
     "metadata": {},
     "output_type": "execute_result"
    }
   ],
   "source": [
    "# Look at the unique city names\n",
    "df['City'].unique()"
   ]
  },
  {
   "cell_type": "code",
   "execution_count": 169,
   "id": "f23ec4aa",
   "metadata": {},
   "outputs": [],
   "source": [
    "df['City'] = df['City'].astype(str)"
   ]
  },
  {
   "cell_type": "code",
   "execution_count": 170,
   "id": "dc9691b6",
   "metadata": {},
   "outputs": [],
   "source": [
    "# Remove symbols in phone number\n",
    "df['Phone'] = df['Phone'].str.replace(pat=\"\\(|\\)|-|=\", repl=\"\", regex=True)"
   ]
  },
  {
   "cell_type": "code",
   "execution_count": 171,
   "id": "ea2276ab",
   "metadata": {},
   "outputs": [],
   "source": [
    "# Remove letters in phone number\n",
    "df['Phone'] = df['Phone'].str.replace(pat=\"EXT\", repl=\"\", regex=True)"
   ]
  },
  {
   "cell_type": "code",
   "execution_count": 172,
   "id": "0b47189c",
   "metadata": {},
   "outputs": [],
   "source": [
    "# Remove letters in phone number\n",
    "df['Phone'] = df['Phone'].str.replace(pat=\"X\", repl=\"\", regex=True)"
   ]
  },
  {
   "cell_type": "code",
   "execution_count": 173,
   "id": "0007f240",
   "metadata": {},
   "outputs": [],
   "source": [
    "df['Phone'] = df['Phone'].str.replace(' ', '')"
   ]
  },
  {
   "cell_type": "code",
   "execution_count": 174,
   "id": "3263cc70",
   "metadata": {},
   "outputs": [
    {
     "data": {
      "text/plain": [
       "array(['2069471460', nan, '2062714968', ..., '3606980417', '2065750500',\n",
       "       '2067818600'], dtype=object)"
      ]
     },
     "execution_count": 174,
     "metadata": {},
     "output_type": "execute_result"
    }
   ],
   "source": [
    "df['Phone'].unique()"
   ]
  },
  {
   "cell_type": "code",
   "execution_count": 175,
   "id": "058eca62",
   "metadata": {},
   "outputs": [],
   "source": [
    "#"
   ]
  },
  {
   "cell_type": "code",
   "execution_count": 176,
   "id": "344f1df6",
   "metadata": {},
   "outputs": [],
   "source": [
    "# Remove NaNs\n",
    "df = df[df['Phone'].notna()]\n",
    "df = df[df['Phone'] != 'nan']"
   ]
  },
  {
   "cell_type": "code",
   "execution_count": 177,
   "id": "210cfaf8",
   "metadata": {},
   "outputs": [],
   "source": [
    "# Remove NaNs\n",
    "df = df[df['Inspection Score'].notna()]\n",
    "df = df[df['Inspection Score'] != 'nan']"
   ]
  },
  {
   "cell_type": "code",
   "execution_count": 178,
   "id": "9ad29ecc",
   "metadata": {},
   "outputs": [],
   "source": [
    "#"
   ]
  },
  {
   "cell_type": "code",
   "execution_count": 179,
   "id": "9f587d9a",
   "metadata": {},
   "outputs": [
    {
     "data": {
      "text/plain": [
       "0         2069471460\n",
       "1         2069471460\n",
       "2         2069471460\n",
       "3         2069471460\n",
       "4         2069471460\n",
       "             ...    \n",
       "190790    2067818600\n",
       "190791    2067818600\n",
       "190792    2067818600\n",
       "190793    2067818600\n",
       "190794    2067818600\n",
       "Name: Phone, Length: 122934, dtype: object"
      ]
     },
     "execution_count": 179,
     "metadata": {},
     "output_type": "execute_result"
    }
   ],
   "source": [
    "df['Phone'].apply(lambda x: ' '.join(x[:10].split(' ')[:-1]) if len(x) > 10 else x)"
   ]
  },
  {
   "cell_type": "code",
   "execution_count": 180,
   "id": "d2359829",
   "metadata": {},
   "outputs": [],
   "source": [
    "# Convert inspection score to int\n",
    "df['Inspection Score'] = df['Inspection Score'].astype(int)"
   ]
  },
  {
   "cell_type": "code",
   "execution_count": 181,
   "id": "c69de797",
   "metadata": {},
   "outputs": [
    {
     "data": {
      "text/plain": [
       "array(['2069471460', '2062714968', '4253731068', ..., '3606980417',\n",
       "       '2065750500', '2067818600'], dtype=object)"
      ]
     },
     "execution_count": 181,
     "metadata": {},
     "output_type": "execute_result"
    }
   ],
   "source": [
    "# look at column values again\n",
    "df['Phone'].unique()"
   ]
  },
  {
   "cell_type": "code",
   "execution_count": 182,
   "id": "aca8bdd9",
   "metadata": {},
   "outputs": [
    {
     "data": {
      "text/plain": [
       "array([ 25,   0,   5,  20,  30,   8,  13,  10,  38,  28,   3,  12,  55,\n",
       "        40,  23,  35,  18,  15,  50,   2,  26,  45,  47,  37,  41,  51,\n",
       "        33,   7,  32,  22,   4,  58,  17,  65,  60,  27,  21,   6,  43,\n",
       "        36,  88,  70, 100,  48,  63,  24,  19,  16, 103,  31,  75,  11,\n",
       "        52,  53,  68,  57,  64,  34,  42,  46,  44,  82,  80, 110,  90,\n",
       "        67,  14,  39,  29,  56,  85,  61,  59,  72,  73,  74, 152,  71,\n",
       "        62,  87,  66,  98,   9,  86,  93,  96,  95,  54,  78, 122,  83,\n",
       "       168,  81, 126,  49, 118,  91, 105, 138,  99, 104, 108, 101, 136,\n",
       "        92,  76,  69, 135,  77, 129, 151,  94, 690, 195, 149, 120, 128,\n",
       "       166, 125, -30, 111, 102, 109, 132])"
      ]
     },
     "execution_count": 182,
     "metadata": {},
     "output_type": "execute_result"
    }
   ],
   "source": [
    "df['Inspection Score'].unique()"
   ]
  },
  {
   "cell_type": "code",
   "execution_count": 183,
   "id": "f449b057",
   "metadata": {},
   "outputs": [],
   "source": [
    "df = df[df['Inspection Score'] > 0]"
   ]
  },
  {
   "cell_type": "code",
   "execution_count": 184,
   "id": "3f84e193",
   "metadata": {},
   "outputs": [
    {
     "data": {
      "text/plain": [
       "array([ 25,   5,  20,  30,   8,  13,  10,  38,  28,   3,  12,  55,  40,\n",
       "        23,  35,  18,  15,  50,   2,  26,  45,  47,  37,  41,  51,  33,\n",
       "         7,  32,  22,   4,  58,  17,  65,  60,  27,  21,   6,  43,  36,\n",
       "        88,  70, 100,  48,  63,  24,  19,  16, 103,  31,  75,  11,  52,\n",
       "        53,  68,  57,  64,  34,  42,  46,  44,  82,  80, 110,  90,  67,\n",
       "        14,  39,  29,  56,  85,  61,  59,  72,  73,  74, 152,  71,  62,\n",
       "        87,  66,  98,   9,  86,  93,  96,  95,  54,  78, 122,  83, 168,\n",
       "        81, 126,  49, 118,  91, 105, 138,  99, 104, 108, 101, 136,  92,\n",
       "        76,  69, 135,  77, 129, 151,  94, 690, 195, 149, 120, 128, 166,\n",
       "       125, 111, 102, 109, 132])"
      ]
     },
     "execution_count": 184,
     "metadata": {},
     "output_type": "execute_result"
    }
   ],
   "source": [
    "df['Inspection Score'].unique()"
   ]
  },
  {
   "cell_type": "code",
   "execution_count": 185,
   "id": "9cdc1231",
   "metadata": {},
   "outputs": [
    {
     "name": "stdout",
     "output_type": "stream",
     "text": [
      "74469\n"
     ]
    }
   ],
   "source": [
    "print(len(df))"
   ]
  },
  {
   "cell_type": "code",
   "execution_count": 186,
   "id": "3fcae6ea",
   "metadata": {},
   "outputs": [
    {
     "data": {
      "text/html": [
       "<div>\n",
       "<style scoped>\n",
       "    .dataframe tbody tr th:only-of-type {\n",
       "        vertical-align: middle;\n",
       "    }\n",
       "\n",
       "    .dataframe tbody tr th {\n",
       "        vertical-align: top;\n",
       "    }\n",
       "\n",
       "    .dataframe thead th {\n",
       "        text-align: right;\n",
       "    }\n",
       "</style>\n",
       "<table border=\"1\" class=\"dataframe\">\n",
       "  <thead>\n",
       "    <tr style=\"text-align: right;\">\n",
       "      <th></th>\n",
       "      <th>Name</th>\n",
       "      <th>Program Identifier</th>\n",
       "      <th>Inspection Date</th>\n",
       "      <th>Description</th>\n",
       "      <th>Address</th>\n",
       "      <th>City</th>\n",
       "      <th>Zip Code</th>\n",
       "      <th>Phone</th>\n",
       "      <th>Longitude</th>\n",
       "      <th>Latitude</th>\n",
       "      <th>...</th>\n",
       "      <th>Inspection Score</th>\n",
       "      <th>Inspection Result</th>\n",
       "      <th>Inspection Closed Business</th>\n",
       "      <th>Violation Type</th>\n",
       "      <th>Violation Description</th>\n",
       "      <th>Violation Points</th>\n",
       "      <th>Business_ID</th>\n",
       "      <th>Inspection_Serial_Num</th>\n",
       "      <th>Violation_Record_ID</th>\n",
       "      <th>Location</th>\n",
       "    </tr>\n",
       "  </thead>\n",
       "  <tbody>\n",
       "    <tr>\n",
       "      <th>0</th>\n",
       "      <td>@ The PEAK</td>\n",
       "      <td>@ The PEAK</td>\n",
       "      <td>2013-01-25</td>\n",
       "      <td>Seating 13-50 - Risk Category III</td>\n",
       "      <td>401 BROADWAY</td>\n",
       "      <td>SEATTLE</td>\n",
       "      <td>98122</td>\n",
       "      <td>2069471460</td>\n",
       "      <td>-122.321198</td>\n",
       "      <td>47.605624</td>\n",
       "      <td>...</td>\n",
       "      <td>25</td>\n",
       "      <td>Unsatisfactory</td>\n",
       "      <td>0.0</td>\n",
       "      <td>blue</td>\n",
       "      <td>Warewashing facilities not properly installed,...</td>\n",
       "      <td>5</td>\n",
       "      <td>PR0071429</td>\n",
       "      <td>DA2409066</td>\n",
       "      <td>IV6475299</td>\n",
       "      <td>NaN</td>\n",
       "    </tr>\n",
       "    <tr>\n",
       "      <th>1</th>\n",
       "      <td>@ The PEAK</td>\n",
       "      <td>@ The PEAK</td>\n",
       "      <td>2013-01-25</td>\n",
       "      <td>Seating 13-50 - Risk Category III</td>\n",
       "      <td>401 BROADWAY</td>\n",
       "      <td>SEATTLE</td>\n",
       "      <td>98122</td>\n",
       "      <td>2069471460</td>\n",
       "      <td>-122.321198</td>\n",
       "      <td>47.605624</td>\n",
       "      <td>...</td>\n",
       "      <td>25</td>\n",
       "      <td>Unsatisfactory</td>\n",
       "      <td>0.0</td>\n",
       "      <td>blue</td>\n",
       "      <td>Wiping cloths improperly used, stored</td>\n",
       "      <td>5</td>\n",
       "      <td>PR0071429</td>\n",
       "      <td>DA2409066</td>\n",
       "      <td>IV6475303</td>\n",
       "      <td>NaN</td>\n",
       "    </tr>\n",
       "    <tr>\n",
       "      <th>2</th>\n",
       "      <td>@ The PEAK</td>\n",
       "      <td>@ The PEAK</td>\n",
       "      <td>2013-01-25</td>\n",
       "      <td>Seating 13-50 - Risk Category III</td>\n",
       "      <td>401 BROADWAY</td>\n",
       "      <td>SEATTLE</td>\n",
       "      <td>98122</td>\n",
       "      <td>2069471460</td>\n",
       "      <td>-122.321198</td>\n",
       "      <td>47.605624</td>\n",
       "      <td>...</td>\n",
       "      <td>25</td>\n",
       "      <td>Unsatisfactory</td>\n",
       "      <td>0.0</td>\n",
       "      <td>red</td>\n",
       "      <td>Food worker card not available or current, new...</td>\n",
       "      <td>5</td>\n",
       "      <td>PR0071429</td>\n",
       "      <td>DA2409066</td>\n",
       "      <td>IV6475296</td>\n",
       "      <td>NaN</td>\n",
       "    </tr>\n",
       "    <tr>\n",
       "      <th>3</th>\n",
       "      <td>@ The PEAK</td>\n",
       "      <td>@ The PEAK</td>\n",
       "      <td>2013-01-25</td>\n",
       "      <td>Seating 13-50 - Risk Category III</td>\n",
       "      <td>401 BROADWAY</td>\n",
       "      <td>SEATTLE</td>\n",
       "      <td>98122</td>\n",
       "      <td>2069471460</td>\n",
       "      <td>-122.321198</td>\n",
       "      <td>47.605624</td>\n",
       "      <td>...</td>\n",
       "      <td>25</td>\n",
       "      <td>Unsatisfactory</td>\n",
       "      <td>0.0</td>\n",
       "      <td>red</td>\n",
       "      <td>Inadequate hand washing facilities</td>\n",
       "      <td>10</td>\n",
       "      <td>PR0071429</td>\n",
       "      <td>DA2409066</td>\n",
       "      <td>IV6475278</td>\n",
       "      <td>NaN</td>\n",
       "    </tr>\n",
       "    <tr>\n",
       "      <th>5</th>\n",
       "      <td>@ The PEAK</td>\n",
       "      <td>@ The PEAK</td>\n",
       "      <td>2012-05-02</td>\n",
       "      <td>Seating 13-50 - Risk Category III</td>\n",
       "      <td>401 BROADWAY</td>\n",
       "      <td>SEATTLE</td>\n",
       "      <td>98122</td>\n",
       "      <td>2069471460</td>\n",
       "      <td>-122.321198</td>\n",
       "      <td>47.605624</td>\n",
       "      <td>...</td>\n",
       "      <td>5</td>\n",
       "      <td>Satisfactory</td>\n",
       "      <td>0.0</td>\n",
       "      <td>blue</td>\n",
       "      <td>Warewashing facilities not properly installed,...</td>\n",
       "      <td>5</td>\n",
       "      <td>PR0071429</td>\n",
       "      <td>DA2330069</td>\n",
       "      <td>IV5290066</td>\n",
       "      <td>NaN</td>\n",
       "    </tr>\n",
       "  </tbody>\n",
       "</table>\n",
       "<p>5 rows × 22 columns</p>\n",
       "</div>"
      ],
      "text/plain": [
       "         Name Program Identifier Inspection Date  \\\n",
       "0  @ The PEAK         @ The PEAK      2013-01-25   \n",
       "1  @ The PEAK         @ The PEAK      2013-01-25   \n",
       "2  @ The PEAK         @ The PEAK      2013-01-25   \n",
       "3  @ The PEAK         @ The PEAK      2013-01-25   \n",
       "5  @ The PEAK         @ The PEAK      2012-05-02   \n",
       "\n",
       "                         Description        Address     City  Zip Code  \\\n",
       "0  Seating 13-50 - Risk Category III  401 BROADWAY   SEATTLE     98122   \n",
       "1  Seating 13-50 - Risk Category III  401 BROADWAY   SEATTLE     98122   \n",
       "2  Seating 13-50 - Risk Category III  401 BROADWAY   SEATTLE     98122   \n",
       "3  Seating 13-50 - Risk Category III  401 BROADWAY   SEATTLE     98122   \n",
       "5  Seating 13-50 - Risk Category III  401 BROADWAY   SEATTLE     98122   \n",
       "\n",
       "        Phone   Longitude   Latitude  ... Inspection Score Inspection Result  \\\n",
       "0  2069471460 -122.321198  47.605624  ...               25    Unsatisfactory   \n",
       "1  2069471460 -122.321198  47.605624  ...               25    Unsatisfactory   \n",
       "2  2069471460 -122.321198  47.605624  ...               25    Unsatisfactory   \n",
       "3  2069471460 -122.321198  47.605624  ...               25    Unsatisfactory   \n",
       "5  2069471460 -122.321198  47.605624  ...                5      Satisfactory   \n",
       "\n",
       "   Inspection Closed Business Violation Type  \\\n",
       "0                         0.0           blue   \n",
       "1                         0.0           blue   \n",
       "2                         0.0            red   \n",
       "3                         0.0            red   \n",
       "5                         0.0           blue   \n",
       "\n",
       "                               Violation Description Violation Points  \\\n",
       "0  Warewashing facilities not properly installed,...                5   \n",
       "1              Wiping cloths improperly used, stored                5   \n",
       "2  Food worker card not available or current, new...                5   \n",
       "3                 Inadequate hand washing facilities               10   \n",
       "5  Warewashing facilities not properly installed,...                5   \n",
       "\n",
       "  Business_ID  Inspection_Serial_Num Violation_Record_ID Location  \n",
       "0   PR0071429              DA2409066           IV6475299      NaN  \n",
       "1   PR0071429              DA2409066           IV6475303      NaN  \n",
       "2   PR0071429              DA2409066           IV6475296      NaN  \n",
       "3   PR0071429              DA2409066           IV6475278      NaN  \n",
       "5   PR0071429              DA2330069           IV5290066      NaN  \n",
       "\n",
       "[5 rows x 22 columns]"
      ]
     },
     "execution_count": 186,
     "metadata": {},
     "output_type": "execute_result"
    }
   ],
   "source": [
    "df.head()"
   ]
  },
  {
   "cell_type": "code",
   "execution_count": 187,
   "id": "988f3274",
   "metadata": {},
   "outputs": [],
   "source": [
    "# Drop 'Location'\n",
    "df = df.drop(columns='Location')"
   ]
  },
  {
   "cell_type": "code",
   "execution_count": 188,
   "id": "8faf4591",
   "metadata": {},
   "outputs": [],
   "source": [
    "# We're going to fix the City names by lowercasing the entire string and then capitalizing first letter only\n",
    "df['City'] = df['City'].str.lower()"
   ]
  },
  {
   "cell_type": "code",
   "execution_count": 189,
   "id": "dc605ce4",
   "metadata": {},
   "outputs": [],
   "source": [
    "# uppercase first letter only \n",
    "df['City'] = df['City'].str.capitalize()"
   ]
  },
  {
   "cell_type": "code",
   "execution_count": 190,
   "id": "c5d20b7d",
   "metadata": {},
   "outputs": [
    {
     "data": {
      "text/html": [
       "<div>\n",
       "<style scoped>\n",
       "    .dataframe tbody tr th:only-of-type {\n",
       "        vertical-align: middle;\n",
       "    }\n",
       "\n",
       "    .dataframe tbody tr th {\n",
       "        vertical-align: top;\n",
       "    }\n",
       "\n",
       "    .dataframe thead th {\n",
       "        text-align: right;\n",
       "    }\n",
       "</style>\n",
       "<table border=\"1\" class=\"dataframe\">\n",
       "  <thead>\n",
       "    <tr style=\"text-align: right;\">\n",
       "      <th></th>\n",
       "      <th>Name</th>\n",
       "      <th>Program Identifier</th>\n",
       "      <th>Inspection Date</th>\n",
       "      <th>Description</th>\n",
       "      <th>Address</th>\n",
       "      <th>City</th>\n",
       "      <th>Zip Code</th>\n",
       "      <th>Phone</th>\n",
       "      <th>Longitude</th>\n",
       "      <th>Latitude</th>\n",
       "      <th>...</th>\n",
       "      <th>Inspection Type</th>\n",
       "      <th>Inspection Score</th>\n",
       "      <th>Inspection Result</th>\n",
       "      <th>Inspection Closed Business</th>\n",
       "      <th>Violation Type</th>\n",
       "      <th>Violation Description</th>\n",
       "      <th>Violation Points</th>\n",
       "      <th>Business_ID</th>\n",
       "      <th>Inspection_Serial_Num</th>\n",
       "      <th>Violation_Record_ID</th>\n",
       "    </tr>\n",
       "  </thead>\n",
       "  <tbody>\n",
       "    <tr>\n",
       "      <th>0</th>\n",
       "      <td>@ The PEAK</td>\n",
       "      <td>@ The PEAK</td>\n",
       "      <td>2013-01-25</td>\n",
       "      <td>Seating 13-50 - Risk Category III</td>\n",
       "      <td>401 BROADWAY</td>\n",
       "      <td>Seattle</td>\n",
       "      <td>98122</td>\n",
       "      <td>2069471460</td>\n",
       "      <td>-122.321198</td>\n",
       "      <td>47.605624</td>\n",
       "      <td>...</td>\n",
       "      <td>Routine Inspection/Field Review</td>\n",
       "      <td>25</td>\n",
       "      <td>Unsatisfactory</td>\n",
       "      <td>0.0</td>\n",
       "      <td>blue</td>\n",
       "      <td>Warewashing facilities not properly installed,...</td>\n",
       "      <td>5</td>\n",
       "      <td>PR0071429</td>\n",
       "      <td>DA2409066</td>\n",
       "      <td>IV6475299</td>\n",
       "    </tr>\n",
       "    <tr>\n",
       "      <th>1</th>\n",
       "      <td>@ The PEAK</td>\n",
       "      <td>@ The PEAK</td>\n",
       "      <td>2013-01-25</td>\n",
       "      <td>Seating 13-50 - Risk Category III</td>\n",
       "      <td>401 BROADWAY</td>\n",
       "      <td>Seattle</td>\n",
       "      <td>98122</td>\n",
       "      <td>2069471460</td>\n",
       "      <td>-122.321198</td>\n",
       "      <td>47.605624</td>\n",
       "      <td>...</td>\n",
       "      <td>Routine Inspection/Field Review</td>\n",
       "      <td>25</td>\n",
       "      <td>Unsatisfactory</td>\n",
       "      <td>0.0</td>\n",
       "      <td>blue</td>\n",
       "      <td>Wiping cloths improperly used, stored</td>\n",
       "      <td>5</td>\n",
       "      <td>PR0071429</td>\n",
       "      <td>DA2409066</td>\n",
       "      <td>IV6475303</td>\n",
       "    </tr>\n",
       "    <tr>\n",
       "      <th>2</th>\n",
       "      <td>@ The PEAK</td>\n",
       "      <td>@ The PEAK</td>\n",
       "      <td>2013-01-25</td>\n",
       "      <td>Seating 13-50 - Risk Category III</td>\n",
       "      <td>401 BROADWAY</td>\n",
       "      <td>Seattle</td>\n",
       "      <td>98122</td>\n",
       "      <td>2069471460</td>\n",
       "      <td>-122.321198</td>\n",
       "      <td>47.605624</td>\n",
       "      <td>...</td>\n",
       "      <td>Routine Inspection/Field Review</td>\n",
       "      <td>25</td>\n",
       "      <td>Unsatisfactory</td>\n",
       "      <td>0.0</td>\n",
       "      <td>red</td>\n",
       "      <td>Food worker card not available or current, new...</td>\n",
       "      <td>5</td>\n",
       "      <td>PR0071429</td>\n",
       "      <td>DA2409066</td>\n",
       "      <td>IV6475296</td>\n",
       "    </tr>\n",
       "    <tr>\n",
       "      <th>3</th>\n",
       "      <td>@ The PEAK</td>\n",
       "      <td>@ The PEAK</td>\n",
       "      <td>2013-01-25</td>\n",
       "      <td>Seating 13-50 - Risk Category III</td>\n",
       "      <td>401 BROADWAY</td>\n",
       "      <td>Seattle</td>\n",
       "      <td>98122</td>\n",
       "      <td>2069471460</td>\n",
       "      <td>-122.321198</td>\n",
       "      <td>47.605624</td>\n",
       "      <td>...</td>\n",
       "      <td>Routine Inspection/Field Review</td>\n",
       "      <td>25</td>\n",
       "      <td>Unsatisfactory</td>\n",
       "      <td>0.0</td>\n",
       "      <td>red</td>\n",
       "      <td>Inadequate hand washing facilities</td>\n",
       "      <td>10</td>\n",
       "      <td>PR0071429</td>\n",
       "      <td>DA2409066</td>\n",
       "      <td>IV6475278</td>\n",
       "    </tr>\n",
       "    <tr>\n",
       "      <th>5</th>\n",
       "      <td>@ The PEAK</td>\n",
       "      <td>@ The PEAK</td>\n",
       "      <td>2012-05-02</td>\n",
       "      <td>Seating 13-50 - Risk Category III</td>\n",
       "      <td>401 BROADWAY</td>\n",
       "      <td>Seattle</td>\n",
       "      <td>98122</td>\n",
       "      <td>2069471460</td>\n",
       "      <td>-122.321198</td>\n",
       "      <td>47.605624</td>\n",
       "      <td>...</td>\n",
       "      <td>Routine Inspection/Field Review</td>\n",
       "      <td>5</td>\n",
       "      <td>Satisfactory</td>\n",
       "      <td>0.0</td>\n",
       "      <td>blue</td>\n",
       "      <td>Warewashing facilities not properly installed,...</td>\n",
       "      <td>5</td>\n",
       "      <td>PR0071429</td>\n",
       "      <td>DA2330069</td>\n",
       "      <td>IV5290066</td>\n",
       "    </tr>\n",
       "  </tbody>\n",
       "</table>\n",
       "<p>5 rows × 21 columns</p>\n",
       "</div>"
      ],
      "text/plain": [
       "         Name Program Identifier Inspection Date  \\\n",
       "0  @ The PEAK         @ The PEAK      2013-01-25   \n",
       "1  @ The PEAK         @ The PEAK      2013-01-25   \n",
       "2  @ The PEAK         @ The PEAK      2013-01-25   \n",
       "3  @ The PEAK         @ The PEAK      2013-01-25   \n",
       "5  @ The PEAK         @ The PEAK      2012-05-02   \n",
       "\n",
       "                         Description        Address     City  Zip Code  \\\n",
       "0  Seating 13-50 - Risk Category III  401 BROADWAY   Seattle     98122   \n",
       "1  Seating 13-50 - Risk Category III  401 BROADWAY   Seattle     98122   \n",
       "2  Seating 13-50 - Risk Category III  401 BROADWAY   Seattle     98122   \n",
       "3  Seating 13-50 - Risk Category III  401 BROADWAY   Seattle     98122   \n",
       "5  Seating 13-50 - Risk Category III  401 BROADWAY   Seattle     98122   \n",
       "\n",
       "        Phone   Longitude   Latitude  ...                  Inspection Type  \\\n",
       "0  2069471460 -122.321198  47.605624  ...  Routine Inspection/Field Review   \n",
       "1  2069471460 -122.321198  47.605624  ...  Routine Inspection/Field Review   \n",
       "2  2069471460 -122.321198  47.605624  ...  Routine Inspection/Field Review   \n",
       "3  2069471460 -122.321198  47.605624  ...  Routine Inspection/Field Review   \n",
       "5  2069471460 -122.321198  47.605624  ...  Routine Inspection/Field Review   \n",
       "\n",
       "  Inspection Score  Inspection Result Inspection Closed Business  \\\n",
       "0               25     Unsatisfactory                        0.0   \n",
       "1               25     Unsatisfactory                        0.0   \n",
       "2               25     Unsatisfactory                        0.0   \n",
       "3               25     Unsatisfactory                        0.0   \n",
       "5                5       Satisfactory                        0.0   \n",
       "\n",
       "   Violation Type                              Violation Description  \\\n",
       "0            blue  Warewashing facilities not properly installed,...   \n",
       "1            blue              Wiping cloths improperly used, stored   \n",
       "2             red  Food worker card not available or current, new...   \n",
       "3             red                 Inadequate hand washing facilities   \n",
       "5            blue  Warewashing facilities not properly installed,...   \n",
       "\n",
       "  Violation Points  Business_ID Inspection_Serial_Num Violation_Record_ID  \n",
       "0                5    PR0071429             DA2409066           IV6475299  \n",
       "1                5    PR0071429             DA2409066           IV6475303  \n",
       "2                5    PR0071429             DA2409066           IV6475296  \n",
       "3               10    PR0071429             DA2409066           IV6475278  \n",
       "5                5    PR0071429             DA2330069           IV5290066  \n",
       "\n",
       "[5 rows x 21 columns]"
      ]
     },
     "execution_count": 190,
     "metadata": {},
     "output_type": "execute_result"
    }
   ],
   "source": [
    "df.head()"
   ]
  },
  {
   "cell_type": "markdown",
   "id": "2ec0f137",
   "metadata": {},
   "source": [
    "What kind of information do we want here? For one, we could map our venues using the longitude and latitude parameters. Second, we could first determine what the threshold inspection score is for satisfactory and look at which venues passed. I can create two dataframes then. "
   ]
  },
  {
   "cell_type": "code",
   "execution_count": 191,
   "id": "b90d8224",
   "metadata": {},
   "outputs": [],
   "source": [
    "df_inspection = df[['Name','Inspection Date', 'Address', 'City', 'Inspection Type', 'Inspection Score', 'Inspection Result', 'Inspection Closed Business', 'Violation Type', 'Violation Points', 'Inspection_Serial_Num',]]"
   ]
  },
  {
   "cell_type": "code",
   "execution_count": 192,
   "id": "98588eb9",
   "metadata": {},
   "outputs": [
    {
     "data": {
      "text/html": [
       "<div>\n",
       "<style scoped>\n",
       "    .dataframe tbody tr th:only-of-type {\n",
       "        vertical-align: middle;\n",
       "    }\n",
       "\n",
       "    .dataframe tbody tr th {\n",
       "        vertical-align: top;\n",
       "    }\n",
       "\n",
       "    .dataframe thead th {\n",
       "        text-align: right;\n",
       "    }\n",
       "</style>\n",
       "<table border=\"1\" class=\"dataframe\">\n",
       "  <thead>\n",
       "    <tr style=\"text-align: right;\">\n",
       "      <th></th>\n",
       "      <th>Name</th>\n",
       "      <th>Inspection Date</th>\n",
       "      <th>Address</th>\n",
       "      <th>City</th>\n",
       "      <th>Inspection Type</th>\n",
       "      <th>Inspection Score</th>\n",
       "      <th>Inspection Result</th>\n",
       "      <th>Inspection Closed Business</th>\n",
       "      <th>Violation Type</th>\n",
       "      <th>Violation Points</th>\n",
       "      <th>Inspection_Serial_Num</th>\n",
       "    </tr>\n",
       "  </thead>\n",
       "  <tbody>\n",
       "    <tr>\n",
       "      <th>0</th>\n",
       "      <td>@ The PEAK</td>\n",
       "      <td>2013-01-25</td>\n",
       "      <td>401 BROADWAY</td>\n",
       "      <td>Seattle</td>\n",
       "      <td>Routine Inspection/Field Review</td>\n",
       "      <td>25</td>\n",
       "      <td>Unsatisfactory</td>\n",
       "      <td>0.0</td>\n",
       "      <td>blue</td>\n",
       "      <td>5</td>\n",
       "      <td>DA2409066</td>\n",
       "    </tr>\n",
       "    <tr>\n",
       "      <th>1</th>\n",
       "      <td>@ The PEAK</td>\n",
       "      <td>2013-01-25</td>\n",
       "      <td>401 BROADWAY</td>\n",
       "      <td>Seattle</td>\n",
       "      <td>Routine Inspection/Field Review</td>\n",
       "      <td>25</td>\n",
       "      <td>Unsatisfactory</td>\n",
       "      <td>0.0</td>\n",
       "      <td>blue</td>\n",
       "      <td>5</td>\n",
       "      <td>DA2409066</td>\n",
       "    </tr>\n",
       "    <tr>\n",
       "      <th>2</th>\n",
       "      <td>@ The PEAK</td>\n",
       "      <td>2013-01-25</td>\n",
       "      <td>401 BROADWAY</td>\n",
       "      <td>Seattle</td>\n",
       "      <td>Routine Inspection/Field Review</td>\n",
       "      <td>25</td>\n",
       "      <td>Unsatisfactory</td>\n",
       "      <td>0.0</td>\n",
       "      <td>red</td>\n",
       "      <td>5</td>\n",
       "      <td>DA2409066</td>\n",
       "    </tr>\n",
       "    <tr>\n",
       "      <th>3</th>\n",
       "      <td>@ The PEAK</td>\n",
       "      <td>2013-01-25</td>\n",
       "      <td>401 BROADWAY</td>\n",
       "      <td>Seattle</td>\n",
       "      <td>Routine Inspection/Field Review</td>\n",
       "      <td>25</td>\n",
       "      <td>Unsatisfactory</td>\n",
       "      <td>0.0</td>\n",
       "      <td>red</td>\n",
       "      <td>10</td>\n",
       "      <td>DA2409066</td>\n",
       "    </tr>\n",
       "    <tr>\n",
       "      <th>5</th>\n",
       "      <td>@ The PEAK</td>\n",
       "      <td>2012-05-02</td>\n",
       "      <td>401 BROADWAY</td>\n",
       "      <td>Seattle</td>\n",
       "      <td>Routine Inspection/Field Review</td>\n",
       "      <td>5</td>\n",
       "      <td>Satisfactory</td>\n",
       "      <td>0.0</td>\n",
       "      <td>blue</td>\n",
       "      <td>5</td>\n",
       "      <td>DA2330069</td>\n",
       "    </tr>\n",
       "  </tbody>\n",
       "</table>\n",
       "</div>"
      ],
      "text/plain": [
       "         Name Inspection Date        Address     City  \\\n",
       "0  @ The PEAK      2013-01-25  401 BROADWAY   Seattle   \n",
       "1  @ The PEAK      2013-01-25  401 BROADWAY   Seattle   \n",
       "2  @ The PEAK      2013-01-25  401 BROADWAY   Seattle   \n",
       "3  @ The PEAK      2013-01-25  401 BROADWAY   Seattle   \n",
       "5  @ The PEAK      2012-05-02  401 BROADWAY   Seattle   \n",
       "\n",
       "                   Inspection Type  Inspection Score Inspection Result  \\\n",
       "0  Routine Inspection/Field Review                25    Unsatisfactory   \n",
       "1  Routine Inspection/Field Review                25    Unsatisfactory   \n",
       "2  Routine Inspection/Field Review                25    Unsatisfactory   \n",
       "3  Routine Inspection/Field Review                25    Unsatisfactory   \n",
       "5  Routine Inspection/Field Review                 5      Satisfactory   \n",
       "\n",
       "   Inspection Closed Business Violation Type  Violation Points  \\\n",
       "0                         0.0           blue                 5   \n",
       "1                         0.0           blue                 5   \n",
       "2                         0.0            red                 5   \n",
       "3                         0.0            red                10   \n",
       "5                         0.0           blue                 5   \n",
       "\n",
       "  Inspection_Serial_Num  \n",
       "0             DA2409066  \n",
       "1             DA2409066  \n",
       "2             DA2409066  \n",
       "3             DA2409066  \n",
       "5             DA2330069  "
      ]
     },
     "execution_count": 192,
     "metadata": {},
     "output_type": "execute_result"
    }
   ],
   "source": [
    "df_inspection.head()"
   ]
  },
  {
   "cell_type": "markdown",
   "id": "01653f5d",
   "metadata": {},
   "source": [
    "# Early Viz/EDA"
   ]
  },
  {
   "cell_type": "code",
   "execution_count": 193,
   "id": "dd4b19f5",
   "metadata": {},
   "outputs": [
    {
     "data": {
      "text/html": [
       "<div>\n",
       "<style scoped>\n",
       "    .dataframe tbody tr th:only-of-type {\n",
       "        vertical-align: middle;\n",
       "    }\n",
       "\n",
       "    .dataframe tbody tr th {\n",
       "        vertical-align: top;\n",
       "    }\n",
       "\n",
       "    .dataframe thead th {\n",
       "        text-align: right;\n",
       "    }\n",
       "</style>\n",
       "<table border=\"1\" class=\"dataframe\">\n",
       "  <thead>\n",
       "    <tr style=\"text-align: right;\">\n",
       "      <th></th>\n",
       "      <th>Inspection Score</th>\n",
       "      <th>Inspection Result</th>\n",
       "    </tr>\n",
       "  </thead>\n",
       "  <tbody>\n",
       "    <tr>\n",
       "      <th>0</th>\n",
       "      <td>25</td>\n",
       "      <td>Unsatisfactory</td>\n",
       "    </tr>\n",
       "    <tr>\n",
       "      <th>1</th>\n",
       "      <td>25</td>\n",
       "      <td>Unsatisfactory</td>\n",
       "    </tr>\n",
       "    <tr>\n",
       "      <th>2</th>\n",
       "      <td>25</td>\n",
       "      <td>Unsatisfactory</td>\n",
       "    </tr>\n",
       "    <tr>\n",
       "      <th>3</th>\n",
       "      <td>25</td>\n",
       "      <td>Unsatisfactory</td>\n",
       "    </tr>\n",
       "    <tr>\n",
       "      <th>5</th>\n",
       "      <td>5</td>\n",
       "      <td>Satisfactory</td>\n",
       "    </tr>\n",
       "  </tbody>\n",
       "</table>\n",
       "</div>"
      ],
      "text/plain": [
       "   Inspection Score Inspection Result\n",
       "0                25    Unsatisfactory\n",
       "1                25    Unsatisfactory\n",
       "2                25    Unsatisfactory\n",
       "3                25    Unsatisfactory\n",
       "5                 5      Satisfactory"
      ]
     },
     "execution_count": 193,
     "metadata": {},
     "output_type": "execute_result"
    }
   ],
   "source": [
    "subset0 = df_inspection[['Inspection Score', 'Inspection Result']]\n",
    "subset0.head()"
   ]
  },
  {
   "cell_type": "code",
   "execution_count": 194,
   "id": "164064ed",
   "metadata": {},
   "outputs": [
    {
     "data": {
      "text/plain": [
       "array(['Unsatisfactory', 'Satisfactory', 'Complete', 'Baseline Data',\n",
       "       'Incomplete', 'Not Applicable', 'No Longer At Location',\n",
       "       'Confirmed', 'Not Confirmed', 'Positive', 'Not Permitted',\n",
       "       'Not Accessible'], dtype=object)"
      ]
     },
     "execution_count": 194,
     "metadata": {},
     "output_type": "execute_result"
    }
   ],
   "source": [
    "subset0['Inspection Result'].unique()"
   ]
  },
  {
   "cell_type": "code",
   "execution_count": 195,
   "id": "054f5566",
   "metadata": {},
   "outputs": [
    {
     "data": {
      "image/png": "[encoded data removed]",
      "text/plain": [
       "<Figure size 2448x1368 with 1 Axes>"
      ]
     },
     "metadata": {
      "needs_background": "light"
     },
     "output_type": "display_data"
    }
   ],
   "source": [
    "import matplotlib.pyplot as plt\n",
    "\n",
    "# barplot total Inspection Score per Inspection Result\n",
    "plt.figure(figsize=(34,19))\n",
    "sns.barplot(x= 'Inspection Result', y='Inspection Score', data=subset0)\n",
    "plt.xlabel('Inspection Result Type')\n",
    "plt.title('Inspection Scores by Inspection Result')\n",
    "plt.ylabel('Inspection Scores')\n",
    "plt.show()"
   ]
  },
  {
   "cell_type": "markdown",
   "id": "3173dd7b",
   "metadata": {},
   "source": [
    "I'm going to OneHot Encode this, but first I want to do more EDA using heatmap for correlations and getting some preliminary stats. I'm going to try to do a linear regression as well. "
   ]
  },
  {
   "cell_type": "code",
   "execution_count": 196,
   "id": "512cec58",
   "metadata": {},
   "outputs": [
    {
     "data": {
      "image/png": "[encoded data removed]",
      "text/plain": [
       "<Figure size 720x720 with 2 Axes>"
      ]
     },
     "metadata": {
      "needs_background": "light"
     },
     "output_type": "display_data"
    }
   ],
   "source": [
    "# Going to look at correlations between parameters in 'df'\n",
    "import matplotlib.pyplot as plt\n",
    "# Heatmap\n",
    "_= plt.figure(figsize=(10,10))\n",
    "heatmap = sns.heatmap(df.corr(), annot=True, linewidth=0.4, cmap=\"coolwarm\")\n",
    "plt.show()"
   ]
  },
  {
   "cell_type": "code",
   "execution_count": 197,
   "id": "1c883b3b",
   "metadata": {},
   "outputs": [
    {
     "data": {
      "text/html": [
       "<div>\n",
       "<style scoped>\n",
       "    .dataframe tbody tr th:only-of-type {\n",
       "        vertical-align: middle;\n",
       "    }\n",
       "\n",
       "    .dataframe tbody tr th {\n",
       "        vertical-align: top;\n",
       "    }\n",
       "\n",
       "    .dataframe thead th {\n",
       "        text-align: right;\n",
       "    }\n",
       "</style>\n",
       "<table border=\"1\" class=\"dataframe\">\n",
       "  <thead>\n",
       "    <tr style=\"text-align: right;\">\n",
       "      <th></th>\n",
       "      <th>Inspection Score</th>\n",
       "      <th>Violation Points</th>\n",
       "      <th>Inspection Closed Business</th>\n",
       "    </tr>\n",
       "  </thead>\n",
       "  <tbody>\n",
       "    <tr>\n",
       "      <th>0</th>\n",
       "      <td>25</td>\n",
       "      <td>5</td>\n",
       "      <td>0.0</td>\n",
       "    </tr>\n",
       "    <tr>\n",
       "      <th>1</th>\n",
       "      <td>25</td>\n",
       "      <td>5</td>\n",
       "      <td>0.0</td>\n",
       "    </tr>\n",
       "    <tr>\n",
       "      <th>2</th>\n",
       "      <td>25</td>\n",
       "      <td>5</td>\n",
       "      <td>0.0</td>\n",
       "    </tr>\n",
       "    <tr>\n",
       "      <th>3</th>\n",
       "      <td>25</td>\n",
       "      <td>10</td>\n",
       "      <td>0.0</td>\n",
       "    </tr>\n",
       "    <tr>\n",
       "      <th>5</th>\n",
       "      <td>5</td>\n",
       "      <td>5</td>\n",
       "      <td>0.0</td>\n",
       "    </tr>\n",
       "  </tbody>\n",
       "</table>\n",
       "</div>"
      ],
      "text/plain": [
       "   Inspection Score  Violation Points  Inspection Closed Business\n",
       "0                25                 5                         0.0\n",
       "1                25                 5                         0.0\n",
       "2                25                 5                         0.0\n",
       "3                25                10                         0.0\n",
       "5                 5                 5                         0.0"
      ]
     },
     "execution_count": 197,
     "metadata": {},
     "output_type": "execute_result"
    }
   ],
   "source": [
    "subset1 = df_inspection[['Inspection Score', 'Violation Points', 'Inspection Closed Business']]\n",
    "subset1.head()"
   ]
  },
  {
   "cell_type": "code",
   "execution_count": 198,
   "id": "486727a7",
   "metadata": {},
   "outputs": [
    {
     "data": {
      "text/plain": [
       "array([ 5, 10,  3, 25,  2, 30, 15,  0], dtype=int64)"
      ]
     },
     "execution_count": 198,
     "metadata": {},
     "output_type": "execute_result"
    }
   ],
   "source": [
    "subset1['Violation Points'].unique()"
   ]
  },
  {
   "cell_type": "code",
   "execution_count": 199,
   "id": "87d6457c",
   "metadata": {},
   "outputs": [
    {
     "data": {
      "text/plain": [
       "<seaborn.axisgrid.FacetGrid at 0x1dc07666f40>"
      ]
     },
     "execution_count": 199,
     "metadata": {},
     "output_type": "execute_result"
    },
    {
     "data": {
      "image/png": "[encoded data removed]",
      "text/plain": [
       "<Figure size 720x360 with 2 Axes>"
      ]
     },
     "metadata": {
      "needs_background": "light"
     },
     "output_type": "display_data"
    }
   ],
   "source": [
    "sns.relplot(x=\"Inspection Score\", y=\"Violation Points\", data=subset1, kind=\"scatter\", col='Inspection Closed Business')"
   ]
  },
  {
   "cell_type": "code",
   "execution_count": 200,
   "id": "e0dcb644",
   "metadata": {},
   "outputs": [],
   "source": [
    "#"
   ]
  },
  {
   "cell_type": "code",
   "execution_count": 201,
   "id": "532d4811",
   "metadata": {},
   "outputs": [
    {
     "data": {
      "text/plain": [
       "Text(0, 0.5, 'Count')"
      ]
     },
     "execution_count": 201,
     "metadata": {},
     "output_type": "execute_result"
    },
    {
     "data": {
      "image/png": "[encoded data removed]",
      "text/plain": [
       "<Figure size 432x288 with 1 Axes>"
      ]
     },
     "metadata": {
      "needs_background": "light"
     },
     "output_type": "display_data"
    }
   ],
   "source": [
    "# Histogram of Inspection Score and Violation Points\n",
    "plt.hist(subset1['Inspection Score'])\n",
    "plt.xlabel('Inspection Score')\n",
    "plt.ylabel('Count')"
   ]
  },
  {
   "cell_type": "code",
   "execution_count": 202,
   "id": "a536bc3d",
   "metadata": {},
   "outputs": [],
   "source": [
    "def brief_summary(df):\n",
    "    print(df.std())\n",
    "    print(df.describe())\n",
    "    print(df.hist())"
   ]
  },
  {
   "cell_type": "code",
   "execution_count": 203,
   "id": "9d85e235",
   "metadata": {},
   "outputs": [
    {
     "name": "stdout",
     "output_type": "stream",
     "text": [
      "Inspection Score              20.206190\n",
      "Violation Points               6.245517\n",
      "Inspection Closed Business     0.068298\n",
      "dtype: float64\n",
      "       Inspection Score  Violation Points  Inspection Closed Business\n",
      "count      74469.000000      74469.000000                74469.000000\n",
      "mean          25.452336          7.569969                    0.004687\n",
      "std           20.206190          6.245517                    0.068298\n",
      "min            2.000000          0.000000                    0.000000\n",
      "25%           10.000000          5.000000                    0.000000\n",
      "50%           20.000000          5.000000                    0.000000\n",
      "75%           35.000000         10.000000                    0.000000\n",
      "max          690.000000         30.000000                    1.000000\n",
      "[[<AxesSubplot:title={'center':'Inspection Score'}>\n",
      "  <AxesSubplot:title={'center':'Violation Points'}>]\n",
      " [<AxesSubplot:title={'center':'Inspection Closed Business'}>\n",
      "  <AxesSubplot:>]]\n"
     ]
    },
    {
     "data": {
      "image/png": "[encoded data removed]",
      "text/plain": [
       "<Figure size 432x288 with 4 Axes>"
      ]
     },
     "metadata": {
      "needs_background": "light"
     },
     "output_type": "display_data"
    }
   ],
   "source": [
    "brief_summary(subset1)"
   ]
  },
  {
   "cell_type": "code",
   "execution_count": 204,
   "id": "85dbb902",
   "metadata": {},
   "outputs": [],
   "source": [
    "# OLS\n",
    "# Create test and train sets.\n",
    "x = subset1[['Inspection Score']]\n",
    "# Ensure to add a constant, for Ordinary Least Squares\n",
    "x2 = sm.add_constant(x)"
   ]
  },
  {
   "cell_type": "code",
   "execution_count": 205,
   "id": "4d55fc46",
   "metadata": {},
   "outputs": [
    {
     "data": {
      "text/html": [
       "<div>\n",
       "<style scoped>\n",
       "    .dataframe tbody tr th:only-of-type {\n",
       "        vertical-align: middle;\n",
       "    }\n",
       "\n",
       "    .dataframe tbody tr th {\n",
       "        vertical-align: top;\n",
       "    }\n",
       "\n",
       "    .dataframe thead th {\n",
       "        text-align: right;\n",
       "    }\n",
       "</style>\n",
       "<table border=\"1\" class=\"dataframe\">\n",
       "  <thead>\n",
       "    <tr style=\"text-align: right;\">\n",
       "      <th></th>\n",
       "      <th>const</th>\n",
       "      <th>Inspection Score</th>\n",
       "    </tr>\n",
       "  </thead>\n",
       "  <tbody>\n",
       "    <tr>\n",
       "      <th>0</th>\n",
       "      <td>1.0</td>\n",
       "      <td>25</td>\n",
       "    </tr>\n",
       "    <tr>\n",
       "      <th>1</th>\n",
       "      <td>1.0</td>\n",
       "      <td>25</td>\n",
       "    </tr>\n",
       "    <tr>\n",
       "      <th>2</th>\n",
       "      <td>1.0</td>\n",
       "      <td>25</td>\n",
       "    </tr>\n",
       "    <tr>\n",
       "      <th>3</th>\n",
       "      <td>1.0</td>\n",
       "      <td>25</td>\n",
       "    </tr>\n",
       "    <tr>\n",
       "      <th>5</th>\n",
       "      <td>1.0</td>\n",
       "      <td>5</td>\n",
       "    </tr>\n",
       "    <tr>\n",
       "      <th>...</th>\n",
       "      <td>...</td>\n",
       "      <td>...</td>\n",
       "    </tr>\n",
       "    <tr>\n",
       "      <th>190786</th>\n",
       "      <td>1.0</td>\n",
       "      <td>20</td>\n",
       "    </tr>\n",
       "    <tr>\n",
       "      <th>190787</th>\n",
       "      <td>1.0</td>\n",
       "      <td>5</td>\n",
       "    </tr>\n",
       "    <tr>\n",
       "      <th>190788</th>\n",
       "      <td>1.0</td>\n",
       "      <td>15</td>\n",
       "    </tr>\n",
       "    <tr>\n",
       "      <th>190789</th>\n",
       "      <td>1.0</td>\n",
       "      <td>15</td>\n",
       "    </tr>\n",
       "    <tr>\n",
       "      <th>190791</th>\n",
       "      <td>1.0</td>\n",
       "      <td>5</td>\n",
       "    </tr>\n",
       "  </tbody>\n",
       "</table>\n",
       "<p>74469 rows × 2 columns</p>\n",
       "</div>"
      ],
      "text/plain": [
       "        const  Inspection Score\n",
       "0         1.0                25\n",
       "1         1.0                25\n",
       "2         1.0                25\n",
       "3         1.0                25\n",
       "5         1.0                 5\n",
       "...       ...               ...\n",
       "190786    1.0                20\n",
       "190787    1.0                 5\n",
       "190788    1.0                15\n",
       "190789    1.0                15\n",
       "190791    1.0                 5\n",
       "\n",
       "[74469 rows x 2 columns]"
      ]
     },
     "execution_count": 205,
     "metadata": {},
     "output_type": "execute_result"
    }
   ],
   "source": [
    "x2"
   ]
  },
  {
   "cell_type": "code",
   "execution_count": 206,
   "id": "3defbf7e",
   "metadata": {},
   "outputs": [],
   "source": [
    "y = subset1[['Violation Points']]"
   ]
  },
  {
   "cell_type": "code",
   "execution_count": 207,
   "id": "cab09095",
   "metadata": {},
   "outputs": [
    {
     "data": {
      "text/html": [
       "<div>\n",
       "<style scoped>\n",
       "    .dataframe tbody tr th:only-of-type {\n",
       "        vertical-align: middle;\n",
       "    }\n",
       "\n",
       "    .dataframe tbody tr th {\n",
       "        vertical-align: top;\n",
       "    }\n",
       "\n",
       "    .dataframe thead th {\n",
       "        text-align: right;\n",
       "    }\n",
       "</style>\n",
       "<table border=\"1\" class=\"dataframe\">\n",
       "  <thead>\n",
       "    <tr style=\"text-align: right;\">\n",
       "      <th></th>\n",
       "      <th>Violation Points</th>\n",
       "    </tr>\n",
       "  </thead>\n",
       "  <tbody>\n",
       "    <tr>\n",
       "      <th>0</th>\n",
       "      <td>5</td>\n",
       "    </tr>\n",
       "    <tr>\n",
       "      <th>1</th>\n",
       "      <td>5</td>\n",
       "    </tr>\n",
       "    <tr>\n",
       "      <th>2</th>\n",
       "      <td>5</td>\n",
       "    </tr>\n",
       "    <tr>\n",
       "      <th>3</th>\n",
       "      <td>10</td>\n",
       "    </tr>\n",
       "    <tr>\n",
       "      <th>5</th>\n",
       "      <td>5</td>\n",
       "    </tr>\n",
       "    <tr>\n",
       "      <th>...</th>\n",
       "      <td>...</td>\n",
       "    </tr>\n",
       "    <tr>\n",
       "      <th>190786</th>\n",
       "      <td>5</td>\n",
       "    </tr>\n",
       "    <tr>\n",
       "      <th>190787</th>\n",
       "      <td>0</td>\n",
       "    </tr>\n",
       "    <tr>\n",
       "      <th>190788</th>\n",
       "      <td>5</td>\n",
       "    </tr>\n",
       "    <tr>\n",
       "      <th>190789</th>\n",
       "      <td>10</td>\n",
       "    </tr>\n",
       "    <tr>\n",
       "      <th>190791</th>\n",
       "      <td>5</td>\n",
       "    </tr>\n",
       "  </tbody>\n",
       "</table>\n",
       "<p>74469 rows × 1 columns</p>\n",
       "</div>"
      ],
      "text/plain": [
       "        Violation Points\n",
       "0                      5\n",
       "1                      5\n",
       "2                      5\n",
       "3                     10\n",
       "5                      5\n",
       "...                  ...\n",
       "190786                 5\n",
       "190787                 0\n",
       "190788                 5\n",
       "190789                10\n",
       "190791                 5\n",
       "\n",
       "[74469 rows x 1 columns]"
      ]
     },
     "execution_count": 207,
     "metadata": {},
     "output_type": "execute_result"
    }
   ],
   "source": [
    "y"
   ]
  },
  {
   "cell_type": "code",
   "execution_count": 208,
   "id": "70f2a546",
   "metadata": {},
   "outputs": [
    {
     "name": "stdout",
     "output_type": "stream",
     "text": [
      "(52128, 2) (52128, 1)\n"
     ]
    }
   ],
   "source": [
    "# Split the data using train_test_split()\n",
    "x2train, x2test, ytrain, ytest = train_test_split(x2, y, test_size=0.30, shuffle=True)\n",
    "print(x2train.shape, ytrain.shape)"
   ]
  },
  {
   "cell_type": "code",
   "execution_count": 209,
   "id": "895652a1",
   "metadata": {},
   "outputs": [],
   "source": [
    "# Create the model\n",
    "rmodel = sm.OLS(ytrain, x2train)\n",
    "# Fit the model with fit() \n",
    "fit_model = rmodel.fit()"
   ]
  },
  {
   "cell_type": "code",
   "execution_count": 210,
   "id": "4b1ffab4",
   "metadata": {},
   "outputs": [
    {
     "data": {
      "text/html": [
       "<table class=\"simpletable\">\n",
       "<caption>OLS Regression Results</caption>\n",
       "<tr>\n",
       "  <th>Dep. Variable:</th>    <td>Violation Points</td> <th>  R-squared:         </th>  <td>   0.093</td>  \n",
       "</tr>\n",
       "<tr>\n",
       "  <th>Model:</th>                   <td>OLS</td>       <th>  Adj. R-squared:    </th>  <td>   0.093</td>  \n",
       "</tr>\n",
       "<tr>\n",
       "  <th>Method:</th>             <td>Least Squares</td>  <th>  F-statistic:       </th>  <td>   5375.</td>  \n",
       "</tr>\n",
       "<tr>\n",
       "  <th>Date:</th>             <td>Fri, 13 May 2022</td> <th>  Prob (F-statistic):</th>   <td>  0.00</td>   \n",
       "</tr>\n",
       "<tr>\n",
       "  <th>Time:</th>                 <td>20:01:52</td>     <th>  Log-Likelihood:    </th> <td>-1.6698e+05</td>\n",
       "</tr>\n",
       "<tr>\n",
       "  <th>No. Observations:</th>      <td> 52128</td>      <th>  AIC:               </th>  <td>3.340e+05</td> \n",
       "</tr>\n",
       "<tr>\n",
       "  <th>Df Residuals:</th>          <td> 52126</td>      <th>  BIC:               </th>  <td>3.340e+05</td> \n",
       "</tr>\n",
       "<tr>\n",
       "  <th>Df Model:</th>              <td>     1</td>      <th>                     </th>      <td> </td>     \n",
       "</tr>\n",
       "<tr>\n",
       "  <th>Covariance Type:</th>      <td>nonrobust</td>    <th>                     </th>      <td> </td>     \n",
       "</tr>\n",
       "</table>\n",
       "<table class=\"simpletable\">\n",
       "<tr>\n",
       "          <td></td>            <th>coef</th>     <th>std err</th>      <th>t</th>      <th>P>|t|</th>  <th>[0.025</th>    <th>0.975]</th>  \n",
       "</tr>\n",
       "<tr>\n",
       "  <th>const</th>            <td>    5.1713</td> <td>    0.042</td> <td>  123.345</td> <td> 0.000</td> <td>    5.089</td> <td>    5.253</td>\n",
       "</tr>\n",
       "<tr>\n",
       "  <th>Inspection Score</th> <td>    0.0947</td> <td>    0.001</td> <td>   73.313</td> <td> 0.000</td> <td>    0.092</td> <td>    0.097</td>\n",
       "</tr>\n",
       "</table>\n",
       "<table class=\"simpletable\">\n",
       "<tr>\n",
       "  <th>Omnibus:</th>       <td>17696.468</td> <th>  Durbin-Watson:     </th> <td>   2.006</td> \n",
       "</tr>\n",
       "<tr>\n",
       "  <th>Prob(Omnibus):</th>  <td> 0.000</td>   <th>  Jarque-Bera (JB):  </th> <td>58430.385</td>\n",
       "</tr>\n",
       "<tr>\n",
       "  <th>Skew:</th>           <td> 1.745</td>   <th>  Prob(JB):          </th> <td>    0.00</td> \n",
       "</tr>\n",
       "<tr>\n",
       "  <th>Kurtosis:</th>       <td> 6.836</td>   <th>  Cond. No.          </th> <td>    52.2</td> \n",
       "</tr>\n",
       "</table><br/><br/>Notes:<br/>[1] Standard Errors assume that the covariance matrix of the errors is correctly specified."
      ],
      "text/plain": [
       "<class 'statsmodels.iolib.summary.Summary'>\n",
       "\"\"\"\n",
       "                            OLS Regression Results                            \n",
       "==============================================================================\n",
       "Dep. Variable:       Violation Points   R-squared:                       0.093\n",
       "Model:                            OLS   Adj. R-squared:                  0.093\n",
       "Method:                 Least Squares   F-statistic:                     5375.\n",
       "Date:                Fri, 13 May 2022   Prob (F-statistic):               0.00\n",
       "Time:                        20:01:52   Log-Likelihood:            -1.6698e+05\n",
       "No. Observations:               52128   AIC:                         3.340e+05\n",
       "Df Residuals:                   52126   BIC:                         3.340e+05\n",
       "Df Model:                           1                                         \n",
       "Covariance Type:            nonrobust                                         \n",
       "====================================================================================\n",
       "                       coef    std err          t      P>|t|      [0.025      0.975]\n",
       "------------------------------------------------------------------------------------\n",
       "const                5.1713      0.042    123.345      0.000       5.089       5.253\n",
       "Inspection Score     0.0947      0.001     73.313      0.000       0.092       0.097\n",
       "==============================================================================\n",
       "Omnibus:                    17696.468   Durbin-Watson:                   2.006\n",
       "Prob(Omnibus):                  0.000   Jarque-Bera (JB):            58430.385\n",
       "Skew:                           1.745   Prob(JB):                         0.00\n",
       "Kurtosis:                       6.836   Cond. No.                         52.2\n",
       "==============================================================================\n",
       "\n",
       "Notes:\n",
       "[1] Standard Errors assume that the covariance matrix of the errors is correctly specified.\n",
       "\"\"\""
      ]
     },
     "execution_count": 210,
     "metadata": {},
     "output_type": "execute_result"
    }
   ],
   "source": [
    "# Evaluate the model with .summary()\n",
    "fit_model.summary()"
   ]
  },
  {
   "cell_type": "code",
   "execution_count": 211,
   "id": "dcdbbac7",
   "metadata": {},
   "outputs": [],
   "source": [
    "# Let's attempt to make predictions of y\n",
    "y_predict = fit_model.predict(x2test)"
   ]
  },
  {
   "cell_type": "code",
   "execution_count": 212,
   "id": "8ee5f2da",
   "metadata": {},
   "outputs": [
    {
     "data": {
      "image/png": "[encoded data removed]",
      "text/plain": [
       "<Figure size 432x288 with 1 Axes>"
      ]
     },
     "metadata": {
      "needs_background": "light"
     },
     "output_type": "display_data"
    }
   ],
   "source": [
    "# Plot predictions\n",
    "plt.scatter(ytest, y_predict)\n",
    "plt.title(\"Model vs Actual\")\n",
    "plt.xlabel(\"Actual\")\n",
    "plt.ylabel(\"Predicted\")\n",
    "\n",
    "# Line of perfect correlation\n",
    "plt.plot([x for x in range(0,30)], [x for x in range(0,30)], color = \"orange\")\n",
    "plt.show()"
   ]
  },
  {
   "cell_type": "markdown",
   "id": "7b4a1b28",
   "metadata": {},
   "source": [
    "# OneHot Encoding"
   ]
  },
  {
   "cell_type": "code",
   "execution_count": 338,
   "id": "4b17cd4e",
   "metadata": {},
   "outputs": [],
   "source": [
    "cols_to_delete = ['Name','Phone','Longitude', 'Latitude', 'Program Identifier','Description','Address','City','Zip Code', 'Inspection Business Name','Inspection Date', 'Business_ID','Inspection_Serial_Num', 'Violation Description','Violation_Record_ID']\n",
    "pred_model = df.drop(cols_to_delete, axis=1)"
   ]
  },
  {
   "cell_type": "code",
   "execution_count": 339,
   "id": "024014b3",
   "metadata": {},
   "outputs": [
    {
     "name": "stdout",
     "output_type": "stream",
     "text": [
      "['Inspection Type', 'Inspection Result', 'Violation Type']\n"
     ]
    }
   ],
   "source": [
    "# Categorical features\n",
    "cat = pred_model.dtypes == np.object\n",
    "# Turn into list\n",
    "cat_cols = pred_model.columns[cat].tolist()\n",
    "print(cat_cols)"
   ]
  },
  {
   "cell_type": "code",
   "execution_count": 340,
   "id": "7813f2de",
   "metadata": {},
   "outputs": [],
   "source": [
    "# Let's use Inspection Closed Business as a boolean, but we still have to figure out what 0 and 1 actually equals to.\n",
    "# Does 0= closed and 1= open?\n",
    "pred_model['Inspection Closed Business'] = pred_model['Inspection Closed Business'].astype(int)"
   ]
  },
  {
   "cell_type": "code",
   "execution_count": 341,
   "id": "731a5f3c",
   "metadata": {},
   "outputs": [
    {
     "data": {
      "text/html": [
       "<div>\n",
       "<style scoped>\n",
       "    .dataframe tbody tr th:only-of-type {\n",
       "        vertical-align: middle;\n",
       "    }\n",
       "\n",
       "    .dataframe tbody tr th {\n",
       "        vertical-align: top;\n",
       "    }\n",
       "\n",
       "    .dataframe thead th {\n",
       "        text-align: right;\n",
       "    }\n",
       "</style>\n",
       "<table border=\"1\" class=\"dataframe\">\n",
       "  <thead>\n",
       "    <tr style=\"text-align: right;\">\n",
       "      <th></th>\n",
       "      <th>Inspection Type</th>\n",
       "      <th>Inspection Score</th>\n",
       "      <th>Inspection Result</th>\n",
       "      <th>Inspection Closed Business</th>\n",
       "      <th>Violation Type</th>\n",
       "      <th>Violation Points</th>\n",
       "    </tr>\n",
       "  </thead>\n",
       "  <tbody>\n",
       "    <tr>\n",
       "      <th>0</th>\n",
       "      <td>Routine Inspection/Field Review</td>\n",
       "      <td>25</td>\n",
       "      <td>Unsatisfactory</td>\n",
       "      <td>0</td>\n",
       "      <td>blue</td>\n",
       "      <td>5</td>\n",
       "    </tr>\n",
       "    <tr>\n",
       "      <th>1</th>\n",
       "      <td>Routine Inspection/Field Review</td>\n",
       "      <td>25</td>\n",
       "      <td>Unsatisfactory</td>\n",
       "      <td>0</td>\n",
       "      <td>blue</td>\n",
       "      <td>5</td>\n",
       "    </tr>\n",
       "    <tr>\n",
       "      <th>2</th>\n",
       "      <td>Routine Inspection/Field Review</td>\n",
       "      <td>25</td>\n",
       "      <td>Unsatisfactory</td>\n",
       "      <td>0</td>\n",
       "      <td>red</td>\n",
       "      <td>5</td>\n",
       "    </tr>\n",
       "    <tr>\n",
       "      <th>3</th>\n",
       "      <td>Routine Inspection/Field Review</td>\n",
       "      <td>25</td>\n",
       "      <td>Unsatisfactory</td>\n",
       "      <td>0</td>\n",
       "      <td>red</td>\n",
       "      <td>10</td>\n",
       "    </tr>\n",
       "    <tr>\n",
       "      <th>5</th>\n",
       "      <td>Routine Inspection/Field Review</td>\n",
       "      <td>5</td>\n",
       "      <td>Satisfactory</td>\n",
       "      <td>0</td>\n",
       "      <td>blue</td>\n",
       "      <td>5</td>\n",
       "    </tr>\n",
       "  </tbody>\n",
       "</table>\n",
       "</div>"
      ],
      "text/plain": [
       "                   Inspection Type  Inspection Score Inspection Result  \\\n",
       "0  Routine Inspection/Field Review                25    Unsatisfactory   \n",
       "1  Routine Inspection/Field Review                25    Unsatisfactory   \n",
       "2  Routine Inspection/Field Review                25    Unsatisfactory   \n",
       "3  Routine Inspection/Field Review                25    Unsatisfactory   \n",
       "5  Routine Inspection/Field Review                 5      Satisfactory   \n",
       "\n",
       "   Inspection Closed Business Violation Type  Violation Points  \n",
       "0                           0           blue                 5  \n",
       "1                           0           blue                 5  \n",
       "2                           0            red                 5  \n",
       "3                           0            red                10  \n",
       "5                           0           blue                 5  "
      ]
     },
     "execution_count": 341,
     "metadata": {},
     "output_type": "execute_result"
    }
   ],
   "source": [
    "pred_model.head()"
   ]
  },
  {
   "cell_type": "markdown",
   "id": "e8a46e0e",
   "metadata": {},
   "source": [
    "I want to take a closer look at the 'Inspection Closed Business' column. Ideally, I want to use it as a boolean to separate closed and open business (status). "
   ]
  },
  {
   "cell_type": "code",
   "execution_count": 342,
   "id": "9631d1ff",
   "metadata": {},
   "outputs": [
    {
     "data": {
      "text/html": [
       "<div>\n",
       "<style scoped>\n",
       "    .dataframe tbody tr th:only-of-type {\n",
       "        vertical-align: middle;\n",
       "    }\n",
       "\n",
       "    .dataframe tbody tr th {\n",
       "        vertical-align: top;\n",
       "    }\n",
       "\n",
       "    .dataframe thead th {\n",
       "        text-align: right;\n",
       "    }\n",
       "</style>\n",
       "<table border=\"1\" class=\"dataframe\">\n",
       "  <thead>\n",
       "    <tr style=\"text-align: right;\">\n",
       "      <th></th>\n",
       "      <th>Name</th>\n",
       "      <th>Program Identifier</th>\n",
       "      <th>Inspection Date</th>\n",
       "      <th>Description</th>\n",
       "      <th>Address</th>\n",
       "      <th>City</th>\n",
       "      <th>Zip Code</th>\n",
       "      <th>Phone</th>\n",
       "      <th>Longitude</th>\n",
       "      <th>Latitude</th>\n",
       "      <th>...</th>\n",
       "      <th>Inspection Type</th>\n",
       "      <th>Inspection Score</th>\n",
       "      <th>Inspection Result</th>\n",
       "      <th>Inspection Closed Business</th>\n",
       "      <th>Violation Type</th>\n",
       "      <th>Violation Description</th>\n",
       "      <th>Violation Points</th>\n",
       "      <th>Business_ID</th>\n",
       "      <th>Inspection_Serial_Num</th>\n",
       "      <th>Violation_Record_ID</th>\n",
       "    </tr>\n",
       "  </thead>\n",
       "  <tbody>\n",
       "    <tr>\n",
       "      <th>3108</th>\n",
       "      <td>9 MILLION</td>\n",
       "      <td>9 MILLION IN UNMARKED BILLS</td>\n",
       "      <td>2012-07-30</td>\n",
       "      <td>Seating 51-150 - Risk Category III</td>\n",
       "      <td>3507 FREMONT PL N</td>\n",
       "      <td>Seattle</td>\n",
       "      <td>98103</td>\n",
       "      <td>2065792249</td>\n",
       "      <td>-122.351090</td>\n",
       "      <td>47.650924</td>\n",
       "      <td>...</td>\n",
       "      <td>Return Inspection</td>\n",
       "      <td>50</td>\n",
       "      <td>Unsatisfactory</td>\n",
       "      <td>1.0</td>\n",
       "      <td>NaN</td>\n",
       "      <td>NaN</td>\n",
       "      <td>0</td>\n",
       "      <td>PR0010620</td>\n",
       "      <td>DA2356626</td>\n",
       "      <td>NaN</td>\n",
       "    </tr>\n",
       "    <tr>\n",
       "      <th>17436</th>\n",
       "      <td>BEBAS &amp; AMIGOS</td>\n",
       "      <td>BEBAS &amp; AMIGOS</td>\n",
       "      <td>2011-01-21</td>\n",
       "      <td>Seating 51-150 - Risk Category III</td>\n",
       "      <td>700 5TH AV</td>\n",
       "      <td>Seattle</td>\n",
       "      <td>98104</td>\n",
       "      <td>2066227085</td>\n",
       "      <td>-122.329881</td>\n",
       "      <td>47.605007</td>\n",
       "      <td>...</td>\n",
       "      <td>Routine Inspection/Field Review</td>\n",
       "      <td>152</td>\n",
       "      <td>Unsatisfactory</td>\n",
       "      <td>1.0</td>\n",
       "      <td>blue</td>\n",
       "      <td>Permit not posted; mobile vehicle name not eas...</td>\n",
       "      <td>2</td>\n",
       "      <td>PR0026380</td>\n",
       "      <td>DA2187288</td>\n",
       "      <td>IV2927398</td>\n",
       "    </tr>\n",
       "    <tr>\n",
       "      <th>17437</th>\n",
       "      <td>BEBAS &amp; AMIGOS</td>\n",
       "      <td>BEBAS &amp; AMIGOS</td>\n",
       "      <td>2011-01-21</td>\n",
       "      <td>Seating 51-150 - Risk Category III</td>\n",
       "      <td>700 5TH AV</td>\n",
       "      <td>Seattle</td>\n",
       "      <td>98104</td>\n",
       "      <td>2066227085</td>\n",
       "      <td>-122.329881</td>\n",
       "      <td>47.605007</td>\n",
       "      <td>...</td>\n",
       "      <td>Routine Inspection/Field Review</td>\n",
       "      <td>152</td>\n",
       "      <td>Unsatisfactory</td>\n",
       "      <td>1.0</td>\n",
       "      <td>blue</td>\n",
       "      <td>Food contact surfaces not maintained, clean, s...</td>\n",
       "      <td>5</td>\n",
       "      <td>PR0026380</td>\n",
       "      <td>DA2187288</td>\n",
       "      <td>IV2927408</td>\n",
       "    </tr>\n",
       "    <tr>\n",
       "      <th>17438</th>\n",
       "      <td>BEBAS &amp; AMIGOS</td>\n",
       "      <td>BEBAS &amp; AMIGOS</td>\n",
       "      <td>2011-01-21</td>\n",
       "      <td>Seating 51-150 - Risk Category III</td>\n",
       "      <td>700 5TH AV</td>\n",
       "      <td>Seattle</td>\n",
       "      <td>98104</td>\n",
       "      <td>2066227085</td>\n",
       "      <td>-122.329881</td>\n",
       "      <td>47.605007</td>\n",
       "      <td>...</td>\n",
       "      <td>Routine Inspection/Field Review</td>\n",
       "      <td>152</td>\n",
       "      <td>Unsatisfactory</td>\n",
       "      <td>1.0</td>\n",
       "      <td>blue</td>\n",
       "      <td>Plumbing not properly sized, installed, and ma...</td>\n",
       "      <td>5</td>\n",
       "      <td>PR0026380</td>\n",
       "      <td>DA2187288</td>\n",
       "      <td>IV2927447</td>\n",
       "    </tr>\n",
       "    <tr>\n",
       "      <th>17439</th>\n",
       "      <td>BEBAS &amp; AMIGOS</td>\n",
       "      <td>BEBAS &amp; AMIGOS</td>\n",
       "      <td>2011-01-21</td>\n",
       "      <td>Seating 51-150 - Risk Category III</td>\n",
       "      <td>700 5TH AV</td>\n",
       "      <td>Seattle</td>\n",
       "      <td>98104</td>\n",
       "      <td>2066227085</td>\n",
       "      <td>-122.329881</td>\n",
       "      <td>47.605007</td>\n",
       "      <td>...</td>\n",
       "      <td>Routine Inspection/Field Review</td>\n",
       "      <td>152</td>\n",
       "      <td>Unsatisfactory</td>\n",
       "      <td>1.0</td>\n",
       "      <td>blue</td>\n",
       "      <td>Non-food contact surfaces not maintained, clea...</td>\n",
       "      <td>3</td>\n",
       "      <td>PR0026380</td>\n",
       "      <td>DA2187288</td>\n",
       "      <td>IV2927440</td>\n",
       "    </tr>\n",
       "    <tr>\n",
       "      <th>...</th>\n",
       "      <td>...</td>\n",
       "      <td>...</td>\n",
       "      <td>...</td>\n",
       "      <td>...</td>\n",
       "      <td>...</td>\n",
       "      <td>...</td>\n",
       "      <td>...</td>\n",
       "      <td>...</td>\n",
       "      <td>...</td>\n",
       "      <td>...</td>\n",
       "      <td>...</td>\n",
       "      <td>...</td>\n",
       "      <td>...</td>\n",
       "      <td>...</td>\n",
       "      <td>...</td>\n",
       "      <td>...</td>\n",
       "      <td>...</td>\n",
       "      <td>...</td>\n",
       "      <td>...</td>\n",
       "      <td>...</td>\n",
       "      <td>...</td>\n",
       "    </tr>\n",
       "    <tr>\n",
       "      <th>185723</th>\n",
       "      <td>WHEATLESS IN SEATTLE</td>\n",
       "      <td>WHEATLESS IN SEATTLE</td>\n",
       "      <td>2006-11-21</td>\n",
       "      <td>Seating 0-12 - Risk Category III</td>\n",
       "      <td>10003 GREENWOOD AV N</td>\n",
       "      <td>Seattle</td>\n",
       "      <td>98133</td>\n",
       "      <td>2068520563</td>\n",
       "      <td>-122.355801</td>\n",
       "      <td>47.701614</td>\n",
       "      <td>...</td>\n",
       "      <td>Routine Inspection/Field Review</td>\n",
       "      <td>104</td>\n",
       "      <td>Unsatisfactory</td>\n",
       "      <td>1.0</td>\n",
       "      <td>red</td>\n",
       "      <td>Proper Consumer Advisory not posted for raw or...</td>\n",
       "      <td>5</td>\n",
       "      <td>PR0072263</td>\n",
       "      <td>DA1614377</td>\n",
       "      <td>IV0568840</td>\n",
       "    </tr>\n",
       "    <tr>\n",
       "      <th>185724</th>\n",
       "      <td>WHEATLESS IN SEATTLE</td>\n",
       "      <td>WHEATLESS IN SEATTLE</td>\n",
       "      <td>2006-11-21</td>\n",
       "      <td>Seating 0-12 - Risk Category III</td>\n",
       "      <td>10003 GREENWOOD AV N</td>\n",
       "      <td>Seattle</td>\n",
       "      <td>98133</td>\n",
       "      <td>2068520563</td>\n",
       "      <td>-122.355801</td>\n",
       "      <td>47.701614</td>\n",
       "      <td>...</td>\n",
       "      <td>Routine Inspection/Field Review</td>\n",
       "      <td>104</td>\n",
       "      <td>Unsatisfactory</td>\n",
       "      <td>1.0</td>\n",
       "      <td>red</td>\n",
       "      <td>Thermometers not available or used as required...</td>\n",
       "      <td>5</td>\n",
       "      <td>PR0072263</td>\n",
       "      <td>DA1614377</td>\n",
       "      <td>IV0568839</td>\n",
       "    </tr>\n",
       "    <tr>\n",
       "      <th>185725</th>\n",
       "      <td>WHEATLESS IN SEATTLE</td>\n",
       "      <td>WHEATLESS IN SEATTLE</td>\n",
       "      <td>2006-11-21</td>\n",
       "      <td>Seating 0-12 - Risk Category III</td>\n",
       "      <td>10003 GREENWOOD AV N</td>\n",
       "      <td>Seattle</td>\n",
       "      <td>98133</td>\n",
       "      <td>2068520563</td>\n",
       "      <td>-122.355801</td>\n",
       "      <td>47.701614</td>\n",
       "      <td>...</td>\n",
       "      <td>Routine Inspection/Field Review</td>\n",
       "      <td>104</td>\n",
       "      <td>Unsatisfactory</td>\n",
       "      <td>1.0</td>\n",
       "      <td>red</td>\n",
       "      <td>Raw meats, poultry, aquatic foods not stored a...</td>\n",
       "      <td>5</td>\n",
       "      <td>PR0072263</td>\n",
       "      <td>DA1614377</td>\n",
       "      <td>IV0568836</td>\n",
       "    </tr>\n",
       "    <tr>\n",
       "      <th>185726</th>\n",
       "      <td>WHEATLESS IN SEATTLE</td>\n",
       "      <td>WHEATLESS IN SEATTLE</td>\n",
       "      <td>2006-11-21</td>\n",
       "      <td>Seating 0-12 - Risk Category III</td>\n",
       "      <td>10003 GREENWOOD AV N</td>\n",
       "      <td>Seattle</td>\n",
       "      <td>98133</td>\n",
       "      <td>2068520563</td>\n",
       "      <td>-122.355801</td>\n",
       "      <td>47.701614</td>\n",
       "      <td>...</td>\n",
       "      <td>Routine Inspection/Field Review</td>\n",
       "      <td>104</td>\n",
       "      <td>Unsatisfactory</td>\n",
       "      <td>1.0</td>\n",
       "      <td>red</td>\n",
       "      <td>No certified PIC by accredited program, nor co...</td>\n",
       "      <td>5</td>\n",
       "      <td>PR0072263</td>\n",
       "      <td>DA1614377</td>\n",
       "      <td>IV0568833</td>\n",
       "    </tr>\n",
       "    <tr>\n",
       "      <th>185727</th>\n",
       "      <td>WHEATLESS IN SEATTLE</td>\n",
       "      <td>WHEATLESS IN SEATTLE</td>\n",
       "      <td>2006-11-21</td>\n",
       "      <td>Seating 0-12 - Risk Category III</td>\n",
       "      <td>10003 GREENWOOD AV N</td>\n",
       "      <td>Seattle</td>\n",
       "      <td>98133</td>\n",
       "      <td>2068520563</td>\n",
       "      <td>-122.355801</td>\n",
       "      <td>47.701614</td>\n",
       "      <td>...</td>\n",
       "      <td>Routine Inspection/Field Review</td>\n",
       "      <td>104</td>\n",
       "      <td>Unsatisfactory</td>\n",
       "      <td>1.0</td>\n",
       "      <td>red</td>\n",
       "      <td>Inadequate hand washing facilities</td>\n",
       "      <td>10</td>\n",
       "      <td>PR0072263</td>\n",
       "      <td>DA1614377</td>\n",
       "      <td>IV0568834</td>\n",
       "    </tr>\n",
       "  </tbody>\n",
       "</table>\n",
       "<p>349 rows × 21 columns</p>\n",
       "</div>"
      ],
      "text/plain": [
       "                        Name           Program Identifier Inspection Date  \\\n",
       "3108               9 MILLION  9 MILLION IN UNMARKED BILLS      2012-07-30   \n",
       "17436         BEBAS & AMIGOS               BEBAS & AMIGOS      2011-01-21   \n",
       "17437         BEBAS & AMIGOS               BEBAS & AMIGOS      2011-01-21   \n",
       "17438         BEBAS & AMIGOS               BEBAS & AMIGOS      2011-01-21   \n",
       "17439         BEBAS & AMIGOS               BEBAS & AMIGOS      2011-01-21   \n",
       "...                      ...                          ...             ...   \n",
       "185723  WHEATLESS IN SEATTLE         WHEATLESS IN SEATTLE      2006-11-21   \n",
       "185724  WHEATLESS IN SEATTLE         WHEATLESS IN SEATTLE      2006-11-21   \n",
       "185725  WHEATLESS IN SEATTLE         WHEATLESS IN SEATTLE      2006-11-21   \n",
       "185726  WHEATLESS IN SEATTLE         WHEATLESS IN SEATTLE      2006-11-21   \n",
       "185727  WHEATLESS IN SEATTLE         WHEATLESS IN SEATTLE      2006-11-21   \n",
       "\n",
       "                               Description                Address     City  \\\n",
       "3108    Seating 51-150 - Risk Category III     3507 FREMONT PL N   Seattle   \n",
       "17436   Seating 51-150 - Risk Category III            700 5TH AV   Seattle   \n",
       "17437   Seating 51-150 - Risk Category III            700 5TH AV   Seattle   \n",
       "17438   Seating 51-150 - Risk Category III            700 5TH AV   Seattle   \n",
       "17439   Seating 51-150 - Risk Category III            700 5TH AV   Seattle   \n",
       "...                                    ...                    ...      ...   \n",
       "185723    Seating 0-12 - Risk Category III  10003 GREENWOOD AV N   Seattle   \n",
       "185724    Seating 0-12 - Risk Category III  10003 GREENWOOD AV N   Seattle   \n",
       "185725    Seating 0-12 - Risk Category III  10003 GREENWOOD AV N   Seattle   \n",
       "185726    Seating 0-12 - Risk Category III  10003 GREENWOOD AV N   Seattle   \n",
       "185727    Seating 0-12 - Risk Category III  10003 GREENWOOD AV N   Seattle   \n",
       "\n",
       "        Zip Code       Phone   Longitude   Latitude  ...  \\\n",
       "3108       98103  2065792249 -122.351090  47.650924  ...   \n",
       "17436      98104  2066227085 -122.329881  47.605007  ...   \n",
       "17437      98104  2066227085 -122.329881  47.605007  ...   \n",
       "17438      98104  2066227085 -122.329881  47.605007  ...   \n",
       "17439      98104  2066227085 -122.329881  47.605007  ...   \n",
       "...          ...         ...         ...        ...  ...   \n",
       "185723     98133  2068520563 -122.355801  47.701614  ...   \n",
       "185724     98133  2068520563 -122.355801  47.701614  ...   \n",
       "185725     98133  2068520563 -122.355801  47.701614  ...   \n",
       "185726     98133  2068520563 -122.355801  47.701614  ...   \n",
       "185727     98133  2068520563 -122.355801  47.701614  ...   \n",
       "\n",
       "                        Inspection Type Inspection Score  Inspection Result  \\\n",
       "3108                  Return Inspection               50     Unsatisfactory   \n",
       "17436   Routine Inspection/Field Review              152     Unsatisfactory   \n",
       "17437   Routine Inspection/Field Review              152     Unsatisfactory   \n",
       "17438   Routine Inspection/Field Review              152     Unsatisfactory   \n",
       "17439   Routine Inspection/Field Review              152     Unsatisfactory   \n",
       "...                                 ...              ...                ...   \n",
       "185723  Routine Inspection/Field Review              104     Unsatisfactory   \n",
       "185724  Routine Inspection/Field Review              104     Unsatisfactory   \n",
       "185725  Routine Inspection/Field Review              104     Unsatisfactory   \n",
       "185726  Routine Inspection/Field Review              104     Unsatisfactory   \n",
       "185727  Routine Inspection/Field Review              104     Unsatisfactory   \n",
       "\n",
       "       Inspection Closed Business  Violation Type  \\\n",
       "3108                          1.0             NaN   \n",
       "17436                         1.0            blue   \n",
       "17437                         1.0            blue   \n",
       "17438                         1.0            blue   \n",
       "17439                         1.0            blue   \n",
       "...                           ...             ...   \n",
       "185723                        1.0             red   \n",
       "185724                        1.0             red   \n",
       "185725                        1.0             red   \n",
       "185726                        1.0             red   \n",
       "185727                        1.0             red   \n",
       "\n",
       "                                    Violation Description Violation Points  \\\n",
       "3108                                                  NaN                0   \n",
       "17436   Permit not posted; mobile vehicle name not eas...                2   \n",
       "17437   Food contact surfaces not maintained, clean, s...                5   \n",
       "17438   Plumbing not properly sized, installed, and ma...                5   \n",
       "17439   Non-food contact surfaces not maintained, clea...                3   \n",
       "...                                                   ...              ...   \n",
       "185723  Proper Consumer Advisory not posted for raw or...                5   \n",
       "185724  Thermometers not available or used as required...                5   \n",
       "185725  Raw meats, poultry, aquatic foods not stored a...                5   \n",
       "185726  No certified PIC by accredited program, nor co...                5   \n",
       "185727                 Inadequate hand washing facilities               10   \n",
       "\n",
       "        Business_ID Inspection_Serial_Num Violation_Record_ID  \n",
       "3108      PR0010620             DA2356626                 NaN  \n",
       "17436     PR0026380             DA2187288           IV2927398  \n",
       "17437     PR0026380             DA2187288           IV2927408  \n",
       "17438     PR0026380             DA2187288           IV2927447  \n",
       "17439     PR0026380             DA2187288           IV2927440  \n",
       "...             ...                   ...                 ...  \n",
       "185723    PR0072263             DA1614377           IV0568840  \n",
       "185724    PR0072263             DA1614377           IV0568839  \n",
       "185725    PR0072263             DA1614377           IV0568836  \n",
       "185726    PR0072263             DA1614377           IV0568833  \n",
       "185727    PR0072263             DA1614377           IV0568834  \n",
       "\n",
       "[349 rows x 21 columns]"
      ]
     },
     "execution_count": 342,
     "metadata": {},
     "output_type": "execute_result"
    }
   ],
   "source": [
    "ones = df[df['Inspection Closed Business'] == 1.0]\n",
    "ones"
   ]
  },
  {
   "cell_type": "code",
   "execution_count": 343,
   "id": "55fb67bf",
   "metadata": {},
   "outputs": [
    {
     "data": {
      "text/html": [
       "<div>\n",
       "<style scoped>\n",
       "    .dataframe tbody tr th:only-of-type {\n",
       "        vertical-align: middle;\n",
       "    }\n",
       "\n",
       "    .dataframe tbody tr th {\n",
       "        vertical-align: top;\n",
       "    }\n",
       "\n",
       "    .dataframe thead th {\n",
       "        text-align: right;\n",
       "    }\n",
       "</style>\n",
       "<table border=\"1\" class=\"dataframe\">\n",
       "  <thead>\n",
       "    <tr style=\"text-align: right;\">\n",
       "      <th></th>\n",
       "      <th>Name</th>\n",
       "      <th>Program Identifier</th>\n",
       "      <th>Inspection Date</th>\n",
       "      <th>Description</th>\n",
       "      <th>Address</th>\n",
       "      <th>City</th>\n",
       "      <th>Zip Code</th>\n",
       "      <th>Phone</th>\n",
       "      <th>Longitude</th>\n",
       "      <th>Latitude</th>\n",
       "      <th>...</th>\n",
       "      <th>Inspection Type</th>\n",
       "      <th>Inspection Score</th>\n",
       "      <th>Inspection Result</th>\n",
       "      <th>Inspection Closed Business</th>\n",
       "      <th>Violation Type</th>\n",
       "      <th>Violation Description</th>\n",
       "      <th>Violation Points</th>\n",
       "      <th>Business_ID</th>\n",
       "      <th>Inspection_Serial_Num</th>\n",
       "      <th>Violation_Record_ID</th>\n",
       "    </tr>\n",
       "  </thead>\n",
       "  <tbody>\n",
       "    <tr>\n",
       "      <th>0</th>\n",
       "      <td>@ The PEAK</td>\n",
       "      <td>@ The PEAK</td>\n",
       "      <td>2013-01-25</td>\n",
       "      <td>Seating 13-50 - Risk Category III</td>\n",
       "      <td>401 BROADWAY</td>\n",
       "      <td>Seattle</td>\n",
       "      <td>98122</td>\n",
       "      <td>2069471460</td>\n",
       "      <td>-122.321198</td>\n",
       "      <td>47.605624</td>\n",
       "      <td>...</td>\n",
       "      <td>Routine Inspection/Field Review</td>\n",
       "      <td>25</td>\n",
       "      <td>Unsatisfactory</td>\n",
       "      <td>0.0</td>\n",
       "      <td>blue</td>\n",
       "      <td>Warewashing facilities not properly installed,...</td>\n",
       "      <td>5</td>\n",
       "      <td>PR0071429</td>\n",
       "      <td>DA2409066</td>\n",
       "      <td>IV6475299</td>\n",
       "    </tr>\n",
       "    <tr>\n",
       "      <th>1</th>\n",
       "      <td>@ The PEAK</td>\n",
       "      <td>@ The PEAK</td>\n",
       "      <td>2013-01-25</td>\n",
       "      <td>Seating 13-50 - Risk Category III</td>\n",
       "      <td>401 BROADWAY</td>\n",
       "      <td>Seattle</td>\n",
       "      <td>98122</td>\n",
       "      <td>2069471460</td>\n",
       "      <td>-122.321198</td>\n",
       "      <td>47.605624</td>\n",
       "      <td>...</td>\n",
       "      <td>Routine Inspection/Field Review</td>\n",
       "      <td>25</td>\n",
       "      <td>Unsatisfactory</td>\n",
       "      <td>0.0</td>\n",
       "      <td>blue</td>\n",
       "      <td>Wiping cloths improperly used, stored</td>\n",
       "      <td>5</td>\n",
       "      <td>PR0071429</td>\n",
       "      <td>DA2409066</td>\n",
       "      <td>IV6475303</td>\n",
       "    </tr>\n",
       "    <tr>\n",
       "      <th>2</th>\n",
       "      <td>@ The PEAK</td>\n",
       "      <td>@ The PEAK</td>\n",
       "      <td>2013-01-25</td>\n",
       "      <td>Seating 13-50 - Risk Category III</td>\n",
       "      <td>401 BROADWAY</td>\n",
       "      <td>Seattle</td>\n",
       "      <td>98122</td>\n",
       "      <td>2069471460</td>\n",
       "      <td>-122.321198</td>\n",
       "      <td>47.605624</td>\n",
       "      <td>...</td>\n",
       "      <td>Routine Inspection/Field Review</td>\n",
       "      <td>25</td>\n",
       "      <td>Unsatisfactory</td>\n",
       "      <td>0.0</td>\n",
       "      <td>red</td>\n",
       "      <td>Food worker card not available or current, new...</td>\n",
       "      <td>5</td>\n",
       "      <td>PR0071429</td>\n",
       "      <td>DA2409066</td>\n",
       "      <td>IV6475296</td>\n",
       "    </tr>\n",
       "    <tr>\n",
       "      <th>3</th>\n",
       "      <td>@ The PEAK</td>\n",
       "      <td>@ The PEAK</td>\n",
       "      <td>2013-01-25</td>\n",
       "      <td>Seating 13-50 - Risk Category III</td>\n",
       "      <td>401 BROADWAY</td>\n",
       "      <td>Seattle</td>\n",
       "      <td>98122</td>\n",
       "      <td>2069471460</td>\n",
       "      <td>-122.321198</td>\n",
       "      <td>47.605624</td>\n",
       "      <td>...</td>\n",
       "      <td>Routine Inspection/Field Review</td>\n",
       "      <td>25</td>\n",
       "      <td>Unsatisfactory</td>\n",
       "      <td>0.0</td>\n",
       "      <td>red</td>\n",
       "      <td>Inadequate hand washing facilities</td>\n",
       "      <td>10</td>\n",
       "      <td>PR0071429</td>\n",
       "      <td>DA2409066</td>\n",
       "      <td>IV6475278</td>\n",
       "    </tr>\n",
       "    <tr>\n",
       "      <th>5</th>\n",
       "      <td>@ The PEAK</td>\n",
       "      <td>@ The PEAK</td>\n",
       "      <td>2012-05-02</td>\n",
       "      <td>Seating 13-50 - Risk Category III</td>\n",
       "      <td>401 BROADWAY</td>\n",
       "      <td>Seattle</td>\n",
       "      <td>98122</td>\n",
       "      <td>2069471460</td>\n",
       "      <td>-122.321198</td>\n",
       "      <td>47.605624</td>\n",
       "      <td>...</td>\n",
       "      <td>Routine Inspection/Field Review</td>\n",
       "      <td>5</td>\n",
       "      <td>Satisfactory</td>\n",
       "      <td>0.0</td>\n",
       "      <td>blue</td>\n",
       "      <td>Warewashing facilities not properly installed,...</td>\n",
       "      <td>5</td>\n",
       "      <td>PR0071429</td>\n",
       "      <td>DA2330069</td>\n",
       "      <td>IV5290066</td>\n",
       "    </tr>\n",
       "    <tr>\n",
       "      <th>...</th>\n",
       "      <td>...</td>\n",
       "      <td>...</td>\n",
       "      <td>...</td>\n",
       "      <td>...</td>\n",
       "      <td>...</td>\n",
       "      <td>...</td>\n",
       "      <td>...</td>\n",
       "      <td>...</td>\n",
       "      <td>...</td>\n",
       "      <td>...</td>\n",
       "      <td>...</td>\n",
       "      <td>...</td>\n",
       "      <td>...</td>\n",
       "      <td>...</td>\n",
       "      <td>...</td>\n",
       "      <td>...</td>\n",
       "      <td>...</td>\n",
       "      <td>...</td>\n",
       "      <td>...</td>\n",
       "      <td>...</td>\n",
       "      <td>...</td>\n",
       "    </tr>\n",
       "    <tr>\n",
       "      <th>190786</th>\n",
       "      <td>ZUMA GROCERY</td>\n",
       "      <td>ZUMA GROCERY</td>\n",
       "      <td>2008-06-06</td>\n",
       "      <td>Seating 0-12 - Risk Category III</td>\n",
       "      <td>129 NW 85TH ST</td>\n",
       "      <td>Seattle</td>\n",
       "      <td>98117</td>\n",
       "      <td>2067818600</td>\n",
       "      <td>-122.359308</td>\n",
       "      <td>47.690395</td>\n",
       "      <td>...</td>\n",
       "      <td>Routine Inspection/Field Review</td>\n",
       "      <td>20</td>\n",
       "      <td>Unsatisfactory</td>\n",
       "      <td>0.0</td>\n",
       "      <td>red</td>\n",
       "      <td>Food worker card not available or current, new...</td>\n",
       "      <td>5</td>\n",
       "      <td>PR0065378</td>\n",
       "      <td>DA1852503</td>\n",
       "      <td>IV0626370</td>\n",
       "    </tr>\n",
       "    <tr>\n",
       "      <th>190787</th>\n",
       "      <td>ZUMA GROCERY</td>\n",
       "      <td>ZUMA GROCERY</td>\n",
       "      <td>2008-02-20</td>\n",
       "      <td>Seating 0-12 - Risk Category III</td>\n",
       "      <td>129 NW 85TH ST</td>\n",
       "      <td>Seattle</td>\n",
       "      <td>98117</td>\n",
       "      <td>2067818600</td>\n",
       "      <td>-122.359308</td>\n",
       "      <td>47.690395</td>\n",
       "      <td>...</td>\n",
       "      <td>Routine Inspection/Field Review</td>\n",
       "      <td>5</td>\n",
       "      <td>Satisfactory</td>\n",
       "      <td>0.0</td>\n",
       "      <td>NaN</td>\n",
       "      <td>NaN</td>\n",
       "      <td>0</td>\n",
       "      <td>PR0065378</td>\n",
       "      <td>DA1807300</td>\n",
       "      <td>NaN</td>\n",
       "    </tr>\n",
       "    <tr>\n",
       "      <th>190788</th>\n",
       "      <td>ZUMA GROCERY</td>\n",
       "      <td>ZUMA GROCERY</td>\n",
       "      <td>2007-11-29</td>\n",
       "      <td>Seating 0-12 - Risk Category III</td>\n",
       "      <td>129 NW 85TH ST</td>\n",
       "      <td>Seattle</td>\n",
       "      <td>98117</td>\n",
       "      <td>2067818600</td>\n",
       "      <td>-122.359308</td>\n",
       "      <td>47.690395</td>\n",
       "      <td>...</td>\n",
       "      <td>Routine Inspection/Field Review</td>\n",
       "      <td>15</td>\n",
       "      <td>Unsatisfactory</td>\n",
       "      <td>0.0</td>\n",
       "      <td>blue</td>\n",
       "      <td>Wiping cloths improperly used, stored</td>\n",
       "      <td>5</td>\n",
       "      <td>PR0065378</td>\n",
       "      <td>DA1774630</td>\n",
       "      <td>IV0602185</td>\n",
       "    </tr>\n",
       "    <tr>\n",
       "      <th>190789</th>\n",
       "      <td>ZUMA GROCERY</td>\n",
       "      <td>ZUMA GROCERY</td>\n",
       "      <td>2007-11-29</td>\n",
       "      <td>Seating 0-12 - Risk Category III</td>\n",
       "      <td>129 NW 85TH ST</td>\n",
       "      <td>Seattle</td>\n",
       "      <td>98117</td>\n",
       "      <td>2067818600</td>\n",
       "      <td>-122.359308</td>\n",
       "      <td>47.690395</td>\n",
       "      <td>...</td>\n",
       "      <td>Routine Inspection/Field Review</td>\n",
       "      <td>15</td>\n",
       "      <td>Unsatisfactory</td>\n",
       "      <td>0.0</td>\n",
       "      <td>red</td>\n",
       "      <td>Inadequate hand washing facilities</td>\n",
       "      <td>10</td>\n",
       "      <td>PR0065378</td>\n",
       "      <td>DA1774630</td>\n",
       "      <td>IV0602184</td>\n",
       "    </tr>\n",
       "    <tr>\n",
       "      <th>190791</th>\n",
       "      <td>ZUMA GROCERY</td>\n",
       "      <td>ZUMA GROCERY</td>\n",
       "      <td>2007-03-21</td>\n",
       "      <td>Seating 0-12 - Risk Category III</td>\n",
       "      <td>129 NW 85TH ST</td>\n",
       "      <td>Seattle</td>\n",
       "      <td>98117</td>\n",
       "      <td>2067818600</td>\n",
       "      <td>-122.359308</td>\n",
       "      <td>47.690395</td>\n",
       "      <td>...</td>\n",
       "      <td>Routine Inspection/Field Review</td>\n",
       "      <td>5</td>\n",
       "      <td>Unsatisfactory</td>\n",
       "      <td>0.0</td>\n",
       "      <td>red</td>\n",
       "      <td>Proper Consumer Advisory not posted for raw or...</td>\n",
       "      <td>5</td>\n",
       "      <td>PR0065378</td>\n",
       "      <td>DA1664002</td>\n",
       "      <td>IV0579329</td>\n",
       "    </tr>\n",
       "  </tbody>\n",
       "</table>\n",
       "<p>74120 rows × 21 columns</p>\n",
       "</div>"
      ],
      "text/plain": [
       "                Name Program Identifier Inspection Date  \\\n",
       "0         @ The PEAK         @ The PEAK      2013-01-25   \n",
       "1         @ The PEAK         @ The PEAK      2013-01-25   \n",
       "2         @ The PEAK         @ The PEAK      2013-01-25   \n",
       "3         @ The PEAK         @ The PEAK      2013-01-25   \n",
       "5         @ The PEAK         @ The PEAK      2012-05-02   \n",
       "...              ...                ...             ...   \n",
       "190786  ZUMA GROCERY       ZUMA GROCERY      2008-06-06   \n",
       "190787  ZUMA GROCERY       ZUMA GROCERY      2008-02-20   \n",
       "190788  ZUMA GROCERY       ZUMA GROCERY      2007-11-29   \n",
       "190789  ZUMA GROCERY       ZUMA GROCERY      2007-11-29   \n",
       "190791  ZUMA GROCERY       ZUMA GROCERY      2007-03-21   \n",
       "\n",
       "                              Description          Address     City  Zip Code  \\\n",
       "0       Seating 13-50 - Risk Category III    401 BROADWAY   Seattle     98122   \n",
       "1       Seating 13-50 - Risk Category III    401 BROADWAY   Seattle     98122   \n",
       "2       Seating 13-50 - Risk Category III    401 BROADWAY   Seattle     98122   \n",
       "3       Seating 13-50 - Risk Category III    401 BROADWAY   Seattle     98122   \n",
       "5       Seating 13-50 - Risk Category III    401 BROADWAY   Seattle     98122   \n",
       "...                                   ...              ...      ...       ...   \n",
       "190786   Seating 0-12 - Risk Category III  129 NW 85TH ST   Seattle     98117   \n",
       "190787   Seating 0-12 - Risk Category III  129 NW 85TH ST   Seattle     98117   \n",
       "190788   Seating 0-12 - Risk Category III  129 NW 85TH ST   Seattle     98117   \n",
       "190789   Seating 0-12 - Risk Category III  129 NW 85TH ST   Seattle     98117   \n",
       "190791   Seating 0-12 - Risk Category III  129 NW 85TH ST   Seattle     98117   \n",
       "\n",
       "             Phone   Longitude   Latitude  ...  \\\n",
       "0       2069471460 -122.321198  47.605624  ...   \n",
       "1       2069471460 -122.321198  47.605624  ...   \n",
       "2       2069471460 -122.321198  47.605624  ...   \n",
       "3       2069471460 -122.321198  47.605624  ...   \n",
       "5       2069471460 -122.321198  47.605624  ...   \n",
       "...            ...         ...        ...  ...   \n",
       "190786  2067818600 -122.359308  47.690395  ...   \n",
       "190787  2067818600 -122.359308  47.690395  ...   \n",
       "190788  2067818600 -122.359308  47.690395  ...   \n",
       "190789  2067818600 -122.359308  47.690395  ...   \n",
       "190791  2067818600 -122.359308  47.690395  ...   \n",
       "\n",
       "                        Inspection Type Inspection Score  Inspection Result  \\\n",
       "0       Routine Inspection/Field Review               25     Unsatisfactory   \n",
       "1       Routine Inspection/Field Review               25     Unsatisfactory   \n",
       "2       Routine Inspection/Field Review               25     Unsatisfactory   \n",
       "3       Routine Inspection/Field Review               25     Unsatisfactory   \n",
       "5       Routine Inspection/Field Review                5       Satisfactory   \n",
       "...                                 ...              ...                ...   \n",
       "190786  Routine Inspection/Field Review               20     Unsatisfactory   \n",
       "190787  Routine Inspection/Field Review                5       Satisfactory   \n",
       "190788  Routine Inspection/Field Review               15     Unsatisfactory   \n",
       "190789  Routine Inspection/Field Review               15     Unsatisfactory   \n",
       "190791  Routine Inspection/Field Review                5     Unsatisfactory   \n",
       "\n",
       "       Inspection Closed Business  Violation Type  \\\n",
       "0                             0.0            blue   \n",
       "1                             0.0            blue   \n",
       "2                             0.0             red   \n",
       "3                             0.0             red   \n",
       "5                             0.0            blue   \n",
       "...                           ...             ...   \n",
       "190786                        0.0             red   \n",
       "190787                        0.0             NaN   \n",
       "190788                        0.0            blue   \n",
       "190789                        0.0             red   \n",
       "190791                        0.0             red   \n",
       "\n",
       "                                    Violation Description Violation Points  \\\n",
       "0       Warewashing facilities not properly installed,...                5   \n",
       "1                   Wiping cloths improperly used, stored                5   \n",
       "2       Food worker card not available or current, new...                5   \n",
       "3                      Inadequate hand washing facilities               10   \n",
       "5       Warewashing facilities not properly installed,...                5   \n",
       "...                                                   ...              ...   \n",
       "190786  Food worker card not available or current, new...                5   \n",
       "190787                                                NaN                0   \n",
       "190788              Wiping cloths improperly used, stored                5   \n",
       "190789                 Inadequate hand washing facilities               10   \n",
       "190791  Proper Consumer Advisory not posted for raw or...                5   \n",
       "\n",
       "        Business_ID Inspection_Serial_Num Violation_Record_ID  \n",
       "0         PR0071429             DA2409066           IV6475299  \n",
       "1         PR0071429             DA2409066           IV6475303  \n",
       "2         PR0071429             DA2409066           IV6475296  \n",
       "3         PR0071429             DA2409066           IV6475278  \n",
       "5         PR0071429             DA2330069           IV5290066  \n",
       "...             ...                   ...                 ...  \n",
       "190786    PR0065378             DA1852503           IV0626370  \n",
       "190787    PR0065378             DA1807300                 NaN  \n",
       "190788    PR0065378             DA1774630           IV0602185  \n",
       "190789    PR0065378             DA1774630           IV0602184  \n",
       "190791    PR0065378             DA1664002           IV0579329  \n",
       "\n",
       "[74120 rows x 21 columns]"
      ]
     },
     "execution_count": 343,
     "metadata": {},
     "output_type": "execute_result"
    }
   ],
   "source": [
    "zeros = df[df['Inspection Closed Business'] == 0.0]\n",
    "zeros"
   ]
  },
  {
   "cell_type": "code",
   "execution_count": 344,
   "id": "2a59258e",
   "metadata": {},
   "outputs": [
    {
     "data": {
      "text/plain": [
       "<seaborn.axisgrid.FacetGrid at 0x1dc06c68340>"
      ]
     },
     "execution_count": 344,
     "metadata": {},
     "output_type": "execute_result"
    },
    {
     "data": {
      "image/png": "[encoded data removed]",
      "text/plain": [
       "<Figure size 720x360 with 2 Axes>"
      ]
     },
     "metadata": {},
     "output_type": "display_data"
    }
   ],
   "source": [
    "sns.relplot(x=\"Inspection Score\", y=\"Violation Points\", data=pred_model, kind=\"scatter\", col='Inspection Closed Business', col_order=[0, 1])"
   ]
  },
  {
   "cell_type": "code",
   "execution_count": 345,
   "id": "939aff94",
   "metadata": {},
   "outputs": [
    {
     "data": {
      "text/plain": [
       "<seaborn.axisgrid.FacetGrid at 0x1dc09709580>"
      ]
     },
     "execution_count": 345,
     "metadata": {},
     "output_type": "execute_result"
    },
    {
     "data": {
      "image/png": "[encoded data removed]",
      "text/plain": [
       "<Figure size 360x360 with 1 Axes>"
      ]
     },
     "metadata": {},
     "output_type": "display_data"
    }
   ],
   "source": [
    "sns.catplot(x=\"Inspection Closed Business\", data=pred_model , kind=\"count\")"
   ]
  },
  {
   "cell_type": "code",
   "execution_count": 346,
   "id": "21d6ce7e",
   "metadata": {},
   "outputs": [
    {
     "data": {
      "text/plain": [
       "<seaborn.axisgrid.FacetGrid at 0x1dc056635e0>"
      ]
     },
     "execution_count": 346,
     "metadata": {},
     "output_type": "execute_result"
    },
    {
     "data": {
      "image/png": "[encoded data removed]",
      "text/plain": [
       "<Figure size 360x360 with 1 Axes>"
      ]
     },
     "metadata": {},
     "output_type": "display_data"
    }
   ],
   "source": [
    "sns.catplot(x=\"Inspection Closed Business\", data=df , kind=\"count\")"
   ]
  },
  {
   "cell_type": "markdown",
   "id": "a432ab71",
   "metadata": {},
   "source": [
    "There's 349 rows with value 1 for column Inspection Closed Business, but when we do a catplot we get no count for 1. Let's try doing a simple value_counts()."
   ]
  },
  {
   "cell_type": "code",
   "execution_count": 347,
   "id": "982bedf1",
   "metadata": {},
   "outputs": [
    {
     "data": {
      "text/plain": [
       "0.0    74120\n",
       "1.0      349\n",
       "Name: Inspection Closed Business, dtype: int64"
      ]
     },
     "execution_count": 347,
     "metadata": {},
     "output_type": "execute_result"
    }
   ],
   "source": [
    "df['Inspection Closed Business'].value_counts()"
   ]
  },
  {
   "cell_type": "code",
   "execution_count": 348,
   "id": "1b6df954",
   "metadata": {},
   "outputs": [
    {
     "data": {
      "text/plain": [
       "0    74120\n",
       "1      349\n",
       "Name: Inspection Closed Business, dtype: int64"
      ]
     },
     "execution_count": 348,
     "metadata": {},
     "output_type": "execute_result"
    }
   ],
   "source": [
    "pred_model['Inspection Closed Business'].value_counts()"
   ]
  },
  {
   "cell_type": "code",
   "execution_count": 349,
   "id": "402dc5a1",
   "metadata": {},
   "outputs": [],
   "source": [
    "# Let's continue then\n",
    "Y = pred_model['Inspection Closed Business']\n",
    "X = pred_model.drop('Inspection Closed Business', axis=1)"
   ]
  },
  {
   "cell_type": "code",
   "execution_count": 350,
   "id": "2f7d2770",
   "metadata": {},
   "outputs": [
    {
     "data": {
      "text/plain": [
       "0         0\n",
       "1         0\n",
       "2         0\n",
       "3         0\n",
       "5         0\n",
       "         ..\n",
       "190786    0\n",
       "190787    0\n",
       "190788    0\n",
       "190789    0\n",
       "190791    0\n",
       "Name: Inspection Closed Business, Length: 74469, dtype: int32"
      ]
     },
     "execution_count": 350,
     "metadata": {},
     "output_type": "execute_result"
    }
   ],
   "source": [
    "Y"
   ]
  },
  {
   "cell_type": "code",
   "execution_count": 351,
   "id": "b40a926e",
   "metadata": {},
   "outputs": [
    {
     "data": {
      "text/html": [
       "<div>\n",
       "<style scoped>\n",
       "    .dataframe tbody tr th:only-of-type {\n",
       "        vertical-align: middle;\n",
       "    }\n",
       "\n",
       "    .dataframe tbody tr th {\n",
       "        vertical-align: top;\n",
       "    }\n",
       "\n",
       "    .dataframe thead th {\n",
       "        text-align: right;\n",
       "    }\n",
       "</style>\n",
       "<table border=\"1\" class=\"dataframe\">\n",
       "  <thead>\n",
       "    <tr style=\"text-align: right;\">\n",
       "      <th></th>\n",
       "      <th>Inspection Score</th>\n",
       "      <th>Violation Points</th>\n",
       "      <th>Inspection Type_Return Inspection</th>\n",
       "      <th>Inspection Type_Routine Inspection/Field Review</th>\n",
       "      <th>Inspection Result_Complete</th>\n",
       "      <th>Inspection Result_Confirmed</th>\n",
       "      <th>Inspection Result_Incomplete</th>\n",
       "      <th>Inspection Result_No Longer At Location</th>\n",
       "      <th>Inspection Result_Not Accessible</th>\n",
       "      <th>Inspection Result_Not Applicable</th>\n",
       "      <th>Inspection Result_Not Confirmed</th>\n",
       "      <th>Inspection Result_Not Permitted</th>\n",
       "      <th>Inspection Result_Positive</th>\n",
       "      <th>Inspection Result_Satisfactory</th>\n",
       "      <th>Inspection Result_Unsatisfactory</th>\n",
       "      <th>Violation Type_red</th>\n",
       "    </tr>\n",
       "  </thead>\n",
       "  <tbody>\n",
       "    <tr>\n",
       "      <th>0</th>\n",
       "      <td>25</td>\n",
       "      <td>5</td>\n",
       "      <td>0</td>\n",
       "      <td>1</td>\n",
       "      <td>0</td>\n",
       "      <td>0</td>\n",
       "      <td>0</td>\n",
       "      <td>0</td>\n",
       "      <td>0</td>\n",
       "      <td>0</td>\n",
       "      <td>0</td>\n",
       "      <td>0</td>\n",
       "      <td>0</td>\n",
       "      <td>0</td>\n",
       "      <td>1</td>\n",
       "      <td>0</td>\n",
       "    </tr>\n",
       "    <tr>\n",
       "      <th>1</th>\n",
       "      <td>25</td>\n",
       "      <td>5</td>\n",
       "      <td>0</td>\n",
       "      <td>1</td>\n",
       "      <td>0</td>\n",
       "      <td>0</td>\n",
       "      <td>0</td>\n",
       "      <td>0</td>\n",
       "      <td>0</td>\n",
       "      <td>0</td>\n",
       "      <td>0</td>\n",
       "      <td>0</td>\n",
       "      <td>0</td>\n",
       "      <td>0</td>\n",
       "      <td>1</td>\n",
       "      <td>0</td>\n",
       "    </tr>\n",
       "    <tr>\n",
       "      <th>2</th>\n",
       "      <td>25</td>\n",
       "      <td>5</td>\n",
       "      <td>0</td>\n",
       "      <td>1</td>\n",
       "      <td>0</td>\n",
       "      <td>0</td>\n",
       "      <td>0</td>\n",
       "      <td>0</td>\n",
       "      <td>0</td>\n",
       "      <td>0</td>\n",
       "      <td>0</td>\n",
       "      <td>0</td>\n",
       "      <td>0</td>\n",
       "      <td>0</td>\n",
       "      <td>1</td>\n",
       "      <td>1</td>\n",
       "    </tr>\n",
       "    <tr>\n",
       "      <th>3</th>\n",
       "      <td>25</td>\n",
       "      <td>10</td>\n",
       "      <td>0</td>\n",
       "      <td>1</td>\n",
       "      <td>0</td>\n",
       "      <td>0</td>\n",
       "      <td>0</td>\n",
       "      <td>0</td>\n",
       "      <td>0</td>\n",
       "      <td>0</td>\n",
       "      <td>0</td>\n",
       "      <td>0</td>\n",
       "      <td>0</td>\n",
       "      <td>0</td>\n",
       "      <td>1</td>\n",
       "      <td>1</td>\n",
       "    </tr>\n",
       "    <tr>\n",
       "      <th>5</th>\n",
       "      <td>5</td>\n",
       "      <td>5</td>\n",
       "      <td>0</td>\n",
       "      <td>1</td>\n",
       "      <td>0</td>\n",
       "      <td>0</td>\n",
       "      <td>0</td>\n",
       "      <td>0</td>\n",
       "      <td>0</td>\n",
       "      <td>0</td>\n",
       "      <td>0</td>\n",
       "      <td>0</td>\n",
       "      <td>0</td>\n",
       "      <td>1</td>\n",
       "      <td>0</td>\n",
       "      <td>0</td>\n",
       "    </tr>\n",
       "  </tbody>\n",
       "</table>\n",
       "</div>"
      ],
      "text/plain": [
       "   Inspection Score  Violation Points  Inspection Type_Return Inspection  \\\n",
       "0                25                 5                                  0   \n",
       "1                25                 5                                  0   \n",
       "2                25                 5                                  0   \n",
       "3                25                10                                  0   \n",
       "5                 5                 5                                  0   \n",
       "\n",
       "   Inspection Type_Routine Inspection/Field Review  \\\n",
       "0                                                1   \n",
       "1                                                1   \n",
       "2                                                1   \n",
       "3                                                1   \n",
       "5                                                1   \n",
       "\n",
       "   Inspection Result_Complete  Inspection Result_Confirmed  \\\n",
       "0                           0                            0   \n",
       "1                           0                            0   \n",
       "2                           0                            0   \n",
       "3                           0                            0   \n",
       "5                           0                            0   \n",
       "\n",
       "   Inspection Result_Incomplete  Inspection Result_No Longer At Location  \\\n",
       "0                             0                                        0   \n",
       "1                             0                                        0   \n",
       "2                             0                                        0   \n",
       "3                             0                                        0   \n",
       "5                             0                                        0   \n",
       "\n",
       "   Inspection Result_Not Accessible  Inspection Result_Not Applicable  \\\n",
       "0                                 0                                 0   \n",
       "1                                 0                                 0   \n",
       "2                                 0                                 0   \n",
       "3                                 0                                 0   \n",
       "5                                 0                                 0   \n",
       "\n",
       "   Inspection Result_Not Confirmed  Inspection Result_Not Permitted  \\\n",
       "0                                0                                0   \n",
       "1                                0                                0   \n",
       "2                                0                                0   \n",
       "3                                0                                0   \n",
       "5                                0                                0   \n",
       "\n",
       "   Inspection Result_Positive  Inspection Result_Satisfactory  \\\n",
       "0                           0                               0   \n",
       "1                           0                               0   \n",
       "2                           0                               0   \n",
       "3                           0                               0   \n",
       "5                           0                               1   \n",
       "\n",
       "   Inspection Result_Unsatisfactory  Violation Type_red  \n",
       "0                                 1                   0  \n",
       "1                                 1                   0  \n",
       "2                                 1                   1  \n",
       "3                                 1                   1  \n",
       "5                                 0                   0  "
      ]
     },
     "execution_count": 351,
     "metadata": {},
     "output_type": "execute_result"
    }
   ],
   "source": [
    "# Get_dummies for X \n",
    "x_getdum = pd.get_dummies(X, columns= cat_cols, prefix_sep='_', drop_first=True)\n",
    "X0 = x_getdum\n",
    "X0.head()"
   ]
  },
  {
   "cell_type": "markdown",
   "id": "db75cf9a",
   "metadata": {},
   "source": [
    "Oh man, 26,064 columns. "
   ]
  },
  {
   "cell_type": "markdown",
   "id": "7a58ff02",
   "metadata": {},
   "source": [
    "# Random Forest"
   ]
  },
  {
   "cell_type": "code",
   "execution_count": 352,
   "id": "c5dd04f3",
   "metadata": {},
   "outputs": [
    {
     "name": "stdout",
     "output_type": "stream",
     "text": [
      "Ranking of features:\n",
      "1. feature 0 (0.95)\n",
      "2. feature 1 (0.04)\n",
      "3. feature 3 (0.01)\n",
      "4. feature 2 (0.00)\n",
      "5. feature 15 (0.00)\n",
      "6. feature 14 (0.00)\n",
      "7. feature 13 (0.00)\n",
      "8. feature 4 (0.00)\n",
      "9. feature 6 (0.00)\n",
      "10. feature 10 (0.00)\n",
      "11. feature 7 (0.00)\n",
      "12. feature 12 (0.00)\n",
      "13. feature 9 (0.00)\n",
      "14. feature 11 (0.00)\n",
      "15. feature 5 (0.00)\n",
      "16. feature 8 (0.00)\n"
     ]
    },
    {
     "data": {
      "image/png": "[encoded data removed]",
      "text/plain": [
       "<Figure size 1152x576 with 1 Axes>"
      ]
     },
     "metadata": {},
     "output_type": "display_data"
    }
   ],
   "source": [
    "from sklearn.ensemble import RandomForestRegressor, RandomForestClassifier\n",
    "\n",
    "rfc = RandomForestClassifier(n_estimators=10,\n",
    "                             criterion='gini')\n",
    "rfc.fit(X0, Y)\n",
    "\n",
    "# Plot\n",
    "plt.style.use('seaborn-whitegrid')\n",
    "feature_importances = rfc.feature_importances_\n",
    "\n",
    "# Define sigma and indexes\n",
    "sigma = np.std([tree.feature_importances_ for tree in rfc.estimators_],\n",
    "             axis=0)\n",
    "indexes = np.argsort(feature_importances)[::-1]\n",
    "\n",
    "# Print Ranking of features\n",
    "print(\"Ranking of features:\")\n",
    "for v in range(X0.shape[1]):\n",
    "    print(\"%d. feature %d (%.2f)\" % (v + 1, indexes[v], feature_importances[indexes[v]]))\n",
    "    \n",
    "# Define plot\n",
    "df_feature_importance = pd.DataFrame(feature_importances, index=X0.columns, columns=[\"Importance\"])\n",
    "df_feature_importance.sort_values(by='Importance', ascending=True).plot(kind='barh', figsize = (16,len(feature_importances)/2));"
   ]
  },
  {
   "cell_type": "markdown",
   "id": "c8660eb3",
   "metadata": {},
   "source": [
    "# XGBoost"
   ]
  },
  {
   "cell_type": "code",
   "execution_count": 353,
   "id": "5d489946",
   "metadata": {},
   "outputs": [
    {
     "name": "stdout",
     "output_type": "stream",
     "text": [
      "[20:24:04] WARNING: C:/Users/Administrator/workspace/xgboost-win64_release_1.5.0/src/learner.cc:1115: Starting in XGBoost 1.3.0, the default evaluation metric used with the objective 'binary:logistic' was changed from 'error' to 'logloss'. Explicitly set eval_metric if you'd like to restore the old behavior.\n"
     ]
    },
    {
     "data": {
      "text/plain": [
       "XGBClassifier(base_score=0.5, booster='gbtree', colsample_bylevel=1,\n",
       "              colsample_bynode=1, colsample_bytree=1, enable_categorical=False,\n",
       "              gamma=0, gpu_id=-1, importance_type=None,\n",
       "              interaction_constraints='', learning_rate=0.300000012,\n",
       "              max_delta_step=0, max_depth=6, min_child_weight=1, missing=nan,\n",
       "              monotone_constraints='()', n_estimators=100, n_jobs=16,\n",
       "              num_parallel_tree=1, predictor='auto', random_state=0,\n",
       "              reg_alpha=0, reg_lambda=1, scale_pos_weight=1, subsample=1,\n",
       "              tree_method='exact', validate_parameters=1, verbosity=None)"
      ]
     },
     "execution_count": 353,
     "metadata": {},
     "output_type": "execute_result"
    }
   ],
   "source": [
    "# Train and test split\n",
    "X_train, X_test, y_train, y_test = train_test_split(X0, Y, test_size=0.25, shuffle=True)\n",
    "\n",
    "XGB_model = XGBClassifier()\n",
    "XGB_model.fit(X_train, y_train)"
   ]
  },
  {
   "cell_type": "code",
   "execution_count": 354,
   "id": "4872d706",
   "metadata": {},
   "outputs": [
    {
     "name": "stdout",
     "output_type": "stream",
     "text": [
      "Accuracy score: 99.73% \n"
     ]
    }
   ],
   "source": [
    "# y_pred as predictions for test data\n",
    "y_pred = XGB_model.predict(X_test)\n",
    "pred = [round(value) for value in y_pred]\n",
    "\n",
    "# Check predictions\n",
    "score = accuracy_score(y_test, pred)\n",
    "print(\"Accuracy score: %.2f%% \" % (score*100))"
   ]
  },
  {
   "cell_type": "code",
   "execution_count": 355,
   "id": "c97a2df1",
   "metadata": {},
   "outputs": [
    {
     "data": {
      "image/png": "[encoded data removed]",
      "text/plain": [
       "<Figure size 432x288 with 1 Axes>"
      ]
     },
     "metadata": {},
     "output_type": "display_data"
    },
    {
     "data": {
      "text/plain": [
       "<Figure size 1440x576 with 0 Axes>"
      ]
     },
     "metadata": {},
     "output_type": "display_data"
    }
   ],
   "source": [
    "# Feature of importances plot\n",
    "importances = pd.Series(XGB_model.get_booster().get_fscore()).sort_values(ascending=True)\n",
    "importances.plot(kind='barh', title='Feature Importances')\n",
    "plt.ylabel('Feature Importance Accuracy Score')\n",
    "plt.figure(figsize=(20,8))\n",
    "plt.show()"
   ]
  },
  {
   "cell_type": "markdown",
   "id": "ef3ce4a6",
   "metadata": {},
   "source": [
    "# Conclusions"
   ]
  },
  {
   "cell_type": "markdown",
   "id": "29b12e2b",
   "metadata": {},
   "source": [
    "For creating a feature of importances, I tried keeping the violation description to see if that was important, however there was no significance found and 'Inspection Score' and 'Violation Points' were at the top. "
   ]
  },
  {
   "cell_type": "code",
   "execution_count": null,
   "id": "61df129d",
   "metadata": {},
   "outputs": [],
   "source": []
  }
 ],
 "metadata": {
  "kernelspec": {
   "display_name": "Python 3",
   "language": "python",
   "name": "python3"
  },
  "language_info": {
   "codemirror_mode": {
    "name": "ipython",
    "version": 3
   },
   "file_extension": ".py",
   "mimetype": "text/x-python",
   "name": "python",
   "nbconvert_exporter": "python",
   "pygments_lexer": "ipython3",
   "version": "3.8.8"
  },
  "toc": {
   "base_numbering": 1,
   "nav_menu": {},
   "number_sections": true,
   "sideBar": true,
   "skip_h1_title": false,
   "title_cell": "Table of Contents",
   "title_sidebar": "Contents",
   "toc_cell": true,
   "toc_position": {
    "height": "calc(100% - 180px)",
    "left": "10px",
    "top": "150px",
    "width": "415.99px"
   },
   "toc_section_display": true,
   "toc_window_display": true
  }
 },
 "nbformat": 4,
 "nbformat_minor": 5
}
