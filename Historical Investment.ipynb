{
 "cells": [
  {
   "cell_type": "markdown",
   "id": "8249d5d9",
   "metadata": {
    "toc": true
   },
   "source": [
    "<h1>Table of Contents<span class=\"tocSkip\"></span></h1>\n",
    "<div class=\"toc\"><ul class=\"toc-item\"><li><span><a href=\"#Intro\" data-toc-modified-id=\"Intro-1\"><span class=\"toc-item-num\">1&nbsp;&nbsp;</span>Intro</a></span></li><li><span><a href=\"#Cleaning\" data-toc-modified-id=\"Cleaning-2\"><span class=\"toc-item-num\">2&nbsp;&nbsp;</span>Cleaning</a></span></li><li><span><a href=\"#Data-Transformation\" data-toc-modified-id=\"Data-Transformation-3\"><span class=\"toc-item-num\">3&nbsp;&nbsp;</span>Data Transformation</a></span></li><li><span><a href=\"#EDA\" data-toc-modified-id=\"EDA-4\"><span class=\"toc-item-num\">4&nbsp;&nbsp;</span>EDA</a></span></li></ul></div>"
   ]
  },
  {
   "cell_type": "code",
   "execution_count": 83,
   "id": "a291d082",
   "metadata": {},
   "outputs": [],
   "source": [
    "import numpy as np\n",
    "import pandas as pd\n",
    "import matplotlib.pyplot as plt\n",
    "import seaborn as sns\n",
    "%matplotlib inline\n",
    "import datetime"
   ]
  },
  {
   "cell_type": "code",
   "execution_count": 84,
   "id": "41a84b56",
   "metadata": {},
   "outputs": [],
   "source": [
    "path = 'Q:\\ExcelDataAnalysis-BusinessModeling\\historicalinvest_xls.xlsx'\n",
    "ds = pd.read_excel(path, header=6)"
   ]
  },
  {
   "cell_type": "code",
   "execution_count": 85,
   "id": "81513a08",
   "metadata": {},
   "outputs": [
    {
     "data": {
      "text/html": [
       "<div>\n",
       "<style scoped>\n",
       "    .dataframe tbody tr th:only-of-type {\n",
       "        vertical-align: middle;\n",
       "    }\n",
       "\n",
       "    .dataframe tbody tr th {\n",
       "        vertical-align: top;\n",
       "    }\n",
       "\n",
       "    .dataframe thead th {\n",
       "        text-align: right;\n",
       "    }\n",
       "</style>\n",
       "<table border=\"1\" class=\"dataframe\">\n",
       "  <thead>\n",
       "    <tr style=\"text-align: right;\">\n",
       "      <th></th>\n",
       "      <th>Year</th>\n",
       "      <th>Stocks</th>\n",
       "      <th>T.Bills</th>\n",
       "      <th>T.Bonds</th>\n",
       "      <th>Unnamed: 4</th>\n",
       "      <th>Unnamed: 5</th>\n",
       "      <th>Unnamed: 6</th>\n",
       "    </tr>\n",
       "  </thead>\n",
       "  <tbody>\n",
       "    <tr>\n",
       "      <th>0</th>\n",
       "      <td>1928</td>\n",
       "      <td>0.4381</td>\n",
       "      <td>0.0308</td>\n",
       "      <td>0.0084</td>\n",
       "      <td>NaN</td>\n",
       "      <td>NaN</td>\n",
       "      <td>NaN</td>\n",
       "    </tr>\n",
       "    <tr>\n",
       "      <th>1</th>\n",
       "      <td>1929</td>\n",
       "      <td>-0.083</td>\n",
       "      <td>0.0316</td>\n",
       "      <td>0.042</td>\n",
       "      <td>NaN</td>\n",
       "      <td>NaN</td>\n",
       "      <td>NaN</td>\n",
       "    </tr>\n",
       "    <tr>\n",
       "      <th>2</th>\n",
       "      <td>1930</td>\n",
       "      <td>-0.2512</td>\n",
       "      <td>0.0455</td>\n",
       "      <td>0.0454</td>\n",
       "      <td>NaN</td>\n",
       "      <td>NaN</td>\n",
       "      <td>NaN</td>\n",
       "    </tr>\n",
       "    <tr>\n",
       "      <th>3</th>\n",
       "      <td>1931</td>\n",
       "      <td>-0.4384</td>\n",
       "      <td>0.0231</td>\n",
       "      <td>-0.0256</td>\n",
       "      <td>NaN</td>\n",
       "      <td>NaN</td>\n",
       "      <td>NaN</td>\n",
       "    </tr>\n",
       "    <tr>\n",
       "      <th>4</th>\n",
       "      <td>1932</td>\n",
       "      <td>-0.0864</td>\n",
       "      <td>0.0107</td>\n",
       "      <td>0.0879</td>\n",
       "      <td>NaN</td>\n",
       "      <td>NaN</td>\n",
       "      <td>NaN</td>\n",
       "    </tr>\n",
       "  </tbody>\n",
       "</table>\n",
       "</div>"
      ],
      "text/plain": [
       "   Year  Stocks T.Bills T.Bonds  Unnamed: 4  Unnamed: 5  Unnamed: 6\n",
       "0  1928  0.4381  0.0308  0.0084         NaN         NaN         NaN\n",
       "1  1929  -0.083  0.0316   0.042         NaN         NaN         NaN\n",
       "2  1930 -0.2512  0.0455  0.0454         NaN         NaN         NaN\n",
       "3  1931 -0.4384  0.0231 -0.0256         NaN         NaN         NaN\n",
       "4  1932 -0.0864  0.0107  0.0879         NaN         NaN         NaN"
      ]
     },
     "execution_count": 85,
     "metadata": {},
     "output_type": "execute_result"
    }
   ],
   "source": [
    "ds.head()"
   ]
  },
  {
   "cell_type": "code",
   "execution_count": 106,
   "id": "9dbf527e",
   "metadata": {},
   "outputs": [
    {
     "name": "stdout",
     "output_type": "stream",
     "text": [
      "<class 'pandas.core.frame.DataFrame'>\n",
      "RangeIndex: 77 entries, 0 to 76\n",
      "Data columns (total 7 columns):\n",
      " #   Column      Non-Null Count  Dtype  \n",
      "---  ------      --------------  -----  \n",
      " 0   Year        75 non-null     object \n",
      " 1   Stocks      76 non-null     object \n",
      " 2   T.Bills     76 non-null     object \n",
      " 3   T.Bonds     76 non-null     object \n",
      " 4   Unnamed: 4  0 non-null      float64\n",
      " 5   Unnamed: 5  0 non-null      float64\n",
      " 6   Unnamed: 6  0 non-null      float64\n",
      "dtypes: float64(3), object(4)\n",
      "memory usage: 4.3+ KB\n"
     ]
    }
   ],
   "source": [
    "ds.info()"
   ]
  },
  {
   "cell_type": "code",
   "execution_count": 107,
   "id": "4ffb789d",
   "metadata": {},
   "outputs": [
    {
     "data": {
      "text/plain": [
       "array([1928, 1929, 1930, 1931, 1932, 1933, 1934, 1935, 1936, 1937, 1938,\n",
       "       1939, 1940, 1941, 1942, 1943, 1944, 1945, 1946, 1947, 1948, 1949,\n",
       "       1950, 1951, 1952, 1953, 1954, 1955, 1956, 1957, 1958, 1959, 1960,\n",
       "       1961, 1962, 1963, 1964, 1965, 1966, 1967, 1968, 1969, 1970, 1971,\n",
       "       1972, 1973, 1974, 1975, 1976, 1977, 1978, 1979, 1980, 1981, 1982,\n",
       "       1983, 1984, 1985, 1986, 1987, 1988, 1989, 1990, 1991, 1992, 1993,\n",
       "       1994, 1995, 1996, 1997, 1998, 1999, 2000, 2001, nan, 'averages'],\n",
       "      dtype=object)"
      ]
     },
     "execution_count": 107,
     "metadata": {},
     "output_type": "execute_result"
    }
   ],
   "source": [
    "ds.Year.unique()"
   ]
  },
  {
   "cell_type": "markdown",
   "id": "7dbe9401",
   "metadata": {},
   "source": [
    "# Intro"
   ]
  },
  {
   "cell_type": "markdown",
   "id": "c3dd8266",
   "metadata": {},
   "source": [
    "Let's take a moment to understand the data presented. We have data from years 1928-2001, with columns named 'T.Bills' and 'T.Bonds'. After researching, I found some information on [Investopedia](https://www.investopedia.com/ask/answers/033115/what-are-differences-between-treasury-bond-and-treasury-note-and-treasury-bill-tbill.asp):\n",
    "\n",
    "Treasury bonds and bills (T-Bonds and T-Bills) are fixed-income securities, or ways to invest and save for the future. Treasuries are debt instruments, or a documented, binding obligation that provides funds to an entity in return for a promise from the entity to repay a lender or investor in accordance with terms of a contract. In return, investors are paid interest or a rate of return. When the bond matures (or maturity date), investors are paid the face value of the bond.\n",
    "\n",
    "All treasuries have zero default risk, which means they are guaranteed by full faith and credit of the U.S. govered - however, the safety offered by Treasuries comes with a lower ROI than their alternative, riskier counterparts; corporate bonds. Treasury bonds and bills have different maturity dates and pay interest in various ways. **T-Bonds** pay interest *every six months* and mature in 20 years or 30 years. **T-Bills** have shorter government securities, with maturities ranging from few days to 52 weeks and are sold at a discount from their face value. Treasury yields can rise and fall, depending on the market and economic conditions. For example, yields fell significantly during the COVID-19 pandemic of 2020.\n",
    "\n",
    "**T-Bonds Characteristics:**  \n",
    "\n",
    "Purchasers of T-bonds receive a fixed-interest payment every six months. Upon maturity, the investor is paid the face value of the bond.4 Treasury bonds pay the highest interest rates compared to Treasury notes and bills because investors are compensated for locking their money up for the longer term. For the same reason, the prices at which they are issued fluctuate more than the other forms of government investment.\n",
    "\n",
    "Treasury bonds are issued at monthly online auctions held directly by the U.S. Treasury, where they are sold in multiples of $100. A bond's price and its yield are determined during the auction. After that, T-bonds are traded actively in the secondary market and can be purchased through a bank or broker.\n",
    "\n",
    "At maturity, investors can hold the bond until it matures and redeem it for cash on maturity date, or sell the bond in secondary market before it matures. However, the face value is not guaranteed if the bond is sold before maturity, meaning investors could incur a loss when comparing the purchase price and sale price. Investors must hold their T-bonds for a minimum of 45 days before they can be sold on the secondary market. Benefits of T-Bonds include:\n",
    "\n",
    "\n",
    "- Keep a portion of individual investor's retirement savings risk-free.\n",
    "- Obtain steady income in retirement.\n",
    "- Can be used as a savings for child education or other major expenses.\n",
    "- Diversify an equity portfolio so bonds offer reduced risk and volatility while providing a stream of income. \n",
    "\n",
    "**T-Bills Characteristics**\n",
    "\n",
    "Unlike Treasury bonds and notes, T-bills do not pay periodic interest payments to investors. Instead, Treasury bills are auctioned off to investors at a discount to their face value. The investor's return is the difference between the face value and the discount price paid at purchase.9\n",
    "\n",
    "For example, an investor might purchase a Treasury bill with a \\\\$1,000 face value for a \\\\$950 purchase price. At maturity, the investor is paid \\\\$1,000. The $50 difference between the \\\\$950 purchase price and the \\\\$1,000 face value is considered the interest.\n",
    "\n",
    "Just like Treasury bonds and notes, T-bills have zero default risk since they're backed by the U.S. government. As a result, T-bills tend to pay less interest than corporate bonds since corporate bonds have the potential of defaulting, which leads investors to demand higher interest from corporates to compensate for the added risk.\n",
    "\n",
    "**Investment:**\n",
    "\n",
    "Deciding when to invest in T-Bonds or bills depends on the investor's risk tolerance and/or time horizon. If money is needed in the short-term, T-Bill might be best. For those with a longer time horizon, T-Bonds might be better. Typically, the longer the maturity, the higher the ROI. "
   ]
  },
  {
   "cell_type": "markdown",
   "id": "f3a55386",
   "metadata": {},
   "source": [
    "# Cleaning"
   ]
  },
  {
   "cell_type": "code",
   "execution_count": 87,
   "id": "b6a5fdf5",
   "metadata": {},
   "outputs": [
    {
     "data": {
      "text/plain": [
       "Year           2\n",
       "Stocks         1\n",
       "T.Bills        1\n",
       "T.Bonds        1\n",
       "Unnamed: 4    77\n",
       "Unnamed: 5    77\n",
       "Unnamed: 6    77\n",
       "dtype: int64"
      ]
     },
     "execution_count": 87,
     "metadata": {},
     "output_type": "execute_result"
    }
   ],
   "source": [
    "# Check nulls\n",
    "ds.isnull().sum()"
   ]
  },
  {
   "cell_type": "code",
   "execution_count": 88,
   "id": "dead63ba",
   "metadata": {},
   "outputs": [
    {
     "data": {
      "text/html": [
       "<div>\n",
       "<style scoped>\n",
       "    .dataframe tbody tr th:only-of-type {\n",
       "        vertical-align: middle;\n",
       "    }\n",
       "\n",
       "    .dataframe tbody tr th {\n",
       "        vertical-align: top;\n",
       "    }\n",
       "\n",
       "    .dataframe thead th {\n",
       "        text-align: right;\n",
       "    }\n",
       "</style>\n",
       "<table border=\"1\" class=\"dataframe\">\n",
       "  <thead>\n",
       "    <tr style=\"text-align: right;\">\n",
       "      <th></th>\n",
       "      <th>Year</th>\n",
       "      <th>T.Bills</th>\n",
       "      <th>T.Bonds</th>\n",
       "    </tr>\n",
       "  </thead>\n",
       "  <tbody>\n",
       "    <tr>\n",
       "      <th>0</th>\n",
       "      <td>1928</td>\n",
       "      <td>0.0308</td>\n",
       "      <td>0.0084</td>\n",
       "    </tr>\n",
       "    <tr>\n",
       "      <th>1</th>\n",
       "      <td>1929</td>\n",
       "      <td>0.0316</td>\n",
       "      <td>0.042</td>\n",
       "    </tr>\n",
       "    <tr>\n",
       "      <th>2</th>\n",
       "      <td>1930</td>\n",
       "      <td>0.0455</td>\n",
       "      <td>0.0454</td>\n",
       "    </tr>\n",
       "    <tr>\n",
       "      <th>3</th>\n",
       "      <td>1931</td>\n",
       "      <td>0.0231</td>\n",
       "      <td>-0.0256</td>\n",
       "    </tr>\n",
       "    <tr>\n",
       "      <th>4</th>\n",
       "      <td>1932</td>\n",
       "      <td>0.0107</td>\n",
       "      <td>0.0879</td>\n",
       "    </tr>\n",
       "    <tr>\n",
       "      <th>...</th>\n",
       "      <td>...</td>\n",
       "      <td>...</td>\n",
       "      <td>...</td>\n",
       "    </tr>\n",
       "    <tr>\n",
       "      <th>72</th>\n",
       "      <td>2000</td>\n",
       "      <td>0.0537</td>\n",
       "      <td>0.1666</td>\n",
       "    </tr>\n",
       "    <tr>\n",
       "      <th>73</th>\n",
       "      <td>2001</td>\n",
       "      <td>0.0573</td>\n",
       "      <td>0.0557</td>\n",
       "    </tr>\n",
       "    <tr>\n",
       "      <th>74</th>\n",
       "      <td>NaN</td>\n",
       "      <td>NaN</td>\n",
       "      <td>NaN</td>\n",
       "    </tr>\n",
       "    <tr>\n",
       "      <th>75</th>\n",
       "      <td>NaN</td>\n",
       "      <td>tbills</td>\n",
       "      <td>bonds</td>\n",
       "    </tr>\n",
       "    <tr>\n",
       "      <th>76</th>\n",
       "      <td>averages</td>\n",
       "      <td>0.039603</td>\n",
       "      <td>0.052149</td>\n",
       "    </tr>\n",
       "  </tbody>\n",
       "</table>\n",
       "<p>77 rows × 3 columns</p>\n",
       "</div>"
      ],
      "text/plain": [
       "        Year   T.Bills   T.Bonds\n",
       "0       1928    0.0308    0.0084\n",
       "1       1929    0.0316     0.042\n",
       "2       1930    0.0455    0.0454\n",
       "3       1931    0.0231   -0.0256\n",
       "4       1932    0.0107    0.0879\n",
       "..       ...       ...       ...\n",
       "72      2000    0.0537    0.1666\n",
       "73      2001    0.0573    0.0557\n",
       "74       NaN       NaN       NaN\n",
       "75       NaN    tbills     bonds\n",
       "76  averages  0.039603  0.052149\n",
       "\n",
       "[77 rows x 3 columns]"
      ]
     },
     "execution_count": 88,
     "metadata": {},
     "output_type": "execute_result"
    }
   ],
   "source": [
    "df = ds[['Year', 'T.Bills', 'T.Bonds']]\n",
    "df"
   ]
  },
  {
   "cell_type": "code",
   "execution_count": 89,
   "id": "f5444f1e",
   "metadata": {},
   "outputs": [],
   "source": [
    "# Drop 74:76 rows\n",
    "idx = [74, 75, 76]\n",
    "df = df.drop(index=idx)"
   ]
  },
  {
   "cell_type": "code",
   "execution_count": 90,
   "id": "998f9a2c",
   "metadata": {},
   "outputs": [],
   "source": [
    "#df.Year = pd.DatetimeIndex(df.Year).year"
   ]
  },
  {
   "cell_type": "code",
   "execution_count": 92,
   "id": "95874a34",
   "metadata": {},
   "outputs": [],
   "source": [
    "# Make conversions\n",
    "df.Year = df.Year.astype(int)\n",
    "df['T.Bills'] = df['T.Bills'].astype(float)\n",
    "df['T.Bonds'] = df['T.Bonds'].astype(float)"
   ]
  },
  {
   "cell_type": "code",
   "execution_count": 93,
   "id": "5a7d9b65",
   "metadata": {},
   "outputs": [
    {
     "data": {
      "text/plain": [
       "Year         int32\n",
       "T.Bills    float64\n",
       "T.Bonds    float64\n",
       "dtype: object"
      ]
     },
     "execution_count": 93,
     "metadata": {},
     "output_type": "execute_result"
    }
   ],
   "source": [
    "df.dtypes"
   ]
  },
  {
   "cell_type": "code",
   "execution_count": 94,
   "id": "94645d2b",
   "metadata": {},
   "outputs": [
    {
     "data": {
      "text/plain": [
       "array([1928, 1929, 1930, 1931, 1932, 1933, 1934, 1935, 1936, 1937, 1938,\n",
       "       1939, 1940, 1941, 1942, 1943, 1944, 1945, 1946, 1947, 1948, 1949,\n",
       "       1950, 1951, 1952, 1953, 1954, 1955, 1956, 1957, 1958, 1959, 1960,\n",
       "       1961, 1962, 1963, 1964, 1965, 1966, 1967, 1968, 1969, 1970, 1971,\n",
       "       1972, 1973, 1974, 1975, 1976, 1977, 1978, 1979, 1980, 1981, 1982,\n",
       "       1983, 1984, 1985, 1986, 1987, 1988, 1989, 1990, 1991, 1992, 1993,\n",
       "       1994, 1995, 1996, 1997, 1998, 1999, 2000, 2001])"
      ]
     },
     "execution_count": 94,
     "metadata": {},
     "output_type": "execute_result"
    }
   ],
   "source": [
    "df.Year.unique()"
   ]
  },
  {
   "cell_type": "markdown",
   "id": "141f330f",
   "metadata": {},
   "source": [
    "# Data Transformation"
   ]
  },
  {
   "cell_type": "code",
   "execution_count": 95,
   "id": "d9f9823c",
   "metadata": {},
   "outputs": [
    {
     "name": "stdout",
     "output_type": "stream",
     "text": [
      "<class 'pandas.core.frame.DataFrame'>\n",
      "Int64Index: 74 entries, 0 to 73\n",
      "Data columns (total 3 columns):\n",
      " #   Column   Non-Null Count  Dtype  \n",
      "---  ------   --------------  -----  \n",
      " 0   Year     74 non-null     int32  \n",
      " 1   T.Bills  74 non-null     float64\n",
      " 2   T.Bonds  74 non-null     float64\n",
      "dtypes: float64(2), int32(1)\n",
      "memory usage: 2.0 KB\n"
     ]
    }
   ],
   "source": [
    "df.info()"
   ]
  },
  {
   "cell_type": "code",
   "execution_count": 96,
   "id": "95434a0a",
   "metadata": {},
   "outputs": [
    {
     "data": {
      "text/html": [
       "<div>\n",
       "<style scoped>\n",
       "    .dataframe tbody tr th:only-of-type {\n",
       "        vertical-align: middle;\n",
       "    }\n",
       "\n",
       "    .dataframe tbody tr th {\n",
       "        vertical-align: top;\n",
       "    }\n",
       "\n",
       "    .dataframe thead th {\n",
       "        text-align: right;\n",
       "    }\n",
       "</style>\n",
       "<table border=\"1\" class=\"dataframe\">\n",
       "  <thead>\n",
       "    <tr style=\"text-align: right;\">\n",
       "      <th></th>\n",
       "      <th>Year</th>\n",
       "      <th>T.Bills</th>\n",
       "      <th>T.Bonds</th>\n",
       "    </tr>\n",
       "  </thead>\n",
       "  <tbody>\n",
       "    <tr>\n",
       "      <th>count</th>\n",
       "      <td>74.000000</td>\n",
       "      <td>74.000000</td>\n",
       "      <td>74.000000</td>\n",
       "    </tr>\n",
       "    <tr>\n",
       "      <th>mean</th>\n",
       "      <td>1964.500000</td>\n",
       "      <td>0.039603</td>\n",
       "      <td>0.052149</td>\n",
       "    </tr>\n",
       "    <tr>\n",
       "      <th>std</th>\n",
       "      <td>21.505813</td>\n",
       "      <td>0.031646</td>\n",
       "      <td>0.076273</td>\n",
       "    </tr>\n",
       "    <tr>\n",
       "      <th>min</th>\n",
       "      <td>1928.000000</td>\n",
       "      <td>0.000200</td>\n",
       "      <td>-0.082500</td>\n",
       "    </tr>\n",
       "    <tr>\n",
       "      <th>25%</th>\n",
       "      <td>1946.250000</td>\n",
       "      <td>0.011525</td>\n",
       "      <td>0.010125</td>\n",
       "    </tr>\n",
       "    <tr>\n",
       "      <th>50%</th>\n",
       "      <td>1964.500000</td>\n",
       "      <td>0.036800</td>\n",
       "      <td>0.034500</td>\n",
       "    </tr>\n",
       "    <tr>\n",
       "      <th>75%</th>\n",
       "      <td>1982.750000</td>\n",
       "      <td>0.055825</td>\n",
       "      <td>0.081400</td>\n",
       "    </tr>\n",
       "    <tr>\n",
       "      <th>max</th>\n",
       "      <td>2001.000000</td>\n",
       "      <td>0.154900</td>\n",
       "      <td>0.328100</td>\n",
       "    </tr>\n",
       "  </tbody>\n",
       "</table>\n",
       "</div>"
      ],
      "text/plain": [
       "              Year    T.Bills    T.Bonds\n",
       "count    74.000000  74.000000  74.000000\n",
       "mean   1964.500000   0.039603   0.052149\n",
       "std      21.505813   0.031646   0.076273\n",
       "min    1928.000000   0.000200  -0.082500\n",
       "25%    1946.250000   0.011525   0.010125\n",
       "50%    1964.500000   0.036800   0.034500\n",
       "75%    1982.750000   0.055825   0.081400\n",
       "max    2001.000000   0.154900   0.328100"
      ]
     },
     "execution_count": 96,
     "metadata": {},
     "output_type": "execute_result"
    }
   ],
   "source": [
    "df.describe()"
   ]
  },
  {
   "cell_type": "code",
   "execution_count": 97,
   "id": "bf342603",
   "metadata": {},
   "outputs": [
    {
     "data": {
      "text/plain": [
       "Year       0.0\n",
       "T.Bills    0.0\n",
       "T.Bonds    0.0\n",
       "dtype: float64"
      ]
     },
     "execution_count": 97,
     "metadata": {},
     "output_type": "execute_result"
    }
   ],
   "source": [
    "# Check percentage of nulls per column\n",
    "df.isnull().sum()/len(df)"
   ]
  },
  {
   "cell_type": "code",
   "execution_count": 98,
   "id": "d686d2b2",
   "metadata": {},
   "outputs": [
    {
     "data": {
      "text/html": [
       "<div>\n",
       "<style scoped>\n",
       "    .dataframe tbody tr th:only-of-type {\n",
       "        vertical-align: middle;\n",
       "    }\n",
       "\n",
       "    .dataframe tbody tr th {\n",
       "        vertical-align: top;\n",
       "    }\n",
       "\n",
       "    .dataframe thead th {\n",
       "        text-align: right;\n",
       "    }\n",
       "</style>\n",
       "<table border=\"1\" class=\"dataframe\">\n",
       "  <thead>\n",
       "    <tr style=\"text-align: right;\">\n",
       "      <th></th>\n",
       "      <th>T.Bills</th>\n",
       "      <th>T.Bonds</th>\n",
       "    </tr>\n",
       "    <tr>\n",
       "      <th>Year</th>\n",
       "      <th></th>\n",
       "      <th></th>\n",
       "    </tr>\n",
       "  </thead>\n",
       "  <tbody>\n",
       "    <tr>\n",
       "      <th>1928</th>\n",
       "      <td>0.0308</td>\n",
       "      <td>0.0084</td>\n",
       "    </tr>\n",
       "    <tr>\n",
       "      <th>1929</th>\n",
       "      <td>0.0316</td>\n",
       "      <td>0.0420</td>\n",
       "    </tr>\n",
       "    <tr>\n",
       "      <th>1930</th>\n",
       "      <td>0.0455</td>\n",
       "      <td>0.0454</td>\n",
       "    </tr>\n",
       "    <tr>\n",
       "      <th>1931</th>\n",
       "      <td>0.0231</td>\n",
       "      <td>-0.0256</td>\n",
       "    </tr>\n",
       "    <tr>\n",
       "      <th>1932</th>\n",
       "      <td>0.0107</td>\n",
       "      <td>0.0879</td>\n",
       "    </tr>\n",
       "  </tbody>\n",
       "</table>\n",
       "</div>"
      ],
      "text/plain": [
       "      T.Bills  T.Bonds\n",
       "Year                  \n",
       "1928   0.0308   0.0084\n",
       "1929   0.0316   0.0420\n",
       "1930   0.0455   0.0454\n",
       "1931   0.0231  -0.0256\n",
       "1932   0.0107   0.0879"
      ]
     },
     "execution_count": 98,
     "metadata": {},
     "output_type": "execute_result"
    }
   ],
   "source": [
    "df_indexed = df.set_index('Year')\n",
    "df_indexed.head()"
   ]
  },
  {
   "cell_type": "code",
   "execution_count": 99,
   "id": "ed648f84",
   "metadata": {},
   "outputs": [],
   "source": [
    "df_melt = df.melt(id_vars=['Year'], value_name='stocks')"
   ]
  },
  {
   "cell_type": "code",
   "execution_count": 100,
   "id": "a8dc0d30",
   "metadata": {},
   "outputs": [
    {
     "data": {
      "text/html": [
       "<div>\n",
       "<style scoped>\n",
       "    .dataframe tbody tr th:only-of-type {\n",
       "        vertical-align: middle;\n",
       "    }\n",
       "\n",
       "    .dataframe tbody tr th {\n",
       "        vertical-align: top;\n",
       "    }\n",
       "\n",
       "    .dataframe thead th {\n",
       "        text-align: right;\n",
       "    }\n",
       "</style>\n",
       "<table border=\"1\" class=\"dataframe\">\n",
       "  <thead>\n",
       "    <tr style=\"text-align: right;\">\n",
       "      <th></th>\n",
       "      <th>Year</th>\n",
       "      <th>variable</th>\n",
       "      <th>stocks</th>\n",
       "    </tr>\n",
       "  </thead>\n",
       "  <tbody>\n",
       "    <tr>\n",
       "      <th>0</th>\n",
       "      <td>1928</td>\n",
       "      <td>T.Bills</td>\n",
       "      <td>0.0308</td>\n",
       "    </tr>\n",
       "    <tr>\n",
       "      <th>1</th>\n",
       "      <td>1929</td>\n",
       "      <td>T.Bills</td>\n",
       "      <td>0.0316</td>\n",
       "    </tr>\n",
       "    <tr>\n",
       "      <th>2</th>\n",
       "      <td>1930</td>\n",
       "      <td>T.Bills</td>\n",
       "      <td>0.0455</td>\n",
       "    </tr>\n",
       "    <tr>\n",
       "      <th>3</th>\n",
       "      <td>1931</td>\n",
       "      <td>T.Bills</td>\n",
       "      <td>0.0231</td>\n",
       "    </tr>\n",
       "    <tr>\n",
       "      <th>4</th>\n",
       "      <td>1932</td>\n",
       "      <td>T.Bills</td>\n",
       "      <td>0.0107</td>\n",
       "    </tr>\n",
       "    <tr>\n",
       "      <th>...</th>\n",
       "      <td>...</td>\n",
       "      <td>...</td>\n",
       "      <td>...</td>\n",
       "    </tr>\n",
       "    <tr>\n",
       "      <th>143</th>\n",
       "      <td>1997</td>\n",
       "      <td>T.Bonds</td>\n",
       "      <td>0.0994</td>\n",
       "    </tr>\n",
       "    <tr>\n",
       "      <th>144</th>\n",
       "      <td>1998</td>\n",
       "      <td>T.Bonds</td>\n",
       "      <td>0.1492</td>\n",
       "    </tr>\n",
       "    <tr>\n",
       "      <th>145</th>\n",
       "      <td>1999</td>\n",
       "      <td>T.Bonds</td>\n",
       "      <td>-0.0825</td>\n",
       "    </tr>\n",
       "    <tr>\n",
       "      <th>146</th>\n",
       "      <td>2000</td>\n",
       "      <td>T.Bonds</td>\n",
       "      <td>0.1666</td>\n",
       "    </tr>\n",
       "    <tr>\n",
       "      <th>147</th>\n",
       "      <td>2001</td>\n",
       "      <td>T.Bonds</td>\n",
       "      <td>0.0557</td>\n",
       "    </tr>\n",
       "  </tbody>\n",
       "</table>\n",
       "<p>148 rows × 3 columns</p>\n",
       "</div>"
      ],
      "text/plain": [
       "     Year variable  stocks\n",
       "0    1928  T.Bills  0.0308\n",
       "1    1929  T.Bills  0.0316\n",
       "2    1930  T.Bills  0.0455\n",
       "3    1931  T.Bills  0.0231\n",
       "4    1932  T.Bills  0.0107\n",
       "..    ...      ...     ...\n",
       "143  1997  T.Bonds  0.0994\n",
       "144  1998  T.Bonds  0.1492\n",
       "145  1999  T.Bonds -0.0825\n",
       "146  2000  T.Bonds  0.1666\n",
       "147  2001  T.Bonds  0.0557\n",
       "\n",
       "[148 rows x 3 columns]"
      ]
     },
     "execution_count": 100,
     "metadata": {},
     "output_type": "execute_result"
    }
   ],
   "source": [
    "df_melt"
   ]
  },
  {
   "cell_type": "code",
   "execution_count": 101,
   "id": "9cecc4a0",
   "metadata": {},
   "outputs": [
    {
     "data": {
      "text/plain": [
       "array([1928, 1929, 1930, 1931, 1932, 1933, 1934, 1935, 1936, 1937, 1938,\n",
       "       1939, 1940, 1941, 1942, 1943, 1944, 1945, 1946, 1947, 1948, 1949,\n",
       "       1950, 1951, 1952, 1953, 1954, 1955, 1956, 1957, 1958, 1959, 1960,\n",
       "       1961, 1962, 1963, 1964, 1965, 1966, 1967, 1968, 1969, 1970, 1971,\n",
       "       1972, 1973, 1974, 1975, 1976, 1977, 1978, 1979, 1980, 1981, 1982,\n",
       "       1983, 1984, 1985, 1986, 1987, 1988, 1989, 1990, 1991, 1992, 1993,\n",
       "       1994, 1995, 1996, 1997, 1998, 1999, 2000, 2001])"
      ]
     },
     "execution_count": 101,
     "metadata": {},
     "output_type": "execute_result"
    }
   ],
   "source": [
    "df_melt.Year.unique()"
   ]
  },
  {
   "cell_type": "code",
   "execution_count": 102,
   "id": "fb35bcf0",
   "metadata": {},
   "outputs": [],
   "source": [
    "# Pivot table; index by Year and variable\n",
    "pivoted = df_melt.pivot_table(index=['Year', 'variable'])"
   ]
  },
  {
   "cell_type": "code",
   "execution_count": 103,
   "id": "868b8f91",
   "metadata": {},
   "outputs": [
    {
     "data": {
      "text/html": [
       "<div>\n",
       "<style scoped>\n",
       "    .dataframe tbody tr th:only-of-type {\n",
       "        vertical-align: middle;\n",
       "    }\n",
       "\n",
       "    .dataframe tbody tr th {\n",
       "        vertical-align: top;\n",
       "    }\n",
       "\n",
       "    .dataframe thead th {\n",
       "        text-align: right;\n",
       "    }\n",
       "</style>\n",
       "<table border=\"1\" class=\"dataframe\">\n",
       "  <thead>\n",
       "    <tr style=\"text-align: right;\">\n",
       "      <th></th>\n",
       "      <th></th>\n",
       "      <th>stocks</th>\n",
       "    </tr>\n",
       "    <tr>\n",
       "      <th>Year</th>\n",
       "      <th>variable</th>\n",
       "      <th></th>\n",
       "    </tr>\n",
       "  </thead>\n",
       "  <tbody>\n",
       "    <tr>\n",
       "      <th rowspan=\"2\" valign=\"top\">1928</th>\n",
       "      <th>T.Bills</th>\n",
       "      <td>0.0308</td>\n",
       "    </tr>\n",
       "    <tr>\n",
       "      <th>T.Bonds</th>\n",
       "      <td>0.0084</td>\n",
       "    </tr>\n",
       "    <tr>\n",
       "      <th rowspan=\"2\" valign=\"top\">1929</th>\n",
       "      <th>T.Bills</th>\n",
       "      <td>0.0316</td>\n",
       "    </tr>\n",
       "    <tr>\n",
       "      <th>T.Bonds</th>\n",
       "      <td>0.0420</td>\n",
       "    </tr>\n",
       "    <tr>\n",
       "      <th>1930</th>\n",
       "      <th>T.Bills</th>\n",
       "      <td>0.0455</td>\n",
       "    </tr>\n",
       "    <tr>\n",
       "      <th>...</th>\n",
       "      <th>...</th>\n",
       "      <td>...</td>\n",
       "    </tr>\n",
       "    <tr>\n",
       "      <th>1999</th>\n",
       "      <th>T.Bonds</th>\n",
       "      <td>-0.0825</td>\n",
       "    </tr>\n",
       "    <tr>\n",
       "      <th rowspan=\"2\" valign=\"top\">2000</th>\n",
       "      <th>T.Bills</th>\n",
       "      <td>0.0537</td>\n",
       "    </tr>\n",
       "    <tr>\n",
       "      <th>T.Bonds</th>\n",
       "      <td>0.1666</td>\n",
       "    </tr>\n",
       "    <tr>\n",
       "      <th rowspan=\"2\" valign=\"top\">2001</th>\n",
       "      <th>T.Bills</th>\n",
       "      <td>0.0573</td>\n",
       "    </tr>\n",
       "    <tr>\n",
       "      <th>T.Bonds</th>\n",
       "      <td>0.0557</td>\n",
       "    </tr>\n",
       "  </tbody>\n",
       "</table>\n",
       "<p>148 rows × 1 columns</p>\n",
       "</div>"
      ],
      "text/plain": [
       "               stocks\n",
       "Year variable        \n",
       "1928 T.Bills   0.0308\n",
       "     T.Bonds   0.0084\n",
       "1929 T.Bills   0.0316\n",
       "     T.Bonds   0.0420\n",
       "1930 T.Bills   0.0455\n",
       "...               ...\n",
       "1999 T.Bonds  -0.0825\n",
       "2000 T.Bills   0.0537\n",
       "     T.Bonds   0.1666\n",
       "2001 T.Bills   0.0573\n",
       "     T.Bonds   0.0557\n",
       "\n",
       "[148 rows x 1 columns]"
      ]
     },
     "execution_count": 103,
     "metadata": {},
     "output_type": "execute_result"
    }
   ],
   "source": [
    "pivoted"
   ]
  },
  {
   "cell_type": "markdown",
   "id": "c0a654a2",
   "metadata": {},
   "source": [
    "# EDA"
   ]
  },
  {
   "cell_type": "code",
   "execution_count": 105,
   "id": "b8a5663f",
   "metadata": {},
   "outputs": [
    {
     "data": {
      "image/png": "[encoded data removed]",
      "text/plain": [
       "<Figure size 1152x720 with 1 Axes>"
      ]
     },
     "metadata": {},
     "output_type": "display_data"
    }
   ],
   "source": [
    "# Line plot T.Bills vs. T.Bonds from 1928 to 2001\n",
    "plt.style.use('seaborn')\n",
    "plt.figure(figsize=(16,10))\n",
    "sns.lineplot(data=pivoted.reset_index(), x='Year', y='stocks', hue='variable', palette='mako', linewidth= 2.0)\n",
    "plt.ylabel('Stocks')\n",
    "plt.title('T.Bills vs. T.Bonds from 1928 to 2001')\n",
    "plt.show()"
   ]
  },
  {
   "cell_type": "code",
   "execution_count": null,
   "id": "6547b52d",
   "metadata": {},
   "outputs": [],
   "source": []
  }
 ],
 "metadata": {
  "kernelspec": {
   "display_name": "Python 3",
   "language": "python",
   "name": "python3"
  },
  "language_info": {
   "codemirror_mode": {
    "name": "ipython",
    "version": 3
   },
   "file_extension": ".py",
   "mimetype": "text/x-python",
   "name": "python",
   "nbconvert_exporter": "python",
   "pygments_lexer": "ipython3",
   "version": "3.8.8"
  },
  "toc": {
   "base_numbering": 1,
   "nav_menu": {},
   "number_sections": true,
   "sideBar": true,
   "skip_h1_title": false,
   "title_cell": "Table of Contents",
   "title_sidebar": "Contents",
   "toc_cell": true,
   "toc_position": {
    "height": "calc(100% - 180px)",
    "left": "10px",
    "top": "150px",
    "width": "415.99px"
   },
   "toc_section_display": true,
   "toc_window_display": true
  }
 },
 "nbformat": 4,
 "nbformat_minor": 5
}
