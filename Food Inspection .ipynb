{
 "cells": [
  {
   "cell_type": "markdown",
   "id": "39feebc5",
   "metadata": {
    "toc": true
   },
   "source": [
    "<h1>Table of Contents<span class=\"tocSkip\"></span></h1>\n",
    "<div class=\"toc\"><ul class=\"toc-item\"></ul></div>"
   ]
  },
  {
   "cell_type": "code",
   "execution_count": 33,
   "id": "88254dbf",
   "metadata": {},
   "outputs": [],
   "source": [
    "import pandas as pd\n",
    "import numpy as np\n",
    "import matplotlib.pyplot as pyplot\n",
    "%matplotlib inline"
   ]
  },
  {
   "cell_type": "code",
   "execution_count": 34,
   "id": "d7102079",
   "metadata": {},
   "outputs": [
    {
     "name": "stdout",
     "output_type": "stream",
     "text": [
      "<class 'pandas.core.frame.DataFrame'>\n",
      "RangeIndex: 190795 entries, 0 to 190794\n",
      "Data columns (total 22 columns):\n",
      " #   Column                      Non-Null Count   Dtype         \n",
      "---  ------                      --------------   -----         \n",
      " 0   Name                        190795 non-null  object        \n",
      " 1   Program Identifier          190732 non-null  object        \n",
      " 2   Inspection Date             190490 non-null  datetime64[ns]\n",
      " 3   Description                 190795 non-null  object        \n",
      " 4   Address                     190766 non-null  object        \n",
      " 5   City                        190795 non-null  object        \n",
      " 6   Zip Code                    190795 non-null  int64         \n",
      " 7   Phone                       123246 non-null  object        \n",
      " 8   Longitude                   190537 non-null  float64       \n",
      " 9   Latitude                    190537 non-null  float64       \n",
      " 10  Inspection Business Name    190490 non-null  object        \n",
      " 11  Inspection Type             190490 non-null  object        \n",
      " 12  Inspection Score            190410 non-null  float64       \n",
      " 13  Inspection Result           190490 non-null  object        \n",
      " 14  Inspection Closed Business  190490 non-null  float64       \n",
      " 15  Violation Type              108854 non-null  object        \n",
      " 16  Violation Description       108854 non-null  object        \n",
      " 17  Violation Points            190795 non-null  int64         \n",
      " 18  Business_ID                 190795 non-null  object        \n",
      " 19  Inspection_Serial_Num       190490 non-null  object        \n",
      " 20  Violation_Record_ID         108854 non-null  object        \n",
      " 21  Location                    0 non-null       float64       \n",
      "dtypes: datetime64[ns](1), float64(5), int64(2), object(14)\n",
      "memory usage: 32.0+ MB\n"
     ]
    }
   ],
   "source": [
    "path = r'Q:\\ExcelDataAnalysis-BusinessModeling\\food_inspection_xls.xlsx'\n",
    "df = pd.read_excel(path)\n",
    "df.info()"
   ]
  },
  {
   "cell_type": "code",
   "execution_count": 35,
   "id": "e4756e71",
   "metadata": {},
   "outputs": [
    {
     "data": {
      "text/plain": [
       "array(['SEATTLE', 'Seattle', 'Renton', 'BELLEVUE', 'KENT', 'KENMORE',\n",
       "       'Bellevue', 'Issaquah', 'Bothell', 'WOODINVILLE', 'Kent', 'RENTON',\n",
       "       'FEDERAL WAY', 'Kirkland', 'Auburn', 'BURIEN', 'Federal Way',\n",
       "       'DES MOINES', 'SHORELINE', 'Redmond', 'Woodinville',\n",
       "       'Maple Valley', 'BLACK DIAMOND', 'REDMOND', 'BOTHELL', 'COVINGTON',\n",
       "       'AUBURN', 'KIRKLAND', 'SNOQUALMIE', 'ENUMCLAW', 'TUKWILA',\n",
       "       'LAKE FOREST PARK', 'SAMMAMISH', 'ISSAQUAH', 'MAPLE VALLEY',\n",
       "       'NORMANDY PARK', 'MERCER ISLAND', 'NORTH BEND', 'SEA TAC',\n",
       "       'VASHON ISLAND', 'SEATAC', 'Mercer Island', 'Pacific', 'NEWCASTLE',\n",
       "       'North Bend', 'Duvall', 'SEAHURST', 'Enumclaw', 'CLYDE HILL',\n",
       "       'DUVALL', 'SNOQUALMIE PASS', 'PACIFIC', 'Black Diamond',\n",
       "       'Snoqualmie', 'Carnation', 'PRESTON', 'KING COUNTY', 'Vashon',\n",
       "       'CARNATION', 'Skykomish', 'Fall City', 'ALGONA', 'SEATTLE, SOUTH',\n",
       "       'Baring', 'FALL CITY', 'LYNNWOOD', 'MOUNTLAKE TERRACE', 'HOBART',\n",
       "       'EVERETT', 'RAVENSDALE', 'MEDINA', 'Medina', 'Ravensdale',\n",
       "       'OUT OF KING COUNTY', 'SKYKOMISH', 'TACOMA'], dtype=object)"
      ]
     },
     "execution_count": 35,
     "metadata": {},
     "output_type": "execute_result"
    }
   ],
   "source": [
    "# Look at the unique city names\n",
    "df['City'].unique()"
   ]
  },
  {
   "cell_type": "code",
   "execution_count": 36,
   "id": "f23ec4aa",
   "metadata": {},
   "outputs": [],
   "source": [
    "df['City'] = df['City'].astype(str)"
   ]
  },
  {
   "cell_type": "code",
   "execution_count": 37,
   "id": "dc9691b6",
   "metadata": {},
   "outputs": [],
   "source": [
    "# Remove symbols in phone number\n",
    "df['Phone'] = df['Phone'].str.replace(pat=\"\\(|\\)|-|=\", repl=\"\", regex=True)"
   ]
  },
  {
   "cell_type": "code",
   "execution_count": 38,
   "id": "ea2276ab",
   "metadata": {},
   "outputs": [],
   "source": [
    "# Remove letters in phone number\n",
    "df['Phone'] = df['Phone'].str.replace(pat=\"EXT\", repl=\"\", regex=True)"
   ]
  },
  {
   "cell_type": "code",
   "execution_count": 39,
   "id": "0b47189c",
   "metadata": {},
   "outputs": [],
   "source": [
    "# Remove letters in phone number\n",
    "df['Phone'] = df['Phone'].str.replace(pat=\"X\", repl=\"\", regex=True)"
   ]
  },
  {
   "cell_type": "code",
   "execution_count": 40,
   "id": "0007f240",
   "metadata": {},
   "outputs": [],
   "source": [
    "df['Phone'] = df['Phone'].str.replace(' ', '')"
   ]
  },
  {
   "cell_type": "code",
   "execution_count": 41,
   "id": "3263cc70",
   "metadata": {},
   "outputs": [
    {
     "data": {
      "text/plain": [
       "array(['2069471460', nan, '2062714968', ..., '3606980417', '2065750500',\n",
       "       '2067818600'], dtype=object)"
      ]
     },
     "execution_count": 41,
     "metadata": {},
     "output_type": "execute_result"
    }
   ],
   "source": [
    "df['Phone'].unique()"
   ]
  },
  {
   "cell_type": "code",
   "execution_count": 42,
   "id": "344f1df6",
   "metadata": {},
   "outputs": [],
   "source": [
    "# Remove NaNs\n",
    "df = df[df['Phone'].notna()]\n",
    "df = df[df['Phone'] != 'nan']"
   ]
  },
  {
   "cell_type": "code",
   "execution_count": 43,
   "id": "210cfaf8",
   "metadata": {},
   "outputs": [],
   "source": [
    "# Remove NaNs\n",
    "df = df[df['Inspection Score'].notna()]\n",
    "df = df[df['Inspection Score'] != 'nan']"
   ]
  },
  {
   "cell_type": "code",
   "execution_count": 44,
   "id": "9ad29ecc",
   "metadata": {},
   "outputs": [],
   "source": [
    "#"
   ]
  },
  {
   "cell_type": "code",
   "execution_count": 45,
   "id": "9f587d9a",
   "metadata": {},
   "outputs": [
    {
     "data": {
      "text/plain": [
       "0         2069471460\n",
       "1         2069471460\n",
       "2         2069471460\n",
       "3         2069471460\n",
       "4         2069471460\n",
       "             ...    \n",
       "190790    2067818600\n",
       "190791    2067818600\n",
       "190792    2067818600\n",
       "190793    2067818600\n",
       "190794    2067818600\n",
       "Name: Phone, Length: 122934, dtype: object"
      ]
     },
     "execution_count": 45,
     "metadata": {},
     "output_type": "execute_result"
    }
   ],
   "source": [
    "df['Phone'].apply(lambda x: ' '.join(x[:10].split(' ')[:-1]) if len(x) > 10 else x)"
   ]
  },
  {
   "cell_type": "code",
   "execution_count": 46,
   "id": "d2359829",
   "metadata": {},
   "outputs": [],
   "source": [
    "# Convert inspection score to int\n",
    "df['Inspection Score'] = df['Inspection Score'].astype(int)"
   ]
  },
  {
   "cell_type": "code",
   "execution_count": 47,
   "id": "c69de797",
   "metadata": {},
   "outputs": [
    {
     "data": {
      "text/plain": [
       "array(['2069471460', '2062714968', '4253731068', ..., '3606980417',\n",
       "       '2065750500', '2067818600'], dtype=object)"
      ]
     },
     "execution_count": 47,
     "metadata": {},
     "output_type": "execute_result"
    }
   ],
   "source": [
    "# look at column values again\n",
    "df['Phone'].unique()"
   ]
  },
  {
   "cell_type": "code",
   "execution_count": 48,
   "id": "aca8bdd9",
   "metadata": {},
   "outputs": [
    {
     "data": {
      "text/plain": [
       "array([ 25,   0,   5,  20,  30,   8,  13,  10,  38,  28,   3,  12,  55,\n",
       "        40,  23,  35,  18,  15,  50,   2,  26,  45,  47,  37,  41,  51,\n",
       "        33,   7,  32,  22,   4,  58,  17,  65,  60,  27,  21,   6,  43,\n",
       "        36,  88,  70, 100,  48,  63,  24,  19,  16, 103,  31,  75,  11,\n",
       "        52,  53,  68,  57,  64,  34,  42,  46,  44,  82,  80, 110,  90,\n",
       "        67,  14,  39,  29,  56,  85,  61,  59,  72,  73,  74, 152,  71,\n",
       "        62,  87,  66,  98,   9,  86,  93,  96,  95,  54,  78, 122,  83,\n",
       "       168,  81, 126,  49, 118,  91, 105, 138,  99, 104, 108, 101, 136,\n",
       "        92,  76,  69, 135,  77, 129, 151,  94, 690, 195, 149, 120, 128,\n",
       "       166, 125, -30, 111, 102, 109, 132])"
      ]
     },
     "execution_count": 48,
     "metadata": {},
     "output_type": "execute_result"
    }
   ],
   "source": [
    "df['Inspection Score'].unique()"
   ]
  },
  {
   "cell_type": "code",
   "execution_count": 49,
   "id": "f449b057",
   "metadata": {},
   "outputs": [],
   "source": [
    "df = df[df['Inspection Score'] > 0]"
   ]
  },
  {
   "cell_type": "code",
   "execution_count": 50,
   "id": "3f84e193",
   "metadata": {},
   "outputs": [
    {
     "data": {
      "text/plain": [
       "array([ 25,   5,  20,  30,   8,  13,  10,  38,  28,   3,  12,  55,  40,\n",
       "        23,  35,  18,  15,  50,   2,  26,  45,  47,  37,  41,  51,  33,\n",
       "         7,  32,  22,   4,  58,  17,  65,  60,  27,  21,   6,  43,  36,\n",
       "        88,  70, 100,  48,  63,  24,  19,  16, 103,  31,  75,  11,  52,\n",
       "        53,  68,  57,  64,  34,  42,  46,  44,  82,  80, 110,  90,  67,\n",
       "        14,  39,  29,  56,  85,  61,  59,  72,  73,  74, 152,  71,  62,\n",
       "        87,  66,  98,   9,  86,  93,  96,  95,  54,  78, 122,  83, 168,\n",
       "        81, 126,  49, 118,  91, 105, 138,  99, 104, 108, 101, 136,  92,\n",
       "        76,  69, 135,  77, 129, 151,  94, 690, 195, 149, 120, 128, 166,\n",
       "       125, 111, 102, 109, 132])"
      ]
     },
     "execution_count": 50,
     "metadata": {},
     "output_type": "execute_result"
    }
   ],
   "source": [
    "df['Inspection Score'].unique()"
   ]
  },
  {
   "cell_type": "code",
   "execution_count": 51,
   "id": "9cdc1231",
   "metadata": {},
   "outputs": [
    {
     "name": "stdout",
     "output_type": "stream",
     "text": [
      "74469\n"
     ]
    }
   ],
   "source": [
    "print(len(df))"
   ]
  },
  {
   "cell_type": "code",
   "execution_count": 52,
   "id": "3fcae6ea",
   "metadata": {},
   "outputs": [
    {
     "data": {
      "text/html": [
       "<div>\n",
       "<style scoped>\n",
       "    .dataframe tbody tr th:only-of-type {\n",
       "        vertical-align: middle;\n",
       "    }\n",
       "\n",
       "    .dataframe tbody tr th {\n",
       "        vertical-align: top;\n",
       "    }\n",
       "\n",
       "    .dataframe thead th {\n",
       "        text-align: right;\n",
       "    }\n",
       "</style>\n",
       "<table border=\"1\" class=\"dataframe\">\n",
       "  <thead>\n",
       "    <tr style=\"text-align: right;\">\n",
       "      <th></th>\n",
       "      <th>Name</th>\n",
       "      <th>Program Identifier</th>\n",
       "      <th>Inspection Date</th>\n",
       "      <th>Description</th>\n",
       "      <th>Address</th>\n",
       "      <th>City</th>\n",
       "      <th>Zip Code</th>\n",
       "      <th>Phone</th>\n",
       "      <th>Longitude</th>\n",
       "      <th>Latitude</th>\n",
       "      <th>...</th>\n",
       "      <th>Inspection Score</th>\n",
       "      <th>Inspection Result</th>\n",
       "      <th>Inspection Closed Business</th>\n",
       "      <th>Violation Type</th>\n",
       "      <th>Violation Description</th>\n",
       "      <th>Violation Points</th>\n",
       "      <th>Business_ID</th>\n",
       "      <th>Inspection_Serial_Num</th>\n",
       "      <th>Violation_Record_ID</th>\n",
       "      <th>Location</th>\n",
       "    </tr>\n",
       "  </thead>\n",
       "  <tbody>\n",
       "    <tr>\n",
       "      <th>0</th>\n",
       "      <td>@ The PEAK</td>\n",
       "      <td>@ The PEAK</td>\n",
       "      <td>2013-01-25</td>\n",
       "      <td>Seating 13-50 - Risk Category III</td>\n",
       "      <td>401 BROADWAY</td>\n",
       "      <td>SEATTLE</td>\n",
       "      <td>98122</td>\n",
       "      <td>2069471460</td>\n",
       "      <td>-122.321198</td>\n",
       "      <td>47.605624</td>\n",
       "      <td>...</td>\n",
       "      <td>25</td>\n",
       "      <td>Unsatisfactory</td>\n",
       "      <td>0.0</td>\n",
       "      <td>blue</td>\n",
       "      <td>Warewashing facilities not properly installed,...</td>\n",
       "      <td>5</td>\n",
       "      <td>PR0071429</td>\n",
       "      <td>DA2409066</td>\n",
       "      <td>IV6475299</td>\n",
       "      <td>NaN</td>\n",
       "    </tr>\n",
       "    <tr>\n",
       "      <th>1</th>\n",
       "      <td>@ The PEAK</td>\n",
       "      <td>@ The PEAK</td>\n",
       "      <td>2013-01-25</td>\n",
       "      <td>Seating 13-50 - Risk Category III</td>\n",
       "      <td>401 BROADWAY</td>\n",
       "      <td>SEATTLE</td>\n",
       "      <td>98122</td>\n",
       "      <td>2069471460</td>\n",
       "      <td>-122.321198</td>\n",
       "      <td>47.605624</td>\n",
       "      <td>...</td>\n",
       "      <td>25</td>\n",
       "      <td>Unsatisfactory</td>\n",
       "      <td>0.0</td>\n",
       "      <td>blue</td>\n",
       "      <td>Wiping cloths improperly used, stored</td>\n",
       "      <td>5</td>\n",
       "      <td>PR0071429</td>\n",
       "      <td>DA2409066</td>\n",
       "      <td>IV6475303</td>\n",
       "      <td>NaN</td>\n",
       "    </tr>\n",
       "    <tr>\n",
       "      <th>2</th>\n",
       "      <td>@ The PEAK</td>\n",
       "      <td>@ The PEAK</td>\n",
       "      <td>2013-01-25</td>\n",
       "      <td>Seating 13-50 - Risk Category III</td>\n",
       "      <td>401 BROADWAY</td>\n",
       "      <td>SEATTLE</td>\n",
       "      <td>98122</td>\n",
       "      <td>2069471460</td>\n",
       "      <td>-122.321198</td>\n",
       "      <td>47.605624</td>\n",
       "      <td>...</td>\n",
       "      <td>25</td>\n",
       "      <td>Unsatisfactory</td>\n",
       "      <td>0.0</td>\n",
       "      <td>red</td>\n",
       "      <td>Food worker card not available or current, new...</td>\n",
       "      <td>5</td>\n",
       "      <td>PR0071429</td>\n",
       "      <td>DA2409066</td>\n",
       "      <td>IV6475296</td>\n",
       "      <td>NaN</td>\n",
       "    </tr>\n",
       "    <tr>\n",
       "      <th>3</th>\n",
       "      <td>@ The PEAK</td>\n",
       "      <td>@ The PEAK</td>\n",
       "      <td>2013-01-25</td>\n",
       "      <td>Seating 13-50 - Risk Category III</td>\n",
       "      <td>401 BROADWAY</td>\n",
       "      <td>SEATTLE</td>\n",
       "      <td>98122</td>\n",
       "      <td>2069471460</td>\n",
       "      <td>-122.321198</td>\n",
       "      <td>47.605624</td>\n",
       "      <td>...</td>\n",
       "      <td>25</td>\n",
       "      <td>Unsatisfactory</td>\n",
       "      <td>0.0</td>\n",
       "      <td>red</td>\n",
       "      <td>Inadequate hand washing facilities</td>\n",
       "      <td>10</td>\n",
       "      <td>PR0071429</td>\n",
       "      <td>DA2409066</td>\n",
       "      <td>IV6475278</td>\n",
       "      <td>NaN</td>\n",
       "    </tr>\n",
       "    <tr>\n",
       "      <th>5</th>\n",
       "      <td>@ The PEAK</td>\n",
       "      <td>@ The PEAK</td>\n",
       "      <td>2012-05-02</td>\n",
       "      <td>Seating 13-50 - Risk Category III</td>\n",
       "      <td>401 BROADWAY</td>\n",
       "      <td>SEATTLE</td>\n",
       "      <td>98122</td>\n",
       "      <td>2069471460</td>\n",
       "      <td>-122.321198</td>\n",
       "      <td>47.605624</td>\n",
       "      <td>...</td>\n",
       "      <td>5</td>\n",
       "      <td>Satisfactory</td>\n",
       "      <td>0.0</td>\n",
       "      <td>blue</td>\n",
       "      <td>Warewashing facilities not properly installed,...</td>\n",
       "      <td>5</td>\n",
       "      <td>PR0071429</td>\n",
       "      <td>DA2330069</td>\n",
       "      <td>IV5290066</td>\n",
       "      <td>NaN</td>\n",
       "    </tr>\n",
       "  </tbody>\n",
       "</table>\n",
       "<p>5 rows × 22 columns</p>\n",
       "</div>"
      ],
      "text/plain": [
       "         Name Program Identifier Inspection Date  \\\n",
       "0  @ The PEAK         @ The PEAK      2013-01-25   \n",
       "1  @ The PEAK         @ The PEAK      2013-01-25   \n",
       "2  @ The PEAK         @ The PEAK      2013-01-25   \n",
       "3  @ The PEAK         @ The PEAK      2013-01-25   \n",
       "5  @ The PEAK         @ The PEAK      2012-05-02   \n",
       "\n",
       "                         Description        Address     City  Zip Code  \\\n",
       "0  Seating 13-50 - Risk Category III  401 BROADWAY   SEATTLE     98122   \n",
       "1  Seating 13-50 - Risk Category III  401 BROADWAY   SEATTLE     98122   \n",
       "2  Seating 13-50 - Risk Category III  401 BROADWAY   SEATTLE     98122   \n",
       "3  Seating 13-50 - Risk Category III  401 BROADWAY   SEATTLE     98122   \n",
       "5  Seating 13-50 - Risk Category III  401 BROADWAY   SEATTLE     98122   \n",
       "\n",
       "        Phone   Longitude   Latitude  ... Inspection Score Inspection Result  \\\n",
       "0  2069471460 -122.321198  47.605624  ...               25    Unsatisfactory   \n",
       "1  2069471460 -122.321198  47.605624  ...               25    Unsatisfactory   \n",
       "2  2069471460 -122.321198  47.605624  ...               25    Unsatisfactory   \n",
       "3  2069471460 -122.321198  47.605624  ...               25    Unsatisfactory   \n",
       "5  2069471460 -122.321198  47.605624  ...                5      Satisfactory   \n",
       "\n",
       "   Inspection Closed Business Violation Type  \\\n",
       "0                         0.0           blue   \n",
       "1                         0.0           blue   \n",
       "2                         0.0            red   \n",
       "3                         0.0            red   \n",
       "5                         0.0           blue   \n",
       "\n",
       "                               Violation Description Violation Points  \\\n",
       "0  Warewashing facilities not properly installed,...                5   \n",
       "1              Wiping cloths improperly used, stored                5   \n",
       "2  Food worker card not available or current, new...                5   \n",
       "3                 Inadequate hand washing facilities               10   \n",
       "5  Warewashing facilities not properly installed,...                5   \n",
       "\n",
       "  Business_ID  Inspection_Serial_Num Violation_Record_ID Location  \n",
       "0   PR0071429              DA2409066           IV6475299      NaN  \n",
       "1   PR0071429              DA2409066           IV6475303      NaN  \n",
       "2   PR0071429              DA2409066           IV6475296      NaN  \n",
       "3   PR0071429              DA2409066           IV6475278      NaN  \n",
       "5   PR0071429              DA2330069           IV5290066      NaN  \n",
       "\n",
       "[5 rows x 22 columns]"
      ]
     },
     "execution_count": 52,
     "metadata": {},
     "output_type": "execute_result"
    }
   ],
   "source": [
    "df.head()"
   ]
  },
  {
   "cell_type": "code",
   "execution_count": 53,
   "id": "988f3274",
   "metadata": {},
   "outputs": [],
   "source": [
    "# Drop 'Location'\n",
    "df = df.drop(columns='Location')"
   ]
  },
  {
   "cell_type": "code",
   "execution_count": 60,
   "id": "8faf4591",
   "metadata": {},
   "outputs": [],
   "source": [
    "# We're going to fix the City names by lowercasing the entire string and then capitalizing first letter only\n",
    "df['City'] = df['City'].str.lower()"
   ]
  },
  {
   "cell_type": "code",
   "execution_count": 63,
   "id": "dc605ce4",
   "metadata": {},
   "outputs": [],
   "source": [
    "# uppercase first letter only \n",
    "df['City'] = df['City'].str.capitalize()"
   ]
  },
  {
   "cell_type": "code",
   "execution_count": 65,
   "id": "c5d20b7d",
   "metadata": {},
   "outputs": [
    {
     "data": {
      "text/html": [
       "<div>\n",
       "<style scoped>\n",
       "    .dataframe tbody tr th:only-of-type {\n",
       "        vertical-align: middle;\n",
       "    }\n",
       "\n",
       "    .dataframe tbody tr th {\n",
       "        vertical-align: top;\n",
       "    }\n",
       "\n",
       "    .dataframe thead th {\n",
       "        text-align: right;\n",
       "    }\n",
       "</style>\n",
       "<table border=\"1\" class=\"dataframe\">\n",
       "  <thead>\n",
       "    <tr style=\"text-align: right;\">\n",
       "      <th></th>\n",
       "      <th>Name</th>\n",
       "      <th>Program Identifier</th>\n",
       "      <th>Inspection Date</th>\n",
       "      <th>Description</th>\n",
       "      <th>Address</th>\n",
       "      <th>City</th>\n",
       "      <th>Zip Code</th>\n",
       "      <th>Phone</th>\n",
       "      <th>Longitude</th>\n",
       "      <th>Latitude</th>\n",
       "      <th>...</th>\n",
       "      <th>Inspection Type</th>\n",
       "      <th>Inspection Score</th>\n",
       "      <th>Inspection Result</th>\n",
       "      <th>Inspection Closed Business</th>\n",
       "      <th>Violation Type</th>\n",
       "      <th>Violation Description</th>\n",
       "      <th>Violation Points</th>\n",
       "      <th>Business_ID</th>\n",
       "      <th>Inspection_Serial_Num</th>\n",
       "      <th>Violation_Record_ID</th>\n",
       "    </tr>\n",
       "  </thead>\n",
       "  <tbody>\n",
       "    <tr>\n",
       "      <th>0</th>\n",
       "      <td>@ The PEAK</td>\n",
       "      <td>@ The PEAK</td>\n",
       "      <td>2013-01-25</td>\n",
       "      <td>Seating 13-50 - Risk Category III</td>\n",
       "      <td>401 BROADWAY</td>\n",
       "      <td>Seattle</td>\n",
       "      <td>98122</td>\n",
       "      <td>2069471460</td>\n",
       "      <td>-122.321198</td>\n",
       "      <td>47.605624</td>\n",
       "      <td>...</td>\n",
       "      <td>Routine Inspection/Field Review</td>\n",
       "      <td>25</td>\n",
       "      <td>Unsatisfactory</td>\n",
       "      <td>0.0</td>\n",
       "      <td>blue</td>\n",
       "      <td>Warewashing facilities not properly installed,...</td>\n",
       "      <td>5</td>\n",
       "      <td>PR0071429</td>\n",
       "      <td>DA2409066</td>\n",
       "      <td>IV6475299</td>\n",
       "    </tr>\n",
       "    <tr>\n",
       "      <th>1</th>\n",
       "      <td>@ The PEAK</td>\n",
       "      <td>@ The PEAK</td>\n",
       "      <td>2013-01-25</td>\n",
       "      <td>Seating 13-50 - Risk Category III</td>\n",
       "      <td>401 BROADWAY</td>\n",
       "      <td>Seattle</td>\n",
       "      <td>98122</td>\n",
       "      <td>2069471460</td>\n",
       "      <td>-122.321198</td>\n",
       "      <td>47.605624</td>\n",
       "      <td>...</td>\n",
       "      <td>Routine Inspection/Field Review</td>\n",
       "      <td>25</td>\n",
       "      <td>Unsatisfactory</td>\n",
       "      <td>0.0</td>\n",
       "      <td>blue</td>\n",
       "      <td>Wiping cloths improperly used, stored</td>\n",
       "      <td>5</td>\n",
       "      <td>PR0071429</td>\n",
       "      <td>DA2409066</td>\n",
       "      <td>IV6475303</td>\n",
       "    </tr>\n",
       "    <tr>\n",
       "      <th>2</th>\n",
       "      <td>@ The PEAK</td>\n",
       "      <td>@ The PEAK</td>\n",
       "      <td>2013-01-25</td>\n",
       "      <td>Seating 13-50 - Risk Category III</td>\n",
       "      <td>401 BROADWAY</td>\n",
       "      <td>Seattle</td>\n",
       "      <td>98122</td>\n",
       "      <td>2069471460</td>\n",
       "      <td>-122.321198</td>\n",
       "      <td>47.605624</td>\n",
       "      <td>...</td>\n",
       "      <td>Routine Inspection/Field Review</td>\n",
       "      <td>25</td>\n",
       "      <td>Unsatisfactory</td>\n",
       "      <td>0.0</td>\n",
       "      <td>red</td>\n",
       "      <td>Food worker card not available or current, new...</td>\n",
       "      <td>5</td>\n",
       "      <td>PR0071429</td>\n",
       "      <td>DA2409066</td>\n",
       "      <td>IV6475296</td>\n",
       "    </tr>\n",
       "    <tr>\n",
       "      <th>3</th>\n",
       "      <td>@ The PEAK</td>\n",
       "      <td>@ The PEAK</td>\n",
       "      <td>2013-01-25</td>\n",
       "      <td>Seating 13-50 - Risk Category III</td>\n",
       "      <td>401 BROADWAY</td>\n",
       "      <td>Seattle</td>\n",
       "      <td>98122</td>\n",
       "      <td>2069471460</td>\n",
       "      <td>-122.321198</td>\n",
       "      <td>47.605624</td>\n",
       "      <td>...</td>\n",
       "      <td>Routine Inspection/Field Review</td>\n",
       "      <td>25</td>\n",
       "      <td>Unsatisfactory</td>\n",
       "      <td>0.0</td>\n",
       "      <td>red</td>\n",
       "      <td>Inadequate hand washing facilities</td>\n",
       "      <td>10</td>\n",
       "      <td>PR0071429</td>\n",
       "      <td>DA2409066</td>\n",
       "      <td>IV6475278</td>\n",
       "    </tr>\n",
       "    <tr>\n",
       "      <th>5</th>\n",
       "      <td>@ The PEAK</td>\n",
       "      <td>@ The PEAK</td>\n",
       "      <td>2012-05-02</td>\n",
       "      <td>Seating 13-50 - Risk Category III</td>\n",
       "      <td>401 BROADWAY</td>\n",
       "      <td>Seattle</td>\n",
       "      <td>98122</td>\n",
       "      <td>2069471460</td>\n",
       "      <td>-122.321198</td>\n",
       "      <td>47.605624</td>\n",
       "      <td>...</td>\n",
       "      <td>Routine Inspection/Field Review</td>\n",
       "      <td>5</td>\n",
       "      <td>Satisfactory</td>\n",
       "      <td>0.0</td>\n",
       "      <td>blue</td>\n",
       "      <td>Warewashing facilities not properly installed,...</td>\n",
       "      <td>5</td>\n",
       "      <td>PR0071429</td>\n",
       "      <td>DA2330069</td>\n",
       "      <td>IV5290066</td>\n",
       "    </tr>\n",
       "  </tbody>\n",
       "</table>\n",
       "<p>5 rows × 21 columns</p>\n",
       "</div>"
      ],
      "text/plain": [
       "         Name Program Identifier Inspection Date  \\\n",
       "0  @ The PEAK         @ The PEAK      2013-01-25   \n",
       "1  @ The PEAK         @ The PEAK      2013-01-25   \n",
       "2  @ The PEAK         @ The PEAK      2013-01-25   \n",
       "3  @ The PEAK         @ The PEAK      2013-01-25   \n",
       "5  @ The PEAK         @ The PEAK      2012-05-02   \n",
       "\n",
       "                         Description        Address     City  Zip Code  \\\n",
       "0  Seating 13-50 - Risk Category III  401 BROADWAY   Seattle     98122   \n",
       "1  Seating 13-50 - Risk Category III  401 BROADWAY   Seattle     98122   \n",
       "2  Seating 13-50 - Risk Category III  401 BROADWAY   Seattle     98122   \n",
       "3  Seating 13-50 - Risk Category III  401 BROADWAY   Seattle     98122   \n",
       "5  Seating 13-50 - Risk Category III  401 BROADWAY   Seattle     98122   \n",
       "\n",
       "        Phone   Longitude   Latitude  ...                  Inspection Type  \\\n",
       "0  2069471460 -122.321198  47.605624  ...  Routine Inspection/Field Review   \n",
       "1  2069471460 -122.321198  47.605624  ...  Routine Inspection/Field Review   \n",
       "2  2069471460 -122.321198  47.605624  ...  Routine Inspection/Field Review   \n",
       "3  2069471460 -122.321198  47.605624  ...  Routine Inspection/Field Review   \n",
       "5  2069471460 -122.321198  47.605624  ...  Routine Inspection/Field Review   \n",
       "\n",
       "  Inspection Score  Inspection Result Inspection Closed Business  \\\n",
       "0               25     Unsatisfactory                        0.0   \n",
       "1               25     Unsatisfactory                        0.0   \n",
       "2               25     Unsatisfactory                        0.0   \n",
       "3               25     Unsatisfactory                        0.0   \n",
       "5                5       Satisfactory                        0.0   \n",
       "\n",
       "   Violation Type                              Violation Description  \\\n",
       "0            blue  Warewashing facilities not properly installed,...   \n",
       "1            blue              Wiping cloths improperly used, stored   \n",
       "2             red  Food worker card not available or current, new...   \n",
       "3             red                 Inadequate hand washing facilities   \n",
       "5            blue  Warewashing facilities not properly installed,...   \n",
       "\n",
       "  Violation Points  Business_ID Inspection_Serial_Num Violation_Record_ID  \n",
       "0                5    PR0071429             DA2409066           IV6475299  \n",
       "1                5    PR0071429             DA2409066           IV6475303  \n",
       "2                5    PR0071429             DA2409066           IV6475296  \n",
       "3               10    PR0071429             DA2409066           IV6475278  \n",
       "5                5    PR0071429             DA2330069           IV5290066  \n",
       "\n",
       "[5 rows x 21 columns]"
      ]
     },
     "execution_count": 65,
     "metadata": {},
     "output_type": "execute_result"
    }
   ],
   "source": [
    "df.head()"
   ]
  },
  {
   "cell_type": "markdown",
   "id": "2ec0f137",
   "metadata": {},
   "source": [
    "What kind of information do we want here? For one, we could map our venues using the longitude and latitude parameters. Second, we could first determine what the threshold inspection score is for satisfactory and look at which venues passed. I can create two dataframes then. "
   ]
  },
  {
   "cell_type": "code",
   "execution_count": 67,
   "id": "b90d8224",
   "metadata": {},
   "outputs": [],
   "source": [
    "df_inspection = df[['Name','Inspection Date', 'Address', 'City', 'Inspection Type', 'Inspection Score', 'Inspection Result', 'Violation Type', 'Violation Points', 'Inspection_Serial_Num',]]"
   ]
  },
  {
   "cell_type": "code",
   "execution_count": 68,
   "id": "98588eb9",
   "metadata": {},
   "outputs": [
    {
     "data": {
      "text/html": [
       "<div>\n",
       "<style scoped>\n",
       "    .dataframe tbody tr th:only-of-type {\n",
       "        vertical-align: middle;\n",
       "    }\n",
       "\n",
       "    .dataframe tbody tr th {\n",
       "        vertical-align: top;\n",
       "    }\n",
       "\n",
       "    .dataframe thead th {\n",
       "        text-align: right;\n",
       "    }\n",
       "</style>\n",
       "<table border=\"1\" class=\"dataframe\">\n",
       "  <thead>\n",
       "    <tr style=\"text-align: right;\">\n",
       "      <th></th>\n",
       "      <th>Name</th>\n",
       "      <th>Inspection Date</th>\n",
       "      <th>Address</th>\n",
       "      <th>City</th>\n",
       "      <th>Inspection Type</th>\n",
       "      <th>Inspection Score</th>\n",
       "      <th>Inspection Result</th>\n",
       "      <th>Violation Type</th>\n",
       "      <th>Violation Points</th>\n",
       "      <th>Inspection_Serial_Num</th>\n",
       "    </tr>\n",
       "  </thead>\n",
       "  <tbody>\n",
       "    <tr>\n",
       "      <th>0</th>\n",
       "      <td>@ The PEAK</td>\n",
       "      <td>2013-01-25</td>\n",
       "      <td>401 BROADWAY</td>\n",
       "      <td>Seattle</td>\n",
       "      <td>Routine Inspection/Field Review</td>\n",
       "      <td>25</td>\n",
       "      <td>Unsatisfactory</td>\n",
       "      <td>blue</td>\n",
       "      <td>5</td>\n",
       "      <td>DA2409066</td>\n",
       "    </tr>\n",
       "    <tr>\n",
       "      <th>1</th>\n",
       "      <td>@ The PEAK</td>\n",
       "      <td>2013-01-25</td>\n",
       "      <td>401 BROADWAY</td>\n",
       "      <td>Seattle</td>\n",
       "      <td>Routine Inspection/Field Review</td>\n",
       "      <td>25</td>\n",
       "      <td>Unsatisfactory</td>\n",
       "      <td>blue</td>\n",
       "      <td>5</td>\n",
       "      <td>DA2409066</td>\n",
       "    </tr>\n",
       "    <tr>\n",
       "      <th>2</th>\n",
       "      <td>@ The PEAK</td>\n",
       "      <td>2013-01-25</td>\n",
       "      <td>401 BROADWAY</td>\n",
       "      <td>Seattle</td>\n",
       "      <td>Routine Inspection/Field Review</td>\n",
       "      <td>25</td>\n",
       "      <td>Unsatisfactory</td>\n",
       "      <td>red</td>\n",
       "      <td>5</td>\n",
       "      <td>DA2409066</td>\n",
       "    </tr>\n",
       "    <tr>\n",
       "      <th>3</th>\n",
       "      <td>@ The PEAK</td>\n",
       "      <td>2013-01-25</td>\n",
       "      <td>401 BROADWAY</td>\n",
       "      <td>Seattle</td>\n",
       "      <td>Routine Inspection/Field Review</td>\n",
       "      <td>25</td>\n",
       "      <td>Unsatisfactory</td>\n",
       "      <td>red</td>\n",
       "      <td>10</td>\n",
       "      <td>DA2409066</td>\n",
       "    </tr>\n",
       "    <tr>\n",
       "      <th>5</th>\n",
       "      <td>@ The PEAK</td>\n",
       "      <td>2012-05-02</td>\n",
       "      <td>401 BROADWAY</td>\n",
       "      <td>Seattle</td>\n",
       "      <td>Routine Inspection/Field Review</td>\n",
       "      <td>5</td>\n",
       "      <td>Satisfactory</td>\n",
       "      <td>blue</td>\n",
       "      <td>5</td>\n",
       "      <td>DA2330069</td>\n",
       "    </tr>\n",
       "  </tbody>\n",
       "</table>\n",
       "</div>"
      ],
      "text/plain": [
       "         Name Inspection Date        Address     City  \\\n",
       "0  @ The PEAK      2013-01-25  401 BROADWAY   Seattle   \n",
       "1  @ The PEAK      2013-01-25  401 BROADWAY   Seattle   \n",
       "2  @ The PEAK      2013-01-25  401 BROADWAY   Seattle   \n",
       "3  @ The PEAK      2013-01-25  401 BROADWAY   Seattle   \n",
       "5  @ The PEAK      2012-05-02  401 BROADWAY   Seattle   \n",
       "\n",
       "                   Inspection Type  Inspection Score Inspection Result  \\\n",
       "0  Routine Inspection/Field Review                25    Unsatisfactory   \n",
       "1  Routine Inspection/Field Review                25    Unsatisfactory   \n",
       "2  Routine Inspection/Field Review                25    Unsatisfactory   \n",
       "3  Routine Inspection/Field Review                25    Unsatisfactory   \n",
       "5  Routine Inspection/Field Review                 5      Satisfactory   \n",
       "\n",
       "  Violation Type  Violation Points Inspection_Serial_Num  \n",
       "0           blue                 5             DA2409066  \n",
       "1           blue                 5             DA2409066  \n",
       "2            red                 5             DA2409066  \n",
       "3            red                10             DA2409066  \n",
       "5           blue                 5             DA2330069  "
      ]
     },
     "execution_count": 68,
     "metadata": {},
     "output_type": "execute_result"
    }
   ],
   "source": [
    "df_inspection.head()"
   ]
  },
  {
   "cell_type": "code",
   "execution_count": 69,
   "id": "dd4b19f5",
   "metadata": {},
   "outputs": [
    {
     "data": {
      "text/html": [
       "<div>\n",
       "<style scoped>\n",
       "    .dataframe tbody tr th:only-of-type {\n",
       "        vertical-align: middle;\n",
       "    }\n",
       "\n",
       "    .dataframe tbody tr th {\n",
       "        vertical-align: top;\n",
       "    }\n",
       "\n",
       "    .dataframe thead th {\n",
       "        text-align: right;\n",
       "    }\n",
       "</style>\n",
       "<table border=\"1\" class=\"dataframe\">\n",
       "  <thead>\n",
       "    <tr style=\"text-align: right;\">\n",
       "      <th></th>\n",
       "      <th>Inspection Score</th>\n",
       "      <th>Inspection Result</th>\n",
       "    </tr>\n",
       "  </thead>\n",
       "  <tbody>\n",
       "    <tr>\n",
       "      <th>0</th>\n",
       "      <td>25</td>\n",
       "      <td>Unsatisfactory</td>\n",
       "    </tr>\n",
       "    <tr>\n",
       "      <th>1</th>\n",
       "      <td>25</td>\n",
       "      <td>Unsatisfactory</td>\n",
       "    </tr>\n",
       "    <tr>\n",
       "      <th>2</th>\n",
       "      <td>25</td>\n",
       "      <td>Unsatisfactory</td>\n",
       "    </tr>\n",
       "    <tr>\n",
       "      <th>3</th>\n",
       "      <td>25</td>\n",
       "      <td>Unsatisfactory</td>\n",
       "    </tr>\n",
       "    <tr>\n",
       "      <th>5</th>\n",
       "      <td>5</td>\n",
       "      <td>Satisfactory</td>\n",
       "    </tr>\n",
       "  </tbody>\n",
       "</table>\n",
       "</div>"
      ],
      "text/plain": [
       "   Inspection Score Inspection Result\n",
       "0                25    Unsatisfactory\n",
       "1                25    Unsatisfactory\n",
       "2                25    Unsatisfactory\n",
       "3                25    Unsatisfactory\n",
       "5                 5      Satisfactory"
      ]
     },
     "execution_count": 69,
     "metadata": {},
     "output_type": "execute_result"
    }
   ],
   "source": [
    "subset0 = df_inspection[['Inspection Score', 'Inspection Result']]\n",
    "subset0.head()"
   ]
  },
  {
   "cell_type": "code",
   "execution_count": 74,
   "id": "164064ed",
   "metadata": {},
   "outputs": [
    {
     "data": {
      "text/plain": [
       "array(['Unsatisfactory', 'Satisfactory', 'Complete', 'Baseline Data',\n",
       "       'Incomplete', 'Not Applicable', 'No Longer At Location',\n",
       "       'Confirmed', 'Not Confirmed', 'Positive', 'Not Permitted',\n",
       "       'Not Accessible'], dtype=object)"
      ]
     },
     "execution_count": 74,
     "metadata": {},
     "output_type": "execute_result"
    }
   ],
   "source": [
    "subset0['Inspection Result'].unique()"
   ]
  },
  {
   "cell_type": "code",
   "execution_count": 76,
   "id": "054f5566",
   "metadata": {},
   "outputs": [
    {
     "data": {
      "image/png": "[encoded data removed]",
      "text/plain": [
       "<Figure size 1296x432 with 1 Axes>"
      ]
     },
     "metadata": {
      "needs_background": "light"
     },
     "output_type": "display_data"
    }
   ],
   "source": [
    "import matplotlib.pyplot as plt\n",
    "\n",
    "# barplot total Inspection Score per Inspection Result\n",
    "plt.figure(figsize=(18,6))\n",
    "sns.barplot(x= 'Inspection Result', y='Inspection Score', data=subset0)\n",
    "plt.xlabel('Inspection Result Type')\n",
    "plt.title('Inspection Scores by Inspection Result')\n",
    "plt.ylabel('Inspection Scores')\n",
    "plt.show()"
   ]
  },
  {
   "cell_type": "code",
   "execution_count": null,
   "id": "767ed250",
   "metadata": {},
   "outputs": [],
   "source": []
  }
 ],
 "metadata": {
  "kernelspec": {
   "display_name": "Python 3",
   "language": "python",
   "name": "python3"
  },
  "language_info": {
   "codemirror_mode": {
    "name": "ipython",
    "version": 3
   },
   "file_extension": ".py",
   "mimetype": "text/x-python",
   "name": "python",
   "nbconvert_exporter": "python",
   "pygments_lexer": "ipython3",
   "version": "3.8.8"
  },
  "toc": {
   "base_numbering": 1,
   "nav_menu": {},
   "number_sections": true,
   "sideBar": true,
   "skip_h1_title": false,
   "title_cell": "Table of Contents",
   "title_sidebar": "Contents",
   "toc_cell": true,
   "toc_position": {},
   "toc_section_display": true,
   "toc_window_display": true
  }
 },
 "nbformat": 4,
 "nbformat_minor": 5
}
